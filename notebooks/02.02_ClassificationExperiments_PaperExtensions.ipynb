{
 "cells": [
  {
   "cell_type": "markdown",
   "metadata": {},
   "source": [
    "# Experiments - Improve Paper Results\n",
    "\n",
    "The goal of this notebook is explore additional algorithms and techniques to improve the results from the paper [Building a Sentiment Corpus of Tweets in Brazilian Portuguese](https://arxiv.org/abs/1712.08917)."
   ]
  },
  {
   "cell_type": "markdown",
   "metadata": {},
   "source": [
    "## Libraries and Settings\n",
    "\n",
    "Thirdy party libraries"
   ]
  },
  {
   "cell_type": "code",
   "execution_count": 1,
   "metadata": {},
   "outputs": [],
   "source": [
    "# General\n",
    "import os\n",
    "import sys\n",
    "import time\n",
    "import shutil\n",
    "import funcy as fp\n",
    "import numpy as np\n",
    "import pandas as pd\n",
    "from functools import partial\n",
    "\n",
    "# Visualization / Presentation\n",
    "from tqdm.notebook import tqdm\n",
    "import matplotlib.pyplot as plt\n",
    "import seaborn as sns\n",
    "from IPython.core.display import HTML, display\n",
    "\n",
    "# NLP Libraries e Functions\n",
    "import re\n",
    "import nlpnet\n",
    "import spacy\n",
    "from spacy.tokenizer import _get_regex_pattern\n",
    "from sklearn.pipeline import Pipeline\n",
    "from sklearn.feature_extraction.text import TfidfTransformer, HashingVectorizer, CountVectorizer\n",
    "\n",
    "# Model Training and Evaluation\n",
    "from sklearn import metrics\n",
    "from sklearn.naive_bayes import MultinomialNB\n",
    "from sklearn.naive_bayes import BernoulliNB\n",
    "from sklearn.linear_model import LogisticRegression\n",
    "from sklearn.neural_network import MLPClassifier\n",
    "from sklearn.tree import DecisionTreeClassifier\n",
    "from sklearn.svm import SVC, LinearSVC\n",
    "from sklearn.ensemble import RandomForestClassifier\n",
    "from sklearn.model_selection import KFold\n",
    "\n",
    "# Additional Models\n",
    "from lightgbm.sklearn import LGBMModel\n",
    "import xgboost as xgb\n",
    "import catboost\n",
    "from catboost import CatBoostClassifier\n",
    "from pytorch_tabnet.tab_model import TabNetClassifier\n",
    "import torch\n",
    "\n",
    "# Model Tracking\n",
    "import mlflow\n",
    "import mlflow.sklearn\n",
    "from mlflow.tracking import MlflowClient"
   ]
  },
  {
   "cell_type": "markdown",
   "metadata": {},
   "source": [
    "Internal libraries"
   ]
  },
  {
   "cell_type": "code",
   "execution_count": 2,
   "metadata": {},
   "outputs": [],
   "source": [
    "sys.path.append(os.path.abspath(os.path.pardir))\n",
    "\n",
    "from src import settings\n",
    "from src.pipeline.resources import load_corpus, load_stopwords\n",
    "from src.pipeline.general import clean_text\n",
    "from src.pipeline.executors import simple_pipeline_executor\n",
    "from src.pipeline.extractors import (extract_tokens_and_features, extract_features)\n",
    "from src.pipeline.token_processors import (process_negative_words, process_sentilex_word_polarity, process_token_pos_tag,\n",
    "                                           process_emoticon_polarity, process_emoji_polarity, process_token_polarity)\n",
    "from src.pipeline.sentence_processors import (process_negative_words_features, process_sentilex_polarity_features, process_pos_tag_features,\n",
    "                                              process_emoticon_polarity_features, process_emoji_polarity_features, process_polarity_features)\n",
    "from src.utils import y_hat_to_sparse, y_to_sparse, format_nested_parameters"
   ]
  },
  {
   "cell_type": "markdown",
   "metadata": {},
   "source": [
    "Presentation settings"
   ]
  },
  {
   "cell_type": "code",
   "execution_count": 3,
   "metadata": {},
   "outputs": [],
   "source": [
    "%matplotlib inline \n",
    "pd.set_option('max_colwidth', 150)"
   ]
  },
  {
   "cell_type": "markdown",
   "metadata": {},
   "source": [
    "Experiment settings"
   ]
  },
  {
   "cell_type": "code",
   "execution_count": 4,
   "metadata": {},
   "outputs": [],
   "source": [
    "EXPERIMENT_ID = 2\n",
    "EXPERIMENT_RUN_NAME = f'02_ImprovePaper'"
   ]
  },
  {
   "cell_type": "markdown",
   "metadata": {},
   "source": [
    "## Load and Split Dataset"
   ]
  },
  {
   "cell_type": "code",
   "execution_count": 5,
   "metadata": {},
   "outputs": [
    {
     "data": {
      "text/html": [
       "<div>\n",
       "<style scoped>\n",
       "    .dataframe tbody tr th:only-of-type {\n",
       "        vertical-align: middle;\n",
       "    }\n",
       "\n",
       "    .dataframe tbody tr th {\n",
       "        vertical-align: top;\n",
       "    }\n",
       "\n",
       "    .dataframe thead th {\n",
       "        text-align: right;\n",
       "    }\n",
       "</style>\n",
       "<table border=\"1\" class=\"dataframe\">\n",
       "  <thead>\n",
       "    <tr style=\"text-align: right;\">\n",
       "      <th></th>\n",
       "      <th>id</th>\n",
       "      <th>hashtag</th>\n",
       "      <th>votes</th>\n",
       "      <th>hard</th>\n",
       "      <th>sentiment</th>\n",
       "      <th>group</th>\n",
       "      <th>text</th>\n",
       "      <th>repeat</th>\n",
       "    </tr>\n",
       "  </thead>\n",
       "  <tbody>\n",
       "    <tr>\n",
       "      <th>0</th>\n",
       "      <td>863044774588272640</td>\n",
       "      <td>#encontro</td>\n",
       "      <td>[1, 1, 1, 1, 1, 1, 1]</td>\n",
       "      <td>0</td>\n",
       "      <td>1</td>\n",
       "      <td>test</td>\n",
       "      <td>que coisa linda O programa estava mostrando uma familia que adotou um adolescente de NUMBER anos que amor !</td>\n",
       "      <td>False</td>\n",
       "    </tr>\n",
       "    <tr>\n",
       "      <th>1</th>\n",
       "      <td>865583716088766467</td>\n",
       "      <td>#encontro</td>\n",
       "      <td>[1, 1, 1, 1, 1, 1, 1]</td>\n",
       "      <td>0</td>\n",
       "      <td>1</td>\n",
       "      <td>test</td>\n",
       "      <td>por mais com as irmãs galvão adorei elas</td>\n",
       "      <td>False</td>\n",
       "    </tr>\n",
       "    <tr>\n",
       "      <th>2</th>\n",
       "      <td>865063232201011201</td>\n",
       "      <td>#TheNoite</td>\n",
       "      <td>[1, 0, 1, 1, 1, 0, 0]</td>\n",
       "      <td>2</td>\n",
       "      <td>1</td>\n",
       "      <td>test</td>\n",
       "      <td>mr CATRA USERNAME lançando sua nova música PPK CHORA no USERNAME k k k 👅 😉 #MrCatra #PpkChora</td>\n",
       "      <td>False</td>\n",
       "    </tr>\n",
       "    <tr>\n",
       "      <th>3</th>\n",
       "      <td>864668391008763905</td>\n",
       "      <td>#masterchefbr</td>\n",
       "      <td>[0, 0, 0, 0, 0, 0, 0]</td>\n",
       "      <td>0</td>\n",
       "      <td>0</td>\n",
       "      <td>test</td>\n",
       "      <td>quem viu aquela lutadora modela barbuda tatuada #MasterChefBR</td>\n",
       "      <td>False</td>\n",
       "    </tr>\n",
       "    <tr>\n",
       "      <th>4</th>\n",
       "      <td>865572794016378882</td>\n",
       "      <td>#encontro</td>\n",
       "      <td>[-1, -1, -1, -1, -1, -1, -1]</td>\n",
       "      <td>0</td>\n",
       "      <td>-1</td>\n",
       "      <td>test</td>\n",
       "      <td>tô passada com esse cara quanta merda pode sair da boca de alguém em alguns minutos 😠</td>\n",
       "      <td>False</td>\n",
       "    </tr>\n",
       "  </tbody>\n",
       "</table>\n",
       "</div>"
      ],
      "text/plain": [
       "                   id        hashtag                         votes hard  \\\n",
       "0  863044774588272640      #encontro         [1, 1, 1, 1, 1, 1, 1]    0   \n",
       "1  865583716088766467      #encontro         [1, 1, 1, 1, 1, 1, 1]    0   \n",
       "2  865063232201011201      #TheNoite         [1, 0, 1, 1, 1, 0, 0]    2   \n",
       "3  864668391008763905  #masterchefbr         [0, 0, 0, 0, 0, 0, 0]    0   \n",
       "4  865572794016378882      #encontro  [-1, -1, -1, -1, -1, -1, -1]    0   \n",
       "\n",
       "  sentiment group  \\\n",
       "0         1  test   \n",
       "1         1  test   \n",
       "2         1  test   \n",
       "3         0  test   \n",
       "4        -1  test   \n",
       "\n",
       "                                                                                                          text  \\\n",
       "0  que coisa linda O programa estava mostrando uma familia que adotou um adolescente de NUMBER anos que amor !   \n",
       "1                                                                     por mais com as irmãs galvão adorei elas   \n",
       "2                mr CATRA USERNAME lançando sua nova música PPK CHORA no USERNAME k k k 👅 😉 #MrCatra #PpkChora   \n",
       "3                                                quem viu aquela lutadora modela barbuda tatuada #MasterChefBR   \n",
       "4                        tô passada com esse cara quanta merda pode sair da boca de alguém em alguns minutos 😠   \n",
       "\n",
       "   repeat  \n",
       "0   False  \n",
       "1   False  \n",
       "2   False  \n",
       "3   False  \n",
       "4   False  "
      ]
     },
     "execution_count": 5,
     "metadata": {},
     "output_type": "execute_result"
    }
   ],
   "source": [
    "frame = load_corpus()\n",
    "frame.head()"
   ]
  },
  {
   "cell_type": "markdown",
   "metadata": {},
   "source": [
    "Separate training and test records and delete the original frame."
   ]
  },
  {
   "cell_type": "code",
   "execution_count": 6,
   "metadata": {},
   "outputs": [],
   "source": [
    "training = frame.loc[(frame.group == 'train') & (frame.sentiment.isin(['-1', '0', '1']))].copy(deep=True)\n",
    "test = frame.loc[(frame.group == 'test') & (frame.sentiment.isin(['-1', '0', '1']))].copy(deep=True)\n",
    "del frame"
   ]
  },
  {
   "cell_type": "markdown",
   "metadata": {},
   "source": [
    "Check class balance on training set"
   ]
  },
  {
   "cell_type": "code",
   "execution_count": 7,
   "metadata": {},
   "outputs": [
    {
     "data": {
      "text/plain": [
       "1     5741\n",
       "-1    3839\n",
       "0     3410\n",
       "Name: sentiment, dtype: int64"
      ]
     },
     "execution_count": 7,
     "metadata": {},
     "output_type": "execute_result"
    }
   ],
   "source": [
    "training.sentiment.value_counts()"
   ]
  },
  {
   "cell_type": "markdown",
   "metadata": {},
   "source": [
    "## Tokenize and Extract Features from Tweets\n",
    "\n",
    "Instantiate NLP libraries to tokenize text and extract information (e.g., lemma, pos tag, and polarization).\n",
    "\n",
    "There two libraries are used:\n",
    " - [nlpnet](http://nilc.icmc.usp.br/nlpnet/): Used to be able to reproduce exactly the same pos tags used by TweetSentBR.\n",
    " - [Spacy](https://spacy.io/): Lightweight and versatile library to perform tokenization, and get lemma and pos tags."
   ]
  },
  {
   "cell_type": "code",
   "execution_count": 8,
   "metadata": {},
   "outputs": [],
   "source": [
    "# Load NLPNet to keep the same pos tagger as the original work\n",
    "nlpnet.set_data_dir(settings.NLPNET_POS_TAGGER_PATH)\n",
    "nlpnet_nlp = nlpnet.POSTagger().tag\n",
    "\n",
    "# Load Spacy to get access tokenization, lemma and pos tag\n",
    "spacy.prefer_gpu()\n",
    "spacy_nlp = spacy.load('pt')\n",
    "\n",
    "# Extend default token regex to avoid splitting hashtag, smile, emoji and emoticon.\n",
    "re_token_match = _get_regex_pattern(spacy_nlp.Defaults.token_match)\n",
    "re_token_match = f\"({re_token_match}|#\\w+|\\w+-\\w+)\"\n",
    "spacy_nlp.tokenizer.token_match = re.compile(re_token_match).match"
   ]
  },
  {
   "cell_type": "markdown",
   "metadata": {},
   "source": [
    "Iterate over tweets to trim repeating spaces and words with more than 2 contiguous characters repeated. "
   ]
  },
  {
   "cell_type": "code",
   "execution_count": 9,
   "metadata": {},
   "outputs": [],
   "source": [
    "partial_clean_text = partial(clean_text, unify_html_tags=False, unify_urls=False, trim_repeating_spaces=True, unify_hashtags=False,\n",
    "                             unify_mentions=False, unify_numbers=False, trim_repeating_letters=True)\n",
    "\n",
    "training.loc[:, 'clean_text'] = training['text'].apply(partial_clean_text)\n",
    "test.loc[:, 'clean_text'] = test['text'].apply(partial_clean_text)"
   ]
  },
  {
   "cell_type": "markdown",
   "metadata": {},
   "source": [
    "Check records affected by the cleaning function."
   ]
  },
  {
   "cell_type": "code",
   "execution_count": 10,
   "metadata": {},
   "outputs": [
    {
     "name": "stdout",
     "output_type": "stream",
     "text": [
      "Records changed: 1,510 from 12,990 (11.62%)\n"
     ]
    },
    {
     "data": {
      "text/html": [
       "<div>\n",
       "<style scoped>\n",
       "    .dataframe tbody tr th:only-of-type {\n",
       "        vertical-align: middle;\n",
       "    }\n",
       "\n",
       "    .dataframe tbody tr th {\n",
       "        vertical-align: top;\n",
       "    }\n",
       "\n",
       "    .dataframe thead th {\n",
       "        text-align: right;\n",
       "    }\n",
       "</style>\n",
       "<table border=\"1\" class=\"dataframe\">\n",
       "  <thead>\n",
       "    <tr style=\"text-align: right;\">\n",
       "      <th></th>\n",
       "      <th>id</th>\n",
       "      <th>hashtag</th>\n",
       "      <th>votes</th>\n",
       "      <th>hard</th>\n",
       "      <th>sentiment</th>\n",
       "      <th>group</th>\n",
       "      <th>text</th>\n",
       "      <th>repeat</th>\n",
       "      <th>clean_text</th>\n",
       "    </tr>\n",
       "  </thead>\n",
       "  <tbody>\n",
       "    <tr>\n",
       "      <th>301</th>\n",
       "      <td>864531050508288000</td>\n",
       "      <td>#videoShowAoVivo</td>\n",
       "      <td>[1]</td>\n",
       "      <td>0</td>\n",
       "      <td>1</td>\n",
       "      <td>train</td>\n",
       "      <td>sofia linda esse seu batom tá show e joaquim como sempre lindo bjusss da paraiba</td>\n",
       "      <td>False</td>\n",
       "      <td>sofia linda esse seu batom tá show e joaquim como sempre lindo bjuss da paraiba</td>\n",
       "    </tr>\n",
       "    <tr>\n",
       "      <th>318</th>\n",
       "      <td>864301806544990208</td>\n",
       "      <td>#maisvoce</td>\n",
       "      <td>[-1]</td>\n",
       "      <td>0</td>\n",
       "      <td>-1</td>\n",
       "      <td>train</td>\n",
       "      <td>USERNAME coitada da taís araújo ! 🍲 😂 😂 😂 🍲 kkkk #MaisVocê</td>\n",
       "      <td>False</td>\n",
       "      <td>USERNAME coitada da taís araújo ! 🍲 😂 😂 😂 🍲 kk #MaisVocê</td>\n",
       "    </tr>\n",
       "    <tr>\n",
       "      <th>323</th>\n",
       "      <td>865426213510053889</td>\n",
       "      <td>#ConversaComBial</td>\n",
       "      <td>[1]</td>\n",
       "      <td>0</td>\n",
       "      <td>1</td>\n",
       "      <td>train</td>\n",
       "      <td>ahhh vai começar uhuuu 😍 😍 👏 🏼 👏 🏼 👏 🏼 👏 🏼 👏 🏼 💜 💜 USERNAME #MaiaraeMaraisaNoBial</td>\n",
       "      <td>False</td>\n",
       "      <td>ahh vai começar uhuu 😍 😍 👏 🏼 👏 🏼 👏 🏼 👏 🏼 👏 🏼 💜 💜 USERNAME #MaiaraeMaraisaNoBial</td>\n",
       "    </tr>\n",
       "    <tr>\n",
       "      <th>324</th>\n",
       "      <td>865059540303310848</td>\n",
       "      <td>#TheNoite</td>\n",
       "      <td>[1]</td>\n",
       "      <td>0</td>\n",
       "      <td>1</td>\n",
       "      <td>train</td>\n",
       "      <td>o mestre mandou é o melhor quadro velho kkk</td>\n",
       "      <td>False</td>\n",
       "      <td>o mestre mandou é o melhor quadro velho kk</td>\n",
       "    </tr>\n",
       "    <tr>\n",
       "      <th>335</th>\n",
       "      <td>864335520167362560</td>\n",
       "      <td>#TheNoite</td>\n",
       "      <td>[1]</td>\n",
       "      <td>0</td>\n",
       "      <td>1</td>\n",
       "      <td>train</td>\n",
       "      <td>história bêbada do USERNAME hj kkk</td>\n",
       "      <td>False</td>\n",
       "      <td>história bêbada do USERNAME hj kk</td>\n",
       "    </tr>\n",
       "    <tr>\n",
       "      <th>338</th>\n",
       "      <td>864889627232141314</td>\n",
       "      <td>#videoShowAoVivo</td>\n",
       "      <td>[1]</td>\n",
       "      <td>0</td>\n",
       "      <td>1</td>\n",
       "      <td>train</td>\n",
       "      <td>outra coisa jocaota tem brilho tem graça amooo</td>\n",
       "      <td>False</td>\n",
       "      <td>outra coisa jocaota tem brilho tem graça amoo</td>\n",
       "    </tr>\n",
       "    <tr>\n",
       "      <th>348</th>\n",
       "      <td>864334590353195008</td>\n",
       "      <td>#TheNoite</td>\n",
       "      <td>[1]</td>\n",
       "      <td>0</td>\n",
       "      <td>1</td>\n",
       "      <td>train</td>\n",
       "      <td>MINHA SERIEEE</td>\n",
       "      <td>False</td>\n",
       "      <td>MINHA SERIEE</td>\n",
       "    </tr>\n",
       "    <tr>\n",
       "      <th>372</th>\n",
       "      <td>864467549215436805</td>\n",
       "      <td>#maisvoce</td>\n",
       "      <td>[1]</td>\n",
       "      <td>0</td>\n",
       "      <td>1</td>\n",
       "      <td>train</td>\n",
       "      <td>pra me ganhar de vez VIAVIANE FAZ PLANILHAS É NERD ESTUDAAA ATRIZ DE VERDADE SE ORGANIZA pasmanterepivanomaisvoce</td>\n",
       "      <td>False</td>\n",
       "      <td>pra me ganhar de vez VIAVIANE FAZ PLANILHAS É NERD ESTUDAA ATRIZ DE VERDADE SE ORGANIZA pasmanterepivanomaisvoce</td>\n",
       "    </tr>\n",
       "    <tr>\n",
       "      <th>393</th>\n",
       "      <td>862156481885601793</td>\n",
       "      <td>#masterchefbr</td>\n",
       "      <td>[-1]</td>\n",
       "      <td>0</td>\n",
       "      <td>-1</td>\n",
       "      <td>train</td>\n",
       "      <td>ahhh uma semana pra ter de novo :(</td>\n",
       "      <td>False</td>\n",
       "      <td>ahh uma semana pra ter de novo :(</td>\n",
       "    </tr>\n",
       "    <tr>\n",
       "      <th>401</th>\n",
       "      <td>864685396357242880</td>\n",
       "      <td>#masterchefbr</td>\n",
       "      <td>[-1]</td>\n",
       "      <td>0</td>\n",
       "      <td>-1</td>\n",
       "      <td>train</td>\n",
       "      <td>A paola kkk</td>\n",
       "      <td>False</td>\n",
       "      <td>A paola kk</td>\n",
       "    </tr>\n",
       "  </tbody>\n",
       "</table>\n",
       "</div>"
      ],
      "text/plain": [
       "                     id           hashtag votes hard sentiment  group  \\\n",
       "301  864531050508288000  #videoShowAoVivo   [1]    0         1  train   \n",
       "318  864301806544990208         #maisvoce  [-1]    0        -1  train   \n",
       "323  865426213510053889  #ConversaComBial   [1]    0         1  train   \n",
       "324  865059540303310848         #TheNoite   [1]    0         1  train   \n",
       "335  864335520167362560         #TheNoite   [1]    0         1  train   \n",
       "338  864889627232141314  #videoShowAoVivo   [1]    0         1  train   \n",
       "348  864334590353195008         #TheNoite   [1]    0         1  train   \n",
       "372  864467549215436805         #maisvoce   [1]    0         1  train   \n",
       "393  862156481885601793     #masterchefbr  [-1]    0        -1  train   \n",
       "401  864685396357242880     #masterchefbr  [-1]    0        -1  train   \n",
       "\n",
       "                                                                                                                  text  \\\n",
       "301                                   sofia linda esse seu batom tá show e joaquim como sempre lindo bjusss da paraiba   \n",
       "318                                                         USERNAME coitada da taís araújo ! 🍲 😂 😂 😂 🍲 kkkk #MaisVocê   \n",
       "323                                  ahhh vai começar uhuuu 😍 😍 👏 🏼 👏 🏼 👏 🏼 👏 🏼 👏 🏼 💜 💜 USERNAME #MaiaraeMaraisaNoBial   \n",
       "324                                                                        o mestre mandou é o melhor quadro velho kkk   \n",
       "335                                                                                 história bêbada do USERNAME hj kkk   \n",
       "338                                                                     outra coisa jocaota tem brilho tem graça amooo   \n",
       "348                                                                                                      MINHA SERIEEE   \n",
       "372  pra me ganhar de vez VIAVIANE FAZ PLANILHAS É NERD ESTUDAAA ATRIZ DE VERDADE SE ORGANIZA pasmanterepivanomaisvoce   \n",
       "393                                                                                 ahhh uma semana pra ter de novo :(   \n",
       "401                                                                                                        A paola kkk   \n",
       "\n",
       "     repeat  \\\n",
       "301   False   \n",
       "318   False   \n",
       "323   False   \n",
       "324   False   \n",
       "335   False   \n",
       "338   False   \n",
       "348   False   \n",
       "372   False   \n",
       "393   False   \n",
       "401   False   \n",
       "\n",
       "                                                                                                           clean_text  \n",
       "301                                   sofia linda esse seu batom tá show e joaquim como sempre lindo bjuss da paraiba  \n",
       "318                                                          USERNAME coitada da taís araújo ! 🍲 😂 😂 😂 🍲 kk #MaisVocê  \n",
       "323                                   ahh vai começar uhuu 😍 😍 👏 🏼 👏 🏼 👏 🏼 👏 🏼 👏 🏼 💜 💜 USERNAME #MaiaraeMaraisaNoBial  \n",
       "324                                                                        o mestre mandou é o melhor quadro velho kk  \n",
       "335                                                                                 história bêbada do USERNAME hj kk  \n",
       "338                                                                     outra coisa jocaota tem brilho tem graça amoo  \n",
       "348                                                                                                      MINHA SERIEE  \n",
       "372  pra me ganhar de vez VIAVIANE FAZ PLANILHAS É NERD ESTUDAA ATRIZ DE VERDADE SE ORGANIZA pasmanterepivanomaisvoce  \n",
       "393                                                                                 ahh uma semana pra ter de novo :(  \n",
       "401                                                                                                        A paola kk  "
      ]
     },
     "metadata": {},
     "output_type": "display_data"
    }
   ],
   "source": [
    "disposable_frame = training.query('text != clean_text')\n",
    "print(f'Records changed: {len(disposable_frame):,} from {len(training):,} ({len(disposable_frame) / len(training) * 100:.2f}%)')\n",
    "display(disposable_frame.head(10))\n",
    "del disposable_frame"
   ]
  },
  {
   "cell_type": "markdown",
   "metadata": {},
   "source": [
    "Tokenize and extract features from sentences and tokens on both, training and test sets."
   ]
  },
  {
   "cell_type": "code",
   "execution_count": 11,
   "metadata": {},
   "outputs": [
    {
     "name": "stderr",
     "output_type": "stream",
     "text": [
      "/media/bruno/f331903b-17cb-447b-b132-e6f1f08f80f8/Development/02_TwitterBR_SentimentAnalysis/venv/lib/python3.8/site-packages/numpy/core/_asarray.py:83: VisibleDeprecationWarning: Creating an ndarray from ragged nested sequences (which is a list-or-tuple of lists-or-tuples-or ndarrays with different lengths or shapes) is deprecated. If you meant to do this, you must specify 'dtype=object' when creating the ndarray\n",
      "  return array(a, dtype, copy=False, order=order)\n"
     ]
    }
   ],
   "source": [
    "main_token_processors = [process_negative_words, process_sentilex_word_polarity, process_emoticon_polarity, process_emoji_polarity]\n",
    "main_sentence_processors = [process_negative_words_features, process_sentilex_polarity_features, process_emoticon_polarity_features, process_emoji_polarity_features]\n",
    "\n",
    "training[['tokens', 'features']] = simple_pipeline_executor(training.clean_text.tolist(), extract_tokens_and_features, spacy_nlp, main_token_processors, main_sentence_processors)\n",
    "test[['tokens', 'features']] = simple_pipeline_executor(test.clean_text.tolist(), extract_tokens_and_features, spacy_nlp, main_token_processors, main_sentence_processors)"
   ]
  },
  {
   "cell_type": "markdown",
   "metadata": {},
   "source": [
    "Use nlpnet to extract pos tags from tokens and create additional features from it."
   ]
  },
  {
   "cell_type": "code",
   "execution_count": 12,
   "metadata": {},
   "outputs": [],
   "source": [
    "extra_token_processors = [process_token_pos_tag]\n",
    "extra_sentence_processors = [process_pos_tag_features]\n",
    "\n",
    "training['pos_tag_features'] = simple_pipeline_executor(training.clean_text.tolist(), extract_features, nlpnet_nlp, extra_token_processors, extra_sentence_processors)\n",
    "test['pos_tag_features'] = simple_pipeline_executor(test.clean_text.tolist(), extract_features, nlpnet_nlp, extra_token_processors, extra_sentence_processors)"
   ]
  },
  {
   "cell_type": "markdown",
   "metadata": {},
   "source": [
    "Assert there are no *NA* values on features."
   ]
  },
  {
   "cell_type": "code",
   "execution_count": 13,
   "metadata": {},
   "outputs": [],
   "source": [
    "for column in ['features', 'aux_features', 'pos_tag_features']:\n",
    "    if column in training.columns:\n",
    "        X = training[column].to_numpy()\n",
    "        X = np.stack(X, axis=0)\n",
    "        assert all([len(item) == 0 for item in np.where(np.isnan(X))]), f'There are na values in {column} column.'"
   ]
  },
  {
   "cell_type": "code",
   "execution_count": 14,
   "metadata": {},
   "outputs": [
    {
     "data": {
      "text/html": [
       "<div>\n",
       "<style scoped>\n",
       "    .dataframe tbody tr th:only-of-type {\n",
       "        vertical-align: middle;\n",
       "    }\n",
       "\n",
       "    .dataframe tbody tr th {\n",
       "        vertical-align: top;\n",
       "    }\n",
       "\n",
       "    .dataframe thead th {\n",
       "        text-align: right;\n",
       "    }\n",
       "</style>\n",
       "<table border=\"1\" class=\"dataframe\">\n",
       "  <thead>\n",
       "    <tr style=\"text-align: right;\">\n",
       "      <th></th>\n",
       "      <th>id</th>\n",
       "      <th>hashtag</th>\n",
       "      <th>votes</th>\n",
       "      <th>hard</th>\n",
       "      <th>sentiment</th>\n",
       "      <th>group</th>\n",
       "      <th>text</th>\n",
       "      <th>repeat</th>\n",
       "      <th>clean_text</th>\n",
       "      <th>tokens</th>\n",
       "      <th>features</th>\n",
       "      <th>pos_tag_features</th>\n",
       "    </tr>\n",
       "  </thead>\n",
       "  <tbody>\n",
       "    <tr>\n",
       "      <th>283</th>\n",
       "      <td>863587647016636417</td>\n",
       "      <td>#altasHoras</td>\n",
       "      <td>[-1]</td>\n",
       "      <td>0</td>\n",
       "      <td>-1</td>\n",
       "      <td>train</td>\n",
       "      <td>apareceu o índice de morte na minha cidade tô muito assustado #BelemPedePaz</td>\n",
       "      <td>False</td>\n",
       "      <td>apareceu o índice de morte na minha cidade tô muito assustado #BelemPedePaz</td>\n",
       "      <td>[aparecer, o, índice, de, morte, o, meu, cidade, tô, muito, assustar, #BelemPedePaz]</td>\n",
       "      <td>[0, 2, 10, 0, 0, 0, 0, 0, 0]</td>\n",
       "      <td>[0, 0, 1, 0, 0, 0, 0, 0, 0, 0, 0, 0, 0, 0, 0, 0]</td>\n",
       "    </tr>\n",
       "    <tr>\n",
       "      <th>284</th>\n",
       "      <td>863591661594697728</td>\n",
       "      <td>#altasHoras</td>\n",
       "      <td>[0]</td>\n",
       "      <td>0</td>\n",
       "      <td>0</td>\n",
       "      <td>train</td>\n",
       "      <td>O tchan já pode substituir a morena pela bella gil #AltasHoras</td>\n",
       "      <td>False</td>\n",
       "      <td>O tchan já pode substituir a morena pela bella gil #AltasHoras</td>\n",
       "      <td>[O, tchan, já, poder, substituir, o, moreno, pelar, bella, gil, #AltasHoras]</td>\n",
       "      <td>[0, 0, 11, 0, 0, 0, 0, 0, 0]</td>\n",
       "      <td>[0, 0, 1, 0, 0, 0, 0, 0, 0, 0, 0, 0, 0, 0, 0, 0]</td>\n",
       "    </tr>\n",
       "    <tr>\n",
       "      <th>285</th>\n",
       "      <td>863385491344941060</td>\n",
       "      <td>#édecasa</td>\n",
       "      <td>[1]</td>\n",
       "      <td>0</td>\n",
       "      <td>1</td>\n",
       "      <td>train</td>\n",
       "      <td>rafael ainda nem nasceu e já escuta USERNAME #anjo #40semanas #EDeCasa</td>\n",
       "      <td>False</td>\n",
       "      <td>rafael ainda nem nasceu e já escuta USERNAME #anjo #40semanas #EDeCasa</td>\n",
       "      <td>[rafael, ainda, nem, nascer, e, já, escutar, USERNAME, #anjo, #40semanas, #EDeCasa]</td>\n",
       "      <td>[1, 0, 11, 0, 0, 0, 0, 0, 0]</td>\n",
       "      <td>[0, 0, 3, 0, 0, 0, 0, 0, 0, 0, 0, 0, 0, 0, 0, 0]</td>\n",
       "    </tr>\n",
       "    <tr>\n",
       "      <th>286</th>\n",
       "      <td>865073884411953152</td>\n",
       "      <td>#ConversaComBial</td>\n",
       "      <td>[1]</td>\n",
       "      <td>0</td>\n",
       "      <td>1</td>\n",
       "      <td>train</td>\n",
       "      <td>até que enfim um excelente programa de entrevistas na TV aberta 👍</td>\n",
       "      <td>False</td>\n",
       "      <td>até que enfim um excelente programa de entrevistas na TV aberta 👍</td>\n",
       "      <td>[até, que, enfim, um, excelente, programar, de, entrevisto, o, TV, aberto, 👍]</td>\n",
       "      <td>[0, 0, 10, 2, 0, 0, 0, 0, 1]</td>\n",
       "      <td>[1, 0, 1, 0, 0, 0, 0, 0, 0, 0, 0, 0, 0, 0, 0, 0]</td>\n",
       "    </tr>\n",
       "    <tr>\n",
       "      <th>287</th>\n",
       "      <td>862176233949409281</td>\n",
       "      <td>#masterchefbr</td>\n",
       "      <td>[1]</td>\n",
       "      <td>0</td>\n",
       "      <td>1</td>\n",
       "      <td>train</td>\n",
       "      <td>master chef me da fome de madrugadato virando coruja sonambulo</td>\n",
       "      <td>False</td>\n",
       "      <td>master chef me da fome de madrugadato virando coruja sonambulo</td>\n",
       "      <td>[master, chef, me, da, fome, de, madrugadato, virar, corujar, sonambulo]</td>\n",
       "      <td>[0, 1, 9, 0, 0, 0, 0, 0, 0]</td>\n",
       "      <td>[0, 0, 0, 0, 0, 0, 0, 0, 0, 0, 0, 0, 0, 0, 0, 0]</td>\n",
       "    </tr>\n",
       "  </tbody>\n",
       "</table>\n",
       "</div>"
      ],
      "text/plain": [
       "                     id           hashtag votes hard sentiment  group  \\\n",
       "283  863587647016636417       #altasHoras  [-1]    0        -1  train   \n",
       "284  863591661594697728       #altasHoras   [0]    0         0  train   \n",
       "285  863385491344941060          #édecasa   [1]    0         1  train   \n",
       "286  865073884411953152  #ConversaComBial   [1]    0         1  train   \n",
       "287  862176233949409281     #masterchefbr   [1]    0         1  train   \n",
       "\n",
       "                                                                            text  \\\n",
       "283  apareceu o índice de morte na minha cidade tô muito assustado #BelemPedePaz   \n",
       "284               O tchan já pode substituir a morena pela bella gil #AltasHoras   \n",
       "285       rafael ainda nem nasceu e já escuta USERNAME #anjo #40semanas #EDeCasa   \n",
       "286            até que enfim um excelente programa de entrevistas na TV aberta 👍   \n",
       "287               master chef me da fome de madrugadato virando coruja sonambulo   \n",
       "\n",
       "     repeat  \\\n",
       "283   False   \n",
       "284   False   \n",
       "285   False   \n",
       "286   False   \n",
       "287   False   \n",
       "\n",
       "                                                                      clean_text  \\\n",
       "283  apareceu o índice de morte na minha cidade tô muito assustado #BelemPedePaz   \n",
       "284               O tchan já pode substituir a morena pela bella gil #AltasHoras   \n",
       "285       rafael ainda nem nasceu e já escuta USERNAME #anjo #40semanas #EDeCasa   \n",
       "286            até que enfim um excelente programa de entrevistas na TV aberta 👍   \n",
       "287               master chef me da fome de madrugadato virando coruja sonambulo   \n",
       "\n",
       "                                                                                   tokens  \\\n",
       "283  [aparecer, o, índice, de, morte, o, meu, cidade, tô, muito, assustar, #BelemPedePaz]   \n",
       "284          [O, tchan, já, poder, substituir, o, moreno, pelar, bella, gil, #AltasHoras]   \n",
       "285   [rafael, ainda, nem, nascer, e, já, escutar, USERNAME, #anjo, #40semanas, #EDeCasa]   \n",
       "286         [até, que, enfim, um, excelente, programar, de, entrevisto, o, TV, aberto, 👍]   \n",
       "287              [master, chef, me, da, fome, de, madrugadato, virar, corujar, sonambulo]   \n",
       "\n",
       "                         features  \\\n",
       "283  [0, 2, 10, 0, 0, 0, 0, 0, 0]   \n",
       "284  [0, 0, 11, 0, 0, 0, 0, 0, 0]   \n",
       "285  [1, 0, 11, 0, 0, 0, 0, 0, 0]   \n",
       "286  [0, 0, 10, 2, 0, 0, 0, 0, 1]   \n",
       "287   [0, 1, 9, 0, 0, 0, 0, 0, 0]   \n",
       "\n",
       "                                     pos_tag_features  \n",
       "283  [0, 0, 1, 0, 0, 0, 0, 0, 0, 0, 0, 0, 0, 0, 0, 0]  \n",
       "284  [0, 0, 1, 0, 0, 0, 0, 0, 0, 0, 0, 0, 0, 0, 0, 0]  \n",
       "285  [0, 0, 3, 0, 0, 0, 0, 0, 0, 0, 0, 0, 0, 0, 0, 0]  \n",
       "286  [1, 0, 1, 0, 0, 0, 0, 0, 0, 0, 0, 0, 0, 0, 0, 0]  \n",
       "287  [0, 0, 0, 0, 0, 0, 0, 0, 0, 0, 0, 0, 0, 0, 0, 0]  "
      ]
     },
     "execution_count": 14,
     "metadata": {},
     "output_type": "execute_result"
    }
   ],
   "source": [
    "training.head()"
   ]
  },
  {
   "cell_type": "markdown",
   "metadata": {},
   "source": [
    "## Format Features for Models"
   ]
  },
  {
   "cell_type": "code",
   "execution_count": 15,
   "metadata": {},
   "outputs": [],
   "source": [
    "# Shift labels (-1, 0, 1) to the right (0, 1, 2) to comply with sklearn requirements.\n",
    "y_training = training.sentiment.apply(lambda x: int(x) + 1).to_numpy()\n",
    "y_test = test.sentiment.apply(lambda x: int(x) + 1).to_numpy()\n",
    "\n",
    "# Transform tokens into Bag of Words and then compute TF-IDF\n",
    "pipeline_parameters = {\n",
    "    'analyzer': 'word',\n",
    "    'ngram_range': (1, 1),\n",
    "    #'n_features': 5000,\n",
    "    'lowercase': False,\n",
    "    'stop_words': None\n",
    "}\n",
    "text_clf = Pipeline([\n",
    "    #('vect', HashingVectorizer(**pipeline_parameters)),\n",
    "    ('vect', CountVectorizer(**pipeline_parameters)),\n",
    "    ('tfidf', TfidfTransformer()),\n",
    "    ]\n",
    ")\n",
    "X_training = text_clf.fit_transform(training.tokens.apply(lambda x: ' '.join(x))).toarray()\n",
    "X_test = text_clf.transform(test.tokens.apply(lambda x: ' '.join(x))).toarray()\n",
    "\n",
    "# Combine token based features with manually created features (e.g., pos tag, negations, and word polarity)\n",
    "feature_columns = ['features', 'pos_tag_features']\n",
    "features = [X_training] + [np.stack(training[column].to_list(), axis=0) for column in feature_columns]\n",
    "X_training = np.concatenate(features, axis=1)\n",
    "\n",
    "features = [X_test] + [np.stack(test[column].to_list(), axis=0) for column in feature_columns]\n",
    "X_test = np.concatenate(features, axis=1)\n",
    "\n",
    "del features"
   ]
  },
  {
   "cell_type": "markdown",
   "metadata": {},
   "source": [
    "## Model Training"
   ]
  },
  {
   "cell_type": "code",
   "execution_count": 16,
   "metadata": {},
   "outputs": [
    {
     "data": {
      "application/vnd.jupyter.widget-view+json": {
       "model_id": "0263904e84224176bbd952ef462e1f7e",
       "version_major": 2,
       "version_minor": 0
      },
      "text/plain": [
       "  0%|          | 0/10 [00:00<?, ?it/s]"
      ]
     },
     "metadata": {},
     "output_type": "display_data"
    },
    {
     "name": "stderr",
     "output_type": "stream",
     "text": [
      "/media/bruno/f331903b-17cb-447b-b132-e6f1f08f80f8/Development/02_TwitterBR_SentimentAnalysis/venv/lib/python3.8/site-packages/lightgbm/engine.py:151: UserWarning: Found `num_iterations` in params. Will use it instead of argument\n",
      "  warnings.warn(\"Found `{}` in params. Will use it instead of argument\".format(alias))\n",
      "/media/bruno/f331903b-17cb-447b-b132-e6f1f08f80f8/Development/02_TwitterBR_SentimentAnalysis/venv/lib/python3.8/site-packages/lightgbm/engine.py:156: UserWarning: Found `early_stopping_round` in params. Will use it instead of argument\n",
      "  warnings.warn(\"Found `{}` in params. Will use it instead of argument\".format(alias))\n"
     ]
    },
    {
     "name": "stdout",
     "output_type": "stream",
     "text": [
      "[LightGBM] [Warning] bagging_fraction is set=1.0, subsample=1.0 will be ignored. Current value: bagging_fraction=1.0\n",
      "[LightGBM] [Warning] lambda_l1 is set=0.5955392344062058, reg_alpha=0.0 will be ignored. Current value: lambda_l1=0.5955392344062058\n",
      "[LightGBM] [Warning] feature_fraction is set=0.7, colsample_bytree=1.0 will be ignored. Current value: feature_fraction=0.7\n",
      "[LightGBM] [Warning] lambda_l2 is set=1.1394638571883556e-08, reg_lambda=0.0 will be ignored. Current value: lambda_l2=1.1394638571883556e-08\n",
      "[LightGBM] [Warning] bagging_freq is set=0, subsample_freq=0 will be ignored. Current value: bagging_freq=0\n"
     ]
    },
    {
     "name": "stderr",
     "output_type": "stream",
     "text": [
      "/media/bruno/f331903b-17cb-447b-b132-e6f1f08f80f8/Development/02_TwitterBR_SentimentAnalysis/venv/lib/python3.8/site-packages/lightgbm/engine.py:151: UserWarning: Found `num_iterations` in params. Will use it instead of argument\n",
      "  warnings.warn(\"Found `{}` in params. Will use it instead of argument\".format(alias))\n",
      "/media/bruno/f331903b-17cb-447b-b132-e6f1f08f80f8/Development/02_TwitterBR_SentimentAnalysis/venv/lib/python3.8/site-packages/lightgbm/engine.py:156: UserWarning: Found `early_stopping_round` in params. Will use it instead of argument\n",
      "  warnings.warn(\"Found `{}` in params. Will use it instead of argument\".format(alias))\n"
     ]
    },
    {
     "name": "stdout",
     "output_type": "stream",
     "text": [
      "[LightGBM] [Warning] bagging_fraction is set=1.0, subsample=1.0 will be ignored. Current value: bagging_fraction=1.0\n",
      "[LightGBM] [Warning] lambda_l1 is set=0.5955392344062058, reg_alpha=0.0 will be ignored. Current value: lambda_l1=0.5955392344062058\n",
      "[LightGBM] [Warning] feature_fraction is set=0.7, colsample_bytree=1.0 will be ignored. Current value: feature_fraction=0.7\n",
      "[LightGBM] [Warning] lambda_l2 is set=1.1394638571883556e-08, reg_lambda=0.0 will be ignored. Current value: lambda_l2=1.1394638571883556e-08\n",
      "[LightGBM] [Warning] bagging_freq is set=0, subsample_freq=0 will be ignored. Current value: bagging_freq=0\n"
     ]
    },
    {
     "name": "stderr",
     "output_type": "stream",
     "text": [
      "/media/bruno/f331903b-17cb-447b-b132-e6f1f08f80f8/Development/02_TwitterBR_SentimentAnalysis/venv/lib/python3.8/site-packages/lightgbm/engine.py:151: UserWarning: Found `num_iterations` in params. Will use it instead of argument\n",
      "  warnings.warn(\"Found `{}` in params. Will use it instead of argument\".format(alias))\n",
      "/media/bruno/f331903b-17cb-447b-b132-e6f1f08f80f8/Development/02_TwitterBR_SentimentAnalysis/venv/lib/python3.8/site-packages/lightgbm/engine.py:156: UserWarning: Found `early_stopping_round` in params. Will use it instead of argument\n",
      "  warnings.warn(\"Found `{}` in params. Will use it instead of argument\".format(alias))\n"
     ]
    },
    {
     "name": "stdout",
     "output_type": "stream",
     "text": [
      "[LightGBM] [Warning] bagging_fraction is set=1.0, subsample=1.0 will be ignored. Current value: bagging_fraction=1.0\n",
      "[LightGBM] [Warning] lambda_l1 is set=0.5955392344062058, reg_alpha=0.0 will be ignored. Current value: lambda_l1=0.5955392344062058\n",
      "[LightGBM] [Warning] feature_fraction is set=0.7, colsample_bytree=1.0 will be ignored. Current value: feature_fraction=0.7\n",
      "[LightGBM] [Warning] lambda_l2 is set=1.1394638571883556e-08, reg_lambda=0.0 will be ignored. Current value: lambda_l2=1.1394638571883556e-08\n",
      "[LightGBM] [Warning] bagging_freq is set=0, subsample_freq=0 will be ignored. Current value: bagging_freq=0\n"
     ]
    },
    {
     "name": "stderr",
     "output_type": "stream",
     "text": [
      "/media/bruno/f331903b-17cb-447b-b132-e6f1f08f80f8/Development/02_TwitterBR_SentimentAnalysis/venv/lib/python3.8/site-packages/lightgbm/engine.py:151: UserWarning: Found `num_iterations` in params. Will use it instead of argument\n",
      "  warnings.warn(\"Found `{}` in params. Will use it instead of argument\".format(alias))\n",
      "/media/bruno/f331903b-17cb-447b-b132-e6f1f08f80f8/Development/02_TwitterBR_SentimentAnalysis/venv/lib/python3.8/site-packages/lightgbm/engine.py:156: UserWarning: Found `early_stopping_round` in params. Will use it instead of argument\n",
      "  warnings.warn(\"Found `{}` in params. Will use it instead of argument\".format(alias))\n"
     ]
    },
    {
     "name": "stdout",
     "output_type": "stream",
     "text": [
      "[LightGBM] [Warning] bagging_fraction is set=1.0, subsample=1.0 will be ignored. Current value: bagging_fraction=1.0\n",
      "[LightGBM] [Warning] lambda_l1 is set=0.5955392344062058, reg_alpha=0.0 will be ignored. Current value: lambda_l1=0.5955392344062058\n",
      "[LightGBM] [Warning] feature_fraction is set=0.7, colsample_bytree=1.0 will be ignored. Current value: feature_fraction=0.7\n",
      "[LightGBM] [Warning] lambda_l2 is set=1.1394638571883556e-08, reg_lambda=0.0 will be ignored. Current value: lambda_l2=1.1394638571883556e-08\n",
      "[LightGBM] [Warning] bagging_freq is set=0, subsample_freq=0 will be ignored. Current value: bagging_freq=0\n"
     ]
    },
    {
     "name": "stderr",
     "output_type": "stream",
     "text": [
      "/media/bruno/f331903b-17cb-447b-b132-e6f1f08f80f8/Development/02_TwitterBR_SentimentAnalysis/venv/lib/python3.8/site-packages/lightgbm/engine.py:151: UserWarning: Found `num_iterations` in params. Will use it instead of argument\n",
      "  warnings.warn(\"Found `{}` in params. Will use it instead of argument\".format(alias))\n",
      "/media/bruno/f331903b-17cb-447b-b132-e6f1f08f80f8/Development/02_TwitterBR_SentimentAnalysis/venv/lib/python3.8/site-packages/lightgbm/engine.py:156: UserWarning: Found `early_stopping_round` in params. Will use it instead of argument\n",
      "  warnings.warn(\"Found `{}` in params. Will use it instead of argument\".format(alias))\n"
     ]
    },
    {
     "name": "stdout",
     "output_type": "stream",
     "text": [
      "[LightGBM] [Warning] bagging_fraction is set=1.0, subsample=1.0 will be ignored. Current value: bagging_fraction=1.0\n",
      "[LightGBM] [Warning] lambda_l1 is set=0.5955392344062058, reg_alpha=0.0 will be ignored. Current value: lambda_l1=0.5955392344062058\n",
      "[LightGBM] [Warning] feature_fraction is set=0.7, colsample_bytree=1.0 will be ignored. Current value: feature_fraction=0.7\n",
      "[LightGBM] [Warning] lambda_l2 is set=1.1394638571883556e-08, reg_lambda=0.0 will be ignored. Current value: lambda_l2=1.1394638571883556e-08\n",
      "[LightGBM] [Warning] bagging_freq is set=0, subsample_freq=0 will be ignored. Current value: bagging_freq=0\n"
     ]
    },
    {
     "name": "stderr",
     "output_type": "stream",
     "text": [
      "/media/bruno/f331903b-17cb-447b-b132-e6f1f08f80f8/Development/02_TwitterBR_SentimentAnalysis/venv/lib/python3.8/site-packages/lightgbm/engine.py:151: UserWarning: Found `num_iterations` in params. Will use it instead of argument\n",
      "  warnings.warn(\"Found `{}` in params. Will use it instead of argument\".format(alias))\n",
      "/media/bruno/f331903b-17cb-447b-b132-e6f1f08f80f8/Development/02_TwitterBR_SentimentAnalysis/venv/lib/python3.8/site-packages/lightgbm/engine.py:156: UserWarning: Found `early_stopping_round` in params. Will use it instead of argument\n",
      "  warnings.warn(\"Found `{}` in params. Will use it instead of argument\".format(alias))\n"
     ]
    },
    {
     "name": "stdout",
     "output_type": "stream",
     "text": [
      "[LightGBM] [Warning] bagging_fraction is set=1.0, subsample=1.0 will be ignored. Current value: bagging_fraction=1.0\n",
      "[LightGBM] [Warning] lambda_l1 is set=0.5955392344062058, reg_alpha=0.0 will be ignored. Current value: lambda_l1=0.5955392344062058\n",
      "[LightGBM] [Warning] feature_fraction is set=0.7, colsample_bytree=1.0 will be ignored. Current value: feature_fraction=0.7\n",
      "[LightGBM] [Warning] lambda_l2 is set=1.1394638571883556e-08, reg_lambda=0.0 will be ignored. Current value: lambda_l2=1.1394638571883556e-08\n",
      "[LightGBM] [Warning] bagging_freq is set=0, subsample_freq=0 will be ignored. Current value: bagging_freq=0\n"
     ]
    },
    {
     "name": "stderr",
     "output_type": "stream",
     "text": [
      "/media/bruno/f331903b-17cb-447b-b132-e6f1f08f80f8/Development/02_TwitterBR_SentimentAnalysis/venv/lib/python3.8/site-packages/lightgbm/engine.py:151: UserWarning: Found `num_iterations` in params. Will use it instead of argument\n",
      "  warnings.warn(\"Found `{}` in params. Will use it instead of argument\".format(alias))\n",
      "/media/bruno/f331903b-17cb-447b-b132-e6f1f08f80f8/Development/02_TwitterBR_SentimentAnalysis/venv/lib/python3.8/site-packages/lightgbm/engine.py:156: UserWarning: Found `early_stopping_round` in params. Will use it instead of argument\n",
      "  warnings.warn(\"Found `{}` in params. Will use it instead of argument\".format(alias))\n"
     ]
    },
    {
     "name": "stdout",
     "output_type": "stream",
     "text": [
      "[LightGBM] [Warning] bagging_fraction is set=1.0, subsample=1.0 will be ignored. Current value: bagging_fraction=1.0\n",
      "[LightGBM] [Warning] lambda_l1 is set=0.5955392344062058, reg_alpha=0.0 will be ignored. Current value: lambda_l1=0.5955392344062058\n",
      "[LightGBM] [Warning] feature_fraction is set=0.7, colsample_bytree=1.0 will be ignored. Current value: feature_fraction=0.7\n",
      "[LightGBM] [Warning] lambda_l2 is set=1.1394638571883556e-08, reg_lambda=0.0 will be ignored. Current value: lambda_l2=1.1394638571883556e-08\n",
      "[LightGBM] [Warning] bagging_freq is set=0, subsample_freq=0 will be ignored. Current value: bagging_freq=0\n"
     ]
    },
    {
     "name": "stderr",
     "output_type": "stream",
     "text": [
      "/media/bruno/f331903b-17cb-447b-b132-e6f1f08f80f8/Development/02_TwitterBR_SentimentAnalysis/venv/lib/python3.8/site-packages/lightgbm/engine.py:151: UserWarning: Found `num_iterations` in params. Will use it instead of argument\n",
      "  warnings.warn(\"Found `{}` in params. Will use it instead of argument\".format(alias))\n",
      "/media/bruno/f331903b-17cb-447b-b132-e6f1f08f80f8/Development/02_TwitterBR_SentimentAnalysis/venv/lib/python3.8/site-packages/lightgbm/engine.py:156: UserWarning: Found `early_stopping_round` in params. Will use it instead of argument\n",
      "  warnings.warn(\"Found `{}` in params. Will use it instead of argument\".format(alias))\n"
     ]
    },
    {
     "name": "stdout",
     "output_type": "stream",
     "text": [
      "[LightGBM] [Warning] bagging_fraction is set=1.0, subsample=1.0 will be ignored. Current value: bagging_fraction=1.0\n",
      "[LightGBM] [Warning] lambda_l1 is set=0.5955392344062058, reg_alpha=0.0 will be ignored. Current value: lambda_l1=0.5955392344062058\n",
      "[LightGBM] [Warning] feature_fraction is set=0.7, colsample_bytree=1.0 will be ignored. Current value: feature_fraction=0.7\n",
      "[LightGBM] [Warning] lambda_l2 is set=1.1394638571883556e-08, reg_lambda=0.0 will be ignored. Current value: lambda_l2=1.1394638571883556e-08\n",
      "[LightGBM] [Warning] bagging_freq is set=0, subsample_freq=0 will be ignored. Current value: bagging_freq=0\n"
     ]
    },
    {
     "name": "stderr",
     "output_type": "stream",
     "text": [
      "/media/bruno/f331903b-17cb-447b-b132-e6f1f08f80f8/Development/02_TwitterBR_SentimentAnalysis/venv/lib/python3.8/site-packages/lightgbm/engine.py:151: UserWarning: Found `num_iterations` in params. Will use it instead of argument\n",
      "  warnings.warn(\"Found `{}` in params. Will use it instead of argument\".format(alias))\n",
      "/media/bruno/f331903b-17cb-447b-b132-e6f1f08f80f8/Development/02_TwitterBR_SentimentAnalysis/venv/lib/python3.8/site-packages/lightgbm/engine.py:156: UserWarning: Found `early_stopping_round` in params. Will use it instead of argument\n",
      "  warnings.warn(\"Found `{}` in params. Will use it instead of argument\".format(alias))\n"
     ]
    },
    {
     "name": "stdout",
     "output_type": "stream",
     "text": [
      "[LightGBM] [Warning] bagging_fraction is set=1.0, subsample=1.0 will be ignored. Current value: bagging_fraction=1.0\n",
      "[LightGBM] [Warning] lambda_l1 is set=0.5955392344062058, reg_alpha=0.0 will be ignored. Current value: lambda_l1=0.5955392344062058\n",
      "[LightGBM] [Warning] feature_fraction is set=0.7, colsample_bytree=1.0 will be ignored. Current value: feature_fraction=0.7\n",
      "[LightGBM] [Warning] lambda_l2 is set=1.1394638571883556e-08, reg_lambda=0.0 will be ignored. Current value: lambda_l2=1.1394638571883556e-08\n",
      "[LightGBM] [Warning] bagging_freq is set=0, subsample_freq=0 will be ignored. Current value: bagging_freq=0\n"
     ]
    },
    {
     "name": "stderr",
     "output_type": "stream",
     "text": [
      "/media/bruno/f331903b-17cb-447b-b132-e6f1f08f80f8/Development/02_TwitterBR_SentimentAnalysis/venv/lib/python3.8/site-packages/lightgbm/engine.py:151: UserWarning: Found `num_iterations` in params. Will use it instead of argument\n",
      "  warnings.warn(\"Found `{}` in params. Will use it instead of argument\".format(alias))\n",
      "/media/bruno/f331903b-17cb-447b-b132-e6f1f08f80f8/Development/02_TwitterBR_SentimentAnalysis/venv/lib/python3.8/site-packages/lightgbm/engine.py:156: UserWarning: Found `early_stopping_round` in params. Will use it instead of argument\n",
      "  warnings.warn(\"Found `{}` in params. Will use it instead of argument\".format(alias))\n"
     ]
    },
    {
     "name": "stdout",
     "output_type": "stream",
     "text": [
      "[LightGBM] [Warning] bagging_fraction is set=1.0, subsample=1.0 will be ignored. Current value: bagging_fraction=1.0\n",
      "[LightGBM] [Warning] lambda_l1 is set=0.5955392344062058, reg_alpha=0.0 will be ignored. Current value: lambda_l1=0.5955392344062058\n",
      "[LightGBM] [Warning] feature_fraction is set=0.7, colsample_bytree=1.0 will be ignored. Current value: feature_fraction=0.7\n",
      "[LightGBM] [Warning] lambda_l2 is set=1.1394638571883556e-08, reg_lambda=0.0 will be ignored. Current value: lambda_l2=1.1394638571883556e-08\n",
      "[LightGBM] [Warning] bagging_freq is set=0, subsample_freq=0 will be ignored. Current value: bagging_freq=0\n"
     ]
    }
   ],
   "source": [
    "models_parameters = {\n",
    "    'RF': {'n_estimators':200, 'criterion':'entropy', 'n_jobs':-1, 'class_weight': 'balanced'},\n",
    "    'LR': {'n_jobs': -1, 'class_weight': 'balanced'},\n",
    "    'LinearSVM': {'C':1.0, 'dual':False, 'class_weight': 'balanced'},\n",
    "    'PolinomialSVM': {'C':10.0, 'kernel': 'poly', 'class_weight': 'balanced'},\n",
    "    'BernoulliNB': {'alpha':0.1},\n",
    "    'MLP': {'activation':'tanh', 'learning_rate_init': 0.001, 'learning_rate': 'adaptive', 'alpha': 0.001, 'early_stopping': True, 'hidden_layer_sizes':(200, 200)},\n",
    "    'DT': {'criterion': 'gini', 'max_depth': None, 'class_weight': 'balanced'},\n",
    "    'LGB': {'objective': 'multiclass', 'metric': 'multi_logloss', 'num_class': 3, 'verbosity': -1, 'feature_pre_filter': False, 'lambda_l1': 0.5955392344062058, \n",
    "            'lambda_l2': 1.1394638571883556e-08, 'num_leaves': 35, 'feature_fraction': 0.7, 'bagging_fraction': 1.0, 'bagging_freq': 0, 'min_child_samples': 5, \n",
    "            'num_iterations': 200, 'early_stopping_round': None, 'random_state': None, 'class_weight': 'balanced'},\n",
    "    'CB': {'loss_function': 'MultiClass', 'classes_count': 3, 'iterations': 200, 'save_snapshot': False, 'verbose': False, 'class_weight': 'balanced'},\n",
    "    'MultinomialNB': {'alpha': 0.125},\n",
    "    'TabNet': {'n_d':64, 'n_a':64, 'n_steps':5, 'gamma':1.5, 'n_independent':3, 'n_shared':3,\n",
    "               'cat_idxs': [], 'cat_dims': [],'cat_emb_dim': 0, 'lambda_sparse': 1e-4, \n",
    "               'momentum': 0.3, 'clip_value': 2., 'optimizer_fn': torch.optim.Adam, 'optimizer_params': dict(lr=2e-2),\n",
    "               'scheduler_params':  {\"gamma\": 0.95, \"step_size\": 20},'scheduler_fn': torch.optim.lr_scheduler.StepLR, 'epsilon':1e-15}\n",
    "}\n",
    "\n",
    "fit_parameters = {\n",
    "    'RF': {},\n",
    "    'LR': {},\n",
    "    'LinearSVM': {},\n",
    "    'PolinomialSVM': {},\n",
    "    'BernoulliNB': {},\n",
    "    'MLP': {},\n",
    "    'DT': {},\n",
    "    'LGB': {},\n",
    "    'CB': {},\n",
    "    'MultinomialNB': {},\n",
    "    'TabNet': {'max_epochs': 200},\n",
    "}\n",
    "\n",
    "models_to_train = {\n",
    "    'RF': RandomForestClassifier,\n",
    "    'LR': LogisticRegression,\n",
    "    'LinearSVM': LinearSVC,\n",
    "    #'PolinomialSVM': SVC,\n",
    "    'BernoulliNB': BernoulliNB,\n",
    "    'MLP': MLPClassifier,\n",
    "    'DT': DecisionTreeClassifier,\n",
    "    'LGB': LGBMModel,\n",
    "    #'CB': CatBoostClassifier,\n",
    "    'MultinomialNB': MultinomialNB,\n",
    "    #'TabNet': TabNetClassifier,\n",
    "}\n",
    "\n",
    "\n",
    "training_repetitions = 10\n",
    "trained_models = []\n",
    "test_scores = []\n",
    "\n",
    "with mlflow.start_run(run_name=EXPERIMENT_RUN_NAME, experiment_id=EXPERIMENT_ID) as main_run:\n",
    "    shutil.rmtree(settings.LOGS_ARTIFACTS_PATH)\n",
    "    os.makedirs(settings.LOGS_ARTIFACTS_PATH) \n",
    "\n",
    "    mlflow.log_param('training_repetitions', training_repetitions)\n",
    "    \n",
    "    mlflow.log_param('main_token_processors', ', '.join([item.__name__ for item in main_token_processors]))\n",
    "    mlflow.log_param('extra_token_processors', ', '.join([item.__name__ for item in extra_token_processors]))\n",
    "\n",
    "    mlflow.log_param('main_sentence_processors', ', '.join([item.__name__ for item in main_sentence_processors]))\n",
    "    mlflow.log_param('extra_sentence_processors', ', '.join([item.__name__ for item in extra_sentence_processors]))\n",
    "    \n",
    "    simple_partial_clean_text_params, complex_partial_clean_text_params = format_nested_parameters(partial_clean_text.keywords, 'clean_text')\n",
    "    mlflow.log_params(simple_partial_clean_text_params)\n",
    "\n",
    "    simple_pipeline_params, complex_pipeline_params = format_nested_parameters(pipeline_parameters, 'pipeline')\n",
    "    mlflow.log_params(simple_pipeline_params)\n",
    "    \n",
    "    mlflow.log_param('X_training', X_training.shape)\n",
    "    mlflow.log_param('X_test', X_test.shape)\n",
    "\n",
    "    for ix in tqdm(range(training_repetitions)):\n",
    "        iteration_index = np.arange(X_training.shape[0])\n",
    "        np.random.shuffle(iteration_index)\n",
    "\n",
    "        for model_name, model_class in models_to_train.items():\n",
    "\n",
    "            with mlflow.start_run(run_name=f'01_{ix}_ReproducePaper_{model_name}', experiment_id=EXPERIMENT_ID, nested=True) as nested_run:\n",
    "                start_time = time.time()\n",
    "                model = model_class(**models_parameters.get(model_name, {}))\n",
    "                model.fit(X_training[iteration_index], y_training[iteration_index])\n",
    "                mlflow.log_metric('training_time', time.time() - start_time)\n",
    "\n",
    "                trained_models.append((model_name, ix, model))\n",
    "\n",
    "                preds = model.predict(X_test)\n",
    "                pred_labels = np.rint(preds)\n",
    "\n",
    "                sparse_y = y_to_sparse(y_test)\n",
    "                sparse_pred = y_hat_to_sparse(pred_labels)\n",
    "\n",
    "                eval_metric = metrics.f1_score(sparse_y, sparse_pred, average=None)\n",
    "                test_scores.append((model_name, ix, eval_metric))\n",
    "\n",
    "                mlflow.log_param('model_name', model_name)\n",
    "                mlflow.log_params(models_parameters.get(model_name, {}))\n",
    "                mlflow.sklearn.log_model(model, \"model\")\n",
    "                for ix, metric in enumerate(['F1-Neg', 'F1-Neu', 'F1-Pos']):\n",
    "                    mlflow.log_metric(metric, eval_metric[ix])\n",
    "                mlflow.log_metric(\"Average F1\", np.mean(eval_metric))\n",
    "\n",
    "    # Individual Evaluation Metrics\n",
    "    evaluation_frame = pd.DataFrame(test_scores, columns=['Algorithm', 'Iteration', 'RawMetrics'])\n",
    "    evaluation_f1_matrix = np.stack(evaluation_frame['RawMetrics'].to_list(), axis=0)\n",
    "    evaluation_frame = pd.concat([evaluation_frame, pd.DataFrame(evaluation_f1_matrix, columns=['F1-Neg', 'F1-Neu', 'F1-Pos'])], axis=1)\n",
    "    evaluation_frame['F1'] = np.mean(evaluation_f1_matrix, axis=1)\n",
    "\n",
    "    evaluation_frame.to_csv(f'{settings.LOGS_ARTIFACTS_PATH}/experiment_runs.csv')\n",
    "    evaluation_frame.to_html(f'{settings.LOGS_ARTIFACTS_PATH}/experiment_runs.html')\n",
    "\n",
    "    #Summarized Evaluation Metrics\n",
    "    evaluation_summary_frame = (evaluation_frame\n",
    "                                [['Algorithm', 'F1-Neg', 'F1-Neu', 'F1-Pos', 'F1']]\n",
    "                                .groupby('Algorithm')\n",
    "                                .agg([np.mean, np.std])\n",
    "                               )\n",
    "\n",
    "    for item in evaluation_summary_frame.itertuples():\n",
    "        mlflow.log_metric(item.Index, item._7)\n",
    "\n",
    "    best_result_index = evaluation_summary_frame[('F1', 'mean')].argmax()\n",
    "    for metric in ['F1-Neg', 'F1-Neu', 'F1-Pos', 'F1']:\n",
    "        mlflow.log_metric(metric, evaluation_summary_frame.iloc[best_result_index][(metric, \"mean\")])\n",
    "\n",
    "    evaluation_summary_frame.to_csv(f'{settings.LOGS_ARTIFACTS_PATH}/experiment_runs_summary.csv')\n",
    "    evaluation_summary_frame.to_html(f'{settings.LOGS_ARTIFACTS_PATH}/experiment_runs_summary.html')\n",
    "\n",
    "    for param_name, param_value in {**complex_partial_clean_text_params, **complex_pipeline_params}.items():\n",
    "        with open(f'{settings.LOGS_ARTIFACTS_PATH}/{param_name}.txt', 'w') as file:\n",
    "            file.write(param_value)\n",
    "\n",
    "    mlflow.log_artifact(settings.LOGS_ARTIFACTS_PATH)"
   ]
  },
  {
   "cell_type": "markdown",
   "metadata": {},
   "source": [
    "## Experiment Results"
   ]
  },
  {
   "cell_type": "code",
   "execution_count": 17,
   "metadata": {},
   "outputs": [
    {
     "data": {
      "text/html": [
       "<h3>Individual Predictions</h3>"
      ],
      "text/plain": [
       "<IPython.core.display.HTML object>"
      ]
     },
     "metadata": {},
     "output_type": "display_data"
    },
    {
     "data": {
      "text/html": [
       "<div>\n",
       "<style scoped>\n",
       "    .dataframe tbody tr th:only-of-type {\n",
       "        vertical-align: middle;\n",
       "    }\n",
       "\n",
       "    .dataframe tbody tr th {\n",
       "        vertical-align: top;\n",
       "    }\n",
       "\n",
       "    .dataframe thead th {\n",
       "        text-align: right;\n",
       "    }\n",
       "</style>\n",
       "<table border=\"1\" class=\"dataframe\">\n",
       "  <thead>\n",
       "    <tr style=\"text-align: right;\">\n",
       "      <th></th>\n",
       "      <th>Algorithm</th>\n",
       "      <th>Iteration</th>\n",
       "      <th>RawMetrics</th>\n",
       "      <th>F1-Neg</th>\n",
       "      <th>F1-Neu</th>\n",
       "      <th>F1-Pos</th>\n",
       "      <th>F1</th>\n",
       "    </tr>\n",
       "  </thead>\n",
       "  <tbody>\n",
       "    <tr>\n",
       "      <th>0</th>\n",
       "      <td>RF</td>\n",
       "      <td>0</td>\n",
       "      <td>[0.6911519198664441, 0.4679334916864608, 0.7555555555555555]</td>\n",
       "      <td>0.691152</td>\n",
       "      <td>0.467933</td>\n",
       "      <td>0.755556</td>\n",
       "      <td>0.638214</td>\n",
       "    </tr>\n",
       "    <tr>\n",
       "      <th>1</th>\n",
       "      <td>LR</td>\n",
       "      <td>2</td>\n",
       "      <td>[0.6470588235294117, 0.5443786982248521, 0.6943583384996901]</td>\n",
       "      <td>0.647059</td>\n",
       "      <td>0.544379</td>\n",
       "      <td>0.694358</td>\n",
       "      <td>0.628599</td>\n",
       "    </tr>\n",
       "    <tr>\n",
       "      <th>2</th>\n",
       "      <td>LinearSVM</td>\n",
       "      <td>2</td>\n",
       "      <td>[0.6758383490971626, 0.5324553151458137, 0.7603121516164995]</td>\n",
       "      <td>0.675838</td>\n",
       "      <td>0.532455</td>\n",
       "      <td>0.760312</td>\n",
       "      <td>0.656202</td>\n",
       "    </tr>\n",
       "    <tr>\n",
       "      <th>3</th>\n",
       "      <td>BernoulliNB</td>\n",
       "      <td>2</td>\n",
       "      <td>[0.6830092983939138, 0.509926854754441, 0.7723404255319148]</td>\n",
       "      <td>0.683009</td>\n",
       "      <td>0.509927</td>\n",
       "      <td>0.772340</td>\n",
       "      <td>0.655092</td>\n",
       "    </tr>\n",
       "    <tr>\n",
       "      <th>4</th>\n",
       "      <td>MLP</td>\n",
       "      <td>2</td>\n",
       "      <td>[0.6546489563567361, 0.5638766519823789, 0.7777170944838885]</td>\n",
       "      <td>0.654649</td>\n",
       "      <td>0.563877</td>\n",
       "      <td>0.777717</td>\n",
       "      <td>0.665414</td>\n",
       "    </tr>\n",
       "    <tr>\n",
       "      <th>5</th>\n",
       "      <td>DT</td>\n",
       "      <td>2</td>\n",
       "      <td>[0.5369583687340697, 0.4141791044776119, 0.6425748164878599]</td>\n",
       "      <td>0.536958</td>\n",
       "      <td>0.414179</td>\n",
       "      <td>0.642575</td>\n",
       "      <td>0.531237</td>\n",
       "    </tr>\n",
       "    <tr>\n",
       "      <th>6</th>\n",
       "      <td>LGB</td>\n",
       "      <td>2</td>\n",
       "      <td>[0.6483893077450309, 0.52565445026178, 0.7397260273972602]</td>\n",
       "      <td>0.648389</td>\n",
       "      <td>0.525654</td>\n",
       "      <td>0.739726</td>\n",
       "      <td>0.637923</td>\n",
       "    </tr>\n",
       "    <tr>\n",
       "      <th>7</th>\n",
       "      <td>MultinomialNB</td>\n",
       "      <td>2</td>\n",
       "      <td>[0.69374492282697, 0.49253731343283585, 0.7671528903295516]</td>\n",
       "      <td>0.693745</td>\n",
       "      <td>0.492537</td>\n",
       "      <td>0.767153</td>\n",
       "      <td>0.651145</td>\n",
       "    </tr>\n",
       "    <tr>\n",
       "      <th>8</th>\n",
       "      <td>RF</td>\n",
       "      <td>1</td>\n",
       "      <td>[0.6745762711864406, 0.4770857814336075, 0.7471091000502765]</td>\n",
       "      <td>0.674576</td>\n",
       "      <td>0.477086</td>\n",
       "      <td>0.747109</td>\n",
       "      <td>0.632924</td>\n",
       "    </tr>\n",
       "    <tr>\n",
       "      <th>9</th>\n",
       "      <td>LR</td>\n",
       "      <td>2</td>\n",
       "      <td>[0.6470588235294117, 0.5443786982248521, 0.6943583384996901]</td>\n",
       "      <td>0.647059</td>\n",
       "      <td>0.544379</td>\n",
       "      <td>0.694358</td>\n",
       "      <td>0.628599</td>\n",
       "    </tr>\n",
       "  </tbody>\n",
       "</table>\n",
       "</div>"
      ],
      "text/plain": [
       "       Algorithm  Iteration  \\\n",
       "0             RF          0   \n",
       "1             LR          2   \n",
       "2      LinearSVM          2   \n",
       "3    BernoulliNB          2   \n",
       "4            MLP          2   \n",
       "5             DT          2   \n",
       "6            LGB          2   \n",
       "7  MultinomialNB          2   \n",
       "8             RF          1   \n",
       "9             LR          2   \n",
       "\n",
       "                                                     RawMetrics    F1-Neg  \\\n",
       "0  [0.6911519198664441, 0.4679334916864608, 0.7555555555555555]  0.691152   \n",
       "1  [0.6470588235294117, 0.5443786982248521, 0.6943583384996901]  0.647059   \n",
       "2  [0.6758383490971626, 0.5324553151458137, 0.7603121516164995]  0.675838   \n",
       "3   [0.6830092983939138, 0.509926854754441, 0.7723404255319148]  0.683009   \n",
       "4  [0.6546489563567361, 0.5638766519823789, 0.7777170944838885]  0.654649   \n",
       "5  [0.5369583687340697, 0.4141791044776119, 0.6425748164878599]  0.536958   \n",
       "6    [0.6483893077450309, 0.52565445026178, 0.7397260273972602]  0.648389   \n",
       "7   [0.69374492282697, 0.49253731343283585, 0.7671528903295516]  0.693745   \n",
       "8  [0.6745762711864406, 0.4770857814336075, 0.7471091000502765]  0.674576   \n",
       "9  [0.6470588235294117, 0.5443786982248521, 0.6943583384996901]  0.647059   \n",
       "\n",
       "     F1-Neu    F1-Pos        F1  \n",
       "0  0.467933  0.755556  0.638214  \n",
       "1  0.544379  0.694358  0.628599  \n",
       "2  0.532455  0.760312  0.656202  \n",
       "3  0.509927  0.772340  0.655092  \n",
       "4  0.563877  0.777717  0.665414  \n",
       "5  0.414179  0.642575  0.531237  \n",
       "6  0.525654  0.739726  0.637923  \n",
       "7  0.492537  0.767153  0.651145  \n",
       "8  0.477086  0.747109  0.632924  \n",
       "9  0.544379  0.694358  0.628599  "
      ]
     },
     "metadata": {},
     "output_type": "display_data"
    },
    {
     "data": {
      "text/html": [
       "<h3>Summarized Predictions</h3>"
      ],
      "text/plain": [
       "<IPython.core.display.HTML object>"
      ]
     },
     "metadata": {},
     "output_type": "display_data"
    },
    {
     "data": {
      "text/html": [
       "<div>\n",
       "<style scoped>\n",
       "    .dataframe tbody tr th:only-of-type {\n",
       "        vertical-align: middle;\n",
       "    }\n",
       "\n",
       "    .dataframe tbody tr th {\n",
       "        vertical-align: top;\n",
       "    }\n",
       "\n",
       "    .dataframe thead tr th {\n",
       "        text-align: left;\n",
       "    }\n",
       "\n",
       "    .dataframe thead tr:last-of-type th {\n",
       "        text-align: right;\n",
       "    }\n",
       "</style>\n",
       "<table border=\"1\" class=\"dataframe\">\n",
       "  <thead>\n",
       "    <tr>\n",
       "      <th></th>\n",
       "      <th colspan=\"2\" halign=\"left\">F1-Neg</th>\n",
       "      <th colspan=\"2\" halign=\"left\">F1-Neu</th>\n",
       "      <th colspan=\"2\" halign=\"left\">F1-Pos</th>\n",
       "      <th colspan=\"2\" halign=\"left\">F1</th>\n",
       "    </tr>\n",
       "    <tr>\n",
       "      <th></th>\n",
       "      <th>mean</th>\n",
       "      <th>std</th>\n",
       "      <th>mean</th>\n",
       "      <th>std</th>\n",
       "      <th>mean</th>\n",
       "      <th>std</th>\n",
       "      <th>mean</th>\n",
       "      <th>std</th>\n",
       "    </tr>\n",
       "    <tr>\n",
       "      <th>Algorithm</th>\n",
       "      <th></th>\n",
       "      <th></th>\n",
       "      <th></th>\n",
       "      <th></th>\n",
       "      <th></th>\n",
       "      <th></th>\n",
       "      <th></th>\n",
       "      <th></th>\n",
       "    </tr>\n",
       "  </thead>\n",
       "  <tbody>\n",
       "    <tr>\n",
       "      <th>MLP</th>\n",
       "      <td>0.679513</td>\n",
       "      <td>0.014038</td>\n",
       "      <td>0.526901</td>\n",
       "      <td>0.018639</td>\n",
       "      <td>0.768144</td>\n",
       "      <td>0.008255</td>\n",
       "      <td>0.658186</td>\n",
       "      <td>0.006432</td>\n",
       "    </tr>\n",
       "    <tr>\n",
       "      <th>LinearSVM</th>\n",
       "      <td>0.674732</td>\n",
       "      <td>0.000833</td>\n",
       "      <td>0.531335</td>\n",
       "      <td>0.000691</td>\n",
       "      <td>0.759563</td>\n",
       "      <td>0.000330</td>\n",
       "      <td>0.655210</td>\n",
       "      <td>0.000446</td>\n",
       "    </tr>\n",
       "    <tr>\n",
       "      <th>BernoulliNB</th>\n",
       "      <td>0.683009</td>\n",
       "      <td>0.000000</td>\n",
       "      <td>0.509927</td>\n",
       "      <td>0.000000</td>\n",
       "      <td>0.772340</td>\n",
       "      <td>0.000000</td>\n",
       "      <td>0.655092</td>\n",
       "      <td>0.000000</td>\n",
       "    </tr>\n",
       "    <tr>\n",
       "      <th>MultinomialNB</th>\n",
       "      <td>0.693745</td>\n",
       "      <td>0.000000</td>\n",
       "      <td>0.492537</td>\n",
       "      <td>0.000000</td>\n",
       "      <td>0.767153</td>\n",
       "      <td>0.000000</td>\n",
       "      <td>0.651145</td>\n",
       "      <td>0.000000</td>\n",
       "    </tr>\n",
       "    <tr>\n",
       "      <th>LGB</th>\n",
       "      <td>0.648389</td>\n",
       "      <td>0.000000</td>\n",
       "      <td>0.525654</td>\n",
       "      <td>0.000000</td>\n",
       "      <td>0.739726</td>\n",
       "      <td>0.000000</td>\n",
       "      <td>0.637923</td>\n",
       "      <td>0.000000</td>\n",
       "    </tr>\n",
       "    <tr>\n",
       "      <th>RF</th>\n",
       "      <td>0.674348</td>\n",
       "      <td>0.008946</td>\n",
       "      <td>0.464860</td>\n",
       "      <td>0.009739</td>\n",
       "      <td>0.750448</td>\n",
       "      <td>0.003780</td>\n",
       "      <td>0.629885</td>\n",
       "      <td>0.005633</td>\n",
       "    </tr>\n",
       "    <tr>\n",
       "      <th>LR</th>\n",
       "      <td>0.647059</td>\n",
       "      <td>0.000000</td>\n",
       "      <td>0.544379</td>\n",
       "      <td>0.000000</td>\n",
       "      <td>0.694358</td>\n",
       "      <td>0.000000</td>\n",
       "      <td>0.628599</td>\n",
       "      <td>0.000000</td>\n",
       "    </tr>\n",
       "    <tr>\n",
       "      <th>DT</th>\n",
       "      <td>0.540466</td>\n",
       "      <td>0.005913</td>\n",
       "      <td>0.422215</td>\n",
       "      <td>0.013375</td>\n",
       "      <td>0.644665</td>\n",
       "      <td>0.005141</td>\n",
       "      <td>0.535782</td>\n",
       "      <td>0.005655</td>\n",
       "    </tr>\n",
       "  </tbody>\n",
       "</table>\n",
       "</div>"
      ],
      "text/plain": [
       "                 F1-Neg              F1-Neu              F1-Pos            \\\n",
       "                   mean       std      mean       std      mean       std   \n",
       "Algorithm                                                                   \n",
       "MLP            0.679513  0.014038  0.526901  0.018639  0.768144  0.008255   \n",
       "LinearSVM      0.674732  0.000833  0.531335  0.000691  0.759563  0.000330   \n",
       "BernoulliNB    0.683009  0.000000  0.509927  0.000000  0.772340  0.000000   \n",
       "MultinomialNB  0.693745  0.000000  0.492537  0.000000  0.767153  0.000000   \n",
       "LGB            0.648389  0.000000  0.525654  0.000000  0.739726  0.000000   \n",
       "RF             0.674348  0.008946  0.464860  0.009739  0.750448  0.003780   \n",
       "LR             0.647059  0.000000  0.544379  0.000000  0.694358  0.000000   \n",
       "DT             0.540466  0.005913  0.422215  0.013375  0.644665  0.005141   \n",
       "\n",
       "                     F1            \n",
       "                   mean       std  \n",
       "Algorithm                          \n",
       "MLP            0.658186  0.006432  \n",
       "LinearSVM      0.655210  0.000446  \n",
       "BernoulliNB    0.655092  0.000000  \n",
       "MultinomialNB  0.651145  0.000000  \n",
       "LGB            0.637923  0.000000  \n",
       "RF             0.629885  0.005633  \n",
       "LR             0.628599  0.000000  \n",
       "DT             0.535782  0.005655  "
      ]
     },
     "metadata": {},
     "output_type": "display_data"
    },
    {
     "data": {
      "image/png": "[encoded data removed]",
      "text/plain": [
       "<Figure size 1440x720 with 1 Axes>"
      ]
     },
     "metadata": {
      "needs_background": "light"
     },
     "output_type": "display_data"
    },
    {
     "data": {
      "image/png": "[encoded data removed]",
      "text/plain": [
       "<Figure size 1440x720 with 1 Axes>"
      ]
     },
     "metadata": {
      "needs_background": "light"
     },
     "output_type": "display_data"
    },
    {
     "data": {
      "image/png": "[encoded data removed]",
      "text/plain": [
       "<Figure size 1440x720 with 1 Axes>"
      ]
     },
     "metadata": {
      "needs_background": "light"
     },
     "output_type": "display_data"
    },
    {
     "data": {
      "image/png": "[encoded data removed]",
      "text/plain": [
       "<Figure size 1440x720 with 1 Axes>"
      ]
     },
     "metadata": {
      "needs_background": "light"
     },
     "output_type": "display_data"
    }
   ],
   "source": [
    "display(HTML('<h3>Individual Predictions</h3>'))\n",
    "display(evaluation_frame.head(10))\n",
    "\n",
    "display(HTML('<h3>Summarized Predictions</h3>'))\n",
    "display(evaluation_summary_frame.sort_values(by=('F1', 'mean'), ascending=False))\n",
    "\n",
    "for column in ['F1', 'F1-Neg', 'F1-Neu', 'F1-Pos']:\n",
    "    plt.figure(figsize=(20,10))\n",
    "    ax = sns.boxplot(x=\"Algorithm\", y=column, data=evaluation_frame)\n",
    "    ax.set_title(f'Algorithms {column} performance for {training_repetitions} trainings', fontdict={'fontsize':25});"
   ]
  },
  {
   "cell_type": "code",
   "execution_count": null,
   "metadata": {},
   "outputs": [],
   "source": []
  }
 ],
 "metadata": {
  "kernelspec": {
   "display_name": "Python 3",
   "language": "python",
   "name": "python3"
  },
  "language_info": {
   "codemirror_mode": {
    "name": "ipython",
    "version": 3
   },
   "file_extension": ".py",
   "mimetype": "text/x-python",
   "name": "python",
   "nbconvert_exporter": "python",
   "pygments_lexer": "ipython3",
   "version": "3.8.5"
  }
 },
 "nbformat": 4,
 "nbformat_minor": 4
}
