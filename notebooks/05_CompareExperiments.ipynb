{
 "cells": [
  {
   "cell_type": "code",
   "execution_count": 1,
   "metadata": {},
   "outputs": [],
   "source": [
    "import mlflow\n",
    "import pandas as pd\n",
    "\n",
    "pd.set_option('display.max_columns', None)\n",
    "pd.set_option('display.max_rows', None)"
   ]
  },
  {
   "cell_type": "code",
   "execution_count": 2,
   "metadata": {},
   "outputs": [],
   "source": [
    "best_experiments_result = [\n",
    "    mlflow.search_runs(experiment_ids=[experiment_id], max_results=1,order_by=['metrics.F1 DESC'], filter_string='attributes.status=\"FINISHED\"')\n",
    "    for experiment_id in ['1', '2', '3', '4']\n",
    "]\n",
    "\n",
    "best_results = pd.concat(best_experiments_result, axis=0)"
   ]
  },
  {
   "cell_type": "code",
   "execution_count": 3,
   "metadata": {},
   "outputs": [
    {
     "data": {
      "text/html": [
       "<div>\n",
       "<style scoped>\n",
       "    .dataframe tbody tr th:only-of-type {\n",
       "        vertical-align: middle;\n",
       "    }\n",
       "\n",
       "    .dataframe tbody tr th {\n",
       "        vertical-align: top;\n",
       "    }\n",
       "\n",
       "    .dataframe thead th {\n",
       "        text-align: right;\n",
       "    }\n",
       "</style>\n",
       "<table border=\"1\" class=\"dataframe\">\n",
       "  <thead>\n",
       "    <tr style=\"text-align: right;\">\n",
       "      <th></th>\n",
       "      <th>experiment_name</th>\n",
       "      <th>tags.mlflow.runName</th>\n",
       "      <th>run_id</th>\n",
       "      <th>experiment_id</th>\n",
       "      <th>metrics.F1-Neg</th>\n",
       "      <th>metrics.F1-Neu</th>\n",
       "      <th>metrics.F1-Pos</th>\n",
       "      <th>metrics.F1</th>\n",
       "      <th>metrics.training_time</th>\n",
       "    </tr>\n",
       "  </thead>\n",
       "  <tbody>\n",
       "    <tr>\n",
       "      <th>0</th>\n",
       "      <td>Reproduce Paper Results</td>\n",
       "      <td>01_ReproducePaper</td>\n",
       "      <td>4122677bfdce43c48c36c17c16d3ceb7</td>\n",
       "      <td>1</td>\n",
       "      <td>0.678725</td>\n",
       "      <td>0.515604</td>\n",
       "      <td>0.761328</td>\n",
       "      <td>0.651886</td>\n",
       "      <td>NaN</td>\n",
       "    </tr>\n",
       "    <tr>\n",
       "      <th>0</th>\n",
       "      <td>Improve Paper Results</td>\n",
       "      <td>02_ImprovePaper</td>\n",
       "      <td>deafbebeedfe4dccb6f2493839f70818</td>\n",
       "      <td>2</td>\n",
       "      <td>0.679513</td>\n",
       "      <td>0.526901</td>\n",
       "      <td>0.768144</td>\n",
       "      <td>0.658186</td>\n",
       "      <td>NaN</td>\n",
       "    </tr>\n",
       "    <tr>\n",
       "      <th>0</th>\n",
       "      <td>Fine Tune BERT</td>\n",
       "      <td>TrackingParameters</td>\n",
       "      <td>65c6293fa3aa4f9fa91497a823f25be7</td>\n",
       "      <td>3</td>\n",
       "      <td>0.777300</td>\n",
       "      <td>0.658052</td>\n",
       "      <td>0.854673</td>\n",
       "      <td>0.783085</td>\n",
       "      <td>189.521447</td>\n",
       "    </tr>\n",
       "    <tr>\n",
       "      <th>0</th>\n",
       "      <td>BERT Embeddings</td>\n",
       "      <td>2_Embeddings_LGB</td>\n",
       "      <td>5b0f1e83ca2c4cf0bee9425ebc4e4f43</td>\n",
       "      <td>4</td>\n",
       "      <td>0.684044</td>\n",
       "      <td>0.557864</td>\n",
       "      <td>0.774527</td>\n",
       "      <td>NaN</td>\n",
       "      <td>57.834830</td>\n",
       "    </tr>\n",
       "  </tbody>\n",
       "</table>\n",
       "</div>"
      ],
      "text/plain": [
       "           experiment_name tags.mlflow.runName  \\\n",
       "0  Reproduce Paper Results   01_ReproducePaper   \n",
       "0    Improve Paper Results     02_ImprovePaper   \n",
       "0           Fine Tune BERT  TrackingParameters   \n",
       "0          BERT Embeddings    2_Embeddings_LGB   \n",
       "\n",
       "                             run_id experiment_id  metrics.F1-Neg  \\\n",
       "0  4122677bfdce43c48c36c17c16d3ceb7             1        0.678725   \n",
       "0  deafbebeedfe4dccb6f2493839f70818             2        0.679513   \n",
       "0  65c6293fa3aa4f9fa91497a823f25be7             3        0.777300   \n",
       "0  5b0f1e83ca2c4cf0bee9425ebc4e4f43             4        0.684044   \n",
       "\n",
       "   metrics.F1-Neu  metrics.F1-Pos  metrics.F1  metrics.training_time  \n",
       "0        0.515604        0.761328    0.651886                    NaN  \n",
       "0        0.526901        0.768144    0.658186                    NaN  \n",
       "0        0.658052        0.854673    0.783085             189.521447  \n",
       "0        0.557864        0.774527         NaN              57.834830  "
      ]
     },
     "execution_count": 3,
     "metadata": {},
     "output_type": "execute_result"
    }
   ],
   "source": [
    "columns_to_show = ['experiment_name', 'tags.mlflow.runName', 'run_id', 'experiment_id', \n",
    "                   'metrics.F1-Neg', 'metrics.F1-Neu', 'metrics.F1-Pos', 'metrics.F1', 'metrics.training_time']\n",
    "\n",
    "(best_results\n",
    " .assign(experiment_name=lambda f: f['experiment_id'].apply(lambda id: mlflow.get_experiment(id).name))\n",
    " [columns_to_show]\n",
    " .sort_values(by='experiment_id')\n",
    ")"
   ]
  },
  {
   "cell_type": "code",
   "execution_count": null,
   "metadata": {},
   "outputs": [],
   "source": []
  }
 ],
 "metadata": {
  "kernelspec": {
   "display_name": "Python 3",
   "language": "python",
   "name": "python3"
  },
  "language_info": {
   "codemirror_mode": {
    "name": "ipython",
    "version": 3
   },
   "file_extension": ".py",
   "mimetype": "text/x-python",
   "name": "python",
   "nbconvert_exporter": "python",
   "pygments_lexer": "ipython3",
   "version": "3.8.5"
  }
 },
 "nbformat": 4,
 "nbformat_minor": 4
}
