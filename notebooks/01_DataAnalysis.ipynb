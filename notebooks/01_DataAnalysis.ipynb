{
 "cells": [
  {
   "cell_type": "markdown",
   "metadata": {},
   "source": [
    "# Exploratory Data Analysis\n",
    "\n",
    "## Libraries and Settings\n",
    "\n",
    "Load basic libraries and append source code directory (src) into the system path."
   ]
  },
  {
   "cell_type": "code",
   "execution_count": 1,
   "metadata": {},
   "outputs": [],
   "source": [
    "import os\n",
    "import sys\n",
    "\n",
    "sys.path.append(os.path.abspath(os.path.pardir))"
   ]
  },
  {
   "cell_type": "markdown",
   "metadata": {},
   "source": [
    "Thirdy party libraries"
   ]
  },
  {
   "cell_type": "code",
   "execution_count": 2,
   "metadata": {},
   "outputs": [],
   "source": [
    "import pandas as pd\n",
    "import matplotlib.pyplot as plt\n",
    "from IPython.core.display import HTML, display"
   ]
  },
  {
   "cell_type": "markdown",
   "metadata": {},
   "source": [
    "Load functions and resources from internal libraries"
   ]
  },
  {
   "cell_type": "code",
   "execution_count": 3,
   "metadata": {},
   "outputs": [],
   "source": [
    "from src.pipeline.resources import load_corpus"
   ]
  },
  {
   "cell_type": "markdown",
   "metadata": {},
   "source": [
    "Presentation settings"
   ]
  },
  {
   "cell_type": "code",
   "execution_count": 4,
   "metadata": {},
   "outputs": [],
   "source": [
    "%matplotlib inline \n",
    "pd.set_option('max_colwidth', 150)"
   ]
  },
  {
   "cell_type": "markdown",
   "metadata": {},
   "source": [
    "Load and show first corpus rows."
   ]
  },
  {
   "cell_type": "code",
   "execution_count": 5,
   "metadata": {},
   "outputs": [
    {
     "data": {
      "text/html": [
       "<div>\n",
       "<style scoped>\n",
       "    .dataframe tbody tr th:only-of-type {\n",
       "        vertical-align: middle;\n",
       "    }\n",
       "\n",
       "    .dataframe tbody tr th {\n",
       "        vertical-align: top;\n",
       "    }\n",
       "\n",
       "    .dataframe thead th {\n",
       "        text-align: right;\n",
       "    }\n",
       "</style>\n",
       "<table border=\"1\" class=\"dataframe\">\n",
       "  <thead>\n",
       "    <tr style=\"text-align: right;\">\n",
       "      <th></th>\n",
       "      <th>id</th>\n",
       "      <th>hashtag</th>\n",
       "      <th>votes</th>\n",
       "      <th>hard</th>\n",
       "      <th>sentiment</th>\n",
       "      <th>group</th>\n",
       "      <th>text</th>\n",
       "      <th>repeat</th>\n",
       "    </tr>\n",
       "  </thead>\n",
       "  <tbody>\n",
       "    <tr>\n",
       "      <th>0</th>\n",
       "      <td>863044774588272640</td>\n",
       "      <td>#encontro</td>\n",
       "      <td>[1, 1, 1, 1, 1, 1, 1]</td>\n",
       "      <td>0</td>\n",
       "      <td>1</td>\n",
       "      <td>test</td>\n",
       "      <td>que coisa linda O programa estava mostrando uma familia que adotou um adolescente de NUMBER anos que amor !</td>\n",
       "      <td>False</td>\n",
       "    </tr>\n",
       "    <tr>\n",
       "      <th>1</th>\n",
       "      <td>865583716088766467</td>\n",
       "      <td>#encontro</td>\n",
       "      <td>[1, 1, 1, 1, 1, 1, 1]</td>\n",
       "      <td>0</td>\n",
       "      <td>1</td>\n",
       "      <td>test</td>\n",
       "      <td>por mais com as irmãs galvão adorei elas</td>\n",
       "      <td>False</td>\n",
       "    </tr>\n",
       "    <tr>\n",
       "      <th>2</th>\n",
       "      <td>865063232201011201</td>\n",
       "      <td>#TheNoite</td>\n",
       "      <td>[1, 0, 1, 1, 1, 0, 0]</td>\n",
       "      <td>2</td>\n",
       "      <td>1</td>\n",
       "      <td>test</td>\n",
       "      <td>mr CATRA USERNAME lançando sua nova música PPK CHORA no USERNAME k k k 👅 😉 #MrCatra #PpkChora</td>\n",
       "      <td>False</td>\n",
       "    </tr>\n",
       "    <tr>\n",
       "      <th>3</th>\n",
       "      <td>864668391008763905</td>\n",
       "      <td>#masterchefbr</td>\n",
       "      <td>[0, 0, 0, 0, 0, 0, 0]</td>\n",
       "      <td>0</td>\n",
       "      <td>0</td>\n",
       "      <td>test</td>\n",
       "      <td>quem viu aquela lutadora modela barbuda tatuada #MasterChefBR</td>\n",
       "      <td>False</td>\n",
       "    </tr>\n",
       "    <tr>\n",
       "      <th>4</th>\n",
       "      <td>865572794016378882</td>\n",
       "      <td>#encontro</td>\n",
       "      <td>[-1, -1, -1, -1, -1, -1, -1]</td>\n",
       "      <td>0</td>\n",
       "      <td>-1</td>\n",
       "      <td>test</td>\n",
       "      <td>tô passada com esse cara quanta merda pode sair da boca de alguém em alguns minutos 😠</td>\n",
       "      <td>False</td>\n",
       "    </tr>\n",
       "  </tbody>\n",
       "</table>\n",
       "</div>"
      ],
      "text/plain": [
       "                   id        hashtag                         votes hard  \\\n",
       "0  863044774588272640      #encontro         [1, 1, 1, 1, 1, 1, 1]    0   \n",
       "1  865583716088766467      #encontro         [1, 1, 1, 1, 1, 1, 1]    0   \n",
       "2  865063232201011201      #TheNoite         [1, 0, 1, 1, 1, 0, 0]    2   \n",
       "3  864668391008763905  #masterchefbr         [0, 0, 0, 0, 0, 0, 0]    0   \n",
       "4  865572794016378882      #encontro  [-1, -1, -1, -1, -1, -1, -1]    0   \n",
       "\n",
       "  sentiment group  \\\n",
       "0         1  test   \n",
       "1         1  test   \n",
       "2         1  test   \n",
       "3         0  test   \n",
       "4        -1  test   \n",
       "\n",
       "                                                                                                          text  \\\n",
       "0  que coisa linda O programa estava mostrando uma familia que adotou um adolescente de NUMBER anos que amor !   \n",
       "1                                                                     por mais com as irmãs galvão adorei elas   \n",
       "2                mr CATRA USERNAME lançando sua nova música PPK CHORA no USERNAME k k k 👅 😉 #MrCatra #PpkChora   \n",
       "3                                                quem viu aquela lutadora modela barbuda tatuada #MasterChefBR   \n",
       "4                        tô passada com esse cara quanta merda pode sair da boca de alguém em alguns minutos 😠   \n",
       "\n",
       "   repeat  \n",
       "0   False  \n",
       "1   False  \n",
       "2   False  \n",
       "3   False  \n",
       "4   False  "
      ]
     },
     "execution_count": 5,
     "metadata": {},
     "output_type": "execute_result"
    }
   ],
   "source": [
    "frame = load_corpus()\n",
    "frame.head()"
   ]
  },
  {
   "cell_type": "markdown",
   "metadata": {},
   "source": [
    "Show the distribution of values from specific columns."
   ]
  },
  {
   "cell_type": "code",
   "execution_count": 6,
   "metadata": {},
   "outputs": [
    {
     "data": {
      "text/html": [
       "<h3>Hard</h3>"
      ],
      "text/plain": [
       "<IPython.core.display.HTML object>"
      ]
     },
     "metadata": {},
     "output_type": "display_data"
    },
    {
     "data": {
      "text/plain": [
       "0    13852\n",
       "1     1146\n",
       "2       38\n",
       "3        8\n",
       "4        3\n",
       "Name: hard, dtype: int64"
      ]
     },
     "metadata": {},
     "output_type": "display_data"
    },
    {
     "name": "stdout",
     "output_type": "stream",
     "text": [
      "\n"
     ]
    },
    {
     "data": {
      "text/html": [
       "<h3>Sentiment</h3>"
      ],
      "text/plain": [
       "<IPython.core.display.HTML object>"
      ]
     },
     "metadata": {},
     "output_type": "display_data"
    },
    {
     "data": {
      "text/plain": [
       "1     6648\n",
       "-1    4426\n",
       "0     3926\n",
       "-       47\n",
       "Name: sentiment, dtype: int64"
      ]
     },
     "metadata": {},
     "output_type": "display_data"
    },
    {
     "name": "stdout",
     "output_type": "stream",
     "text": [
      "\n"
     ]
    },
    {
     "data": {
      "text/html": [
       "<h3>Group</h3>"
      ],
      "text/plain": [
       "<IPython.core.display.HTML object>"
      ]
     },
     "metadata": {},
     "output_type": "display_data"
    },
    {
     "data": {
      "text/plain": [
       "train    12990\n",
       "test      2010\n",
       "-           47\n",
       "Name: group, dtype: int64"
      ]
     },
     "metadata": {},
     "output_type": "display_data"
    },
    {
     "name": "stdout",
     "output_type": "stream",
     "text": [
      "\n"
     ]
    },
    {
     "data": {
      "text/html": [
       "<h3>Repeat</h3>"
      ],
      "text/plain": [
       "<IPython.core.display.HTML object>"
      ]
     },
     "metadata": {},
     "output_type": "display_data"
    },
    {
     "data": {
      "text/plain": [
       "False    14835\n",
       "True       212\n",
       "Name: repeat, dtype: int64"
      ]
     },
     "metadata": {},
     "output_type": "display_data"
    },
    {
     "name": "stdout",
     "output_type": "stream",
     "text": [
      "\n"
     ]
    }
   ],
   "source": [
    "for column in ['hard', 'sentiment', 'group', 'repeat']:\n",
    "    display(HTML(f'<h3>{column.capitalize()}</h3>'))\n",
    "    display(frame[column].value_counts())\n",
    "    print()"
   ]
  },
  {
   "cell_type": "markdown",
   "metadata": {},
   "source": [
    "Show rows with '-' as sentiment to understand it."
   ]
  },
  {
   "cell_type": "code",
   "execution_count": 7,
   "metadata": {},
   "outputs": [
    {
     "data": {
      "text/html": [
       "<div>\n",
       "<style scoped>\n",
       "    .dataframe tbody tr th:only-of-type {\n",
       "        vertical-align: middle;\n",
       "    }\n",
       "\n",
       "    .dataframe tbody tr th {\n",
       "        vertical-align: top;\n",
       "    }\n",
       "\n",
       "    .dataframe thead th {\n",
       "        text-align: right;\n",
       "    }\n",
       "</style>\n",
       "<table border=\"1\" class=\"dataframe\">\n",
       "  <thead>\n",
       "    <tr style=\"text-align: right;\">\n",
       "      <th></th>\n",
       "      <th>id</th>\n",
       "      <th>hashtag</th>\n",
       "      <th>votes</th>\n",
       "      <th>hard</th>\n",
       "      <th>sentiment</th>\n",
       "      <th>group</th>\n",
       "      <th>text</th>\n",
       "      <th>repeat</th>\n",
       "    </tr>\n",
       "  </thead>\n",
       "  <tbody>\n",
       "    <tr>\n",
       "      <th>15000</th>\n",
       "      <td>864532441318535168</td>\n",
       "      <td>#videoShowAoVivo</td>\n",
       "      <td>[0, 0, 1, 1, -1, 1, 0]</td>\n",
       "      <td>4</td>\n",
       "      <td>-</td>\n",
       "      <td>-</td>\n",
       "      <td>esse vestido de casamento da cibele deu o que falar kkk</td>\n",
       "      <td>False</td>\n",
       "    </tr>\n",
       "    <tr>\n",
       "      <th>15001</th>\n",
       "      <td>864825521020035072</td>\n",
       "      <td>#maisvoce</td>\n",
       "      <td>[0, -1, -1, 1, 0, 0, -1]</td>\n",
       "      <td>2</td>\n",
       "      <td>-</td>\n",
       "      <td>-</td>\n",
       "      <td>essa ana maria braga tá chapadona hj kkk</td>\n",
       "      <td>False</td>\n",
       "    </tr>\n",
       "    <tr>\n",
       "      <th>15002</th>\n",
       "      <td>865204415380246528</td>\n",
       "      <td>#encontro</td>\n",
       "      <td>[0, -1, 1, -1, 0, 0, -1]</td>\n",
       "      <td>0</td>\n",
       "      <td>-</td>\n",
       "      <td>-</td>\n",
       "      <td>O xande de pilares tinha q começar ou encerrar o com malandro é malandro e mané é mané</td>\n",
       "      <td>False</td>\n",
       "    </tr>\n",
       "    <tr>\n",
       "      <th>15003</th>\n",
       "      <td>864533088596107264</td>\n",
       "      <td>#videoShowAoVivo</td>\n",
       "      <td>[0, 1, -1, -1, 0, -1, 0]</td>\n",
       "      <td>0</td>\n",
       "      <td>-</td>\n",
       "      <td>-</td>\n",
       "      <td>perdi #DiegoDarksonMc no vejo depois no USERNAME</td>\n",
       "      <td>False</td>\n",
       "    </tr>\n",
       "    <tr>\n",
       "      <th>15004</th>\n",
       "      <td>862358112182968321</td>\n",
       "      <td>#videoShowAoVivo</td>\n",
       "      <td>[0, 1, -1, -1, 0, 0, -1]</td>\n",
       "      <td>1</td>\n",
       "      <td>-</td>\n",
       "      <td>-</td>\n",
       "      <td>manda o vídeo pro céu quem sabe lá tem wi-fi</td>\n",
       "      <td>False</td>\n",
       "    </tr>\n",
       "  </tbody>\n",
       "</table>\n",
       "</div>"
      ],
      "text/plain": [
       "                       id           hashtag                     votes hard  \\\n",
       "15000  864532441318535168  #videoShowAoVivo    [0, 0, 1, 1, -1, 1, 0]    4   \n",
       "15001  864825521020035072         #maisvoce  [0, -1, -1, 1, 0, 0, -1]    2   \n",
       "15002  865204415380246528         #encontro  [0, -1, 1, -1, 0, 0, -1]    0   \n",
       "15003  864533088596107264  #videoShowAoVivo  [0, 1, -1, -1, 0, -1, 0]    0   \n",
       "15004  862358112182968321  #videoShowAoVivo  [0, 1, -1, -1, 0, 0, -1]    1   \n",
       "\n",
       "      sentiment group  \\\n",
       "15000         -     -   \n",
       "15001         -     -   \n",
       "15002         -     -   \n",
       "15003         -     -   \n",
       "15004         -     -   \n",
       "\n",
       "                                                                                         text  \\\n",
       "15000                                 esse vestido de casamento da cibele deu o que falar kkk   \n",
       "15001                                                essa ana maria braga tá chapadona hj kkk   \n",
       "15002  O xande de pilares tinha q começar ou encerrar o com malandro é malandro e mané é mané   \n",
       "15003                                        perdi #DiegoDarksonMc no vejo depois no USERNAME   \n",
       "15004                                            manda o vídeo pro céu quem sabe lá tem wi-fi   \n",
       "\n",
       "       repeat  \n",
       "15000   False  \n",
       "15001   False  \n",
       "15002   False  \n",
       "15003   False  \n",
       "15004   False  "
      ]
     },
     "execution_count": 7,
     "metadata": {},
     "output_type": "execute_result"
    }
   ],
   "source": [
    "frame.loc[lambda f: f.sentiment == '-'].head()"
   ]
  },
  {
   "cell_type": "markdown",
   "metadata": {},
   "source": [
    "It seems that all records with '-'  sentiment are invalidated due to the absence of a group definition. Checking that:"
   ]
  },
  {
   "cell_type": "code",
   "execution_count": 8,
   "metadata": {},
   "outputs": [
    {
     "data": {
      "text/html": [
       "<div>\n",
       "<style scoped>\n",
       "    .dataframe tbody tr th:only-of-type {\n",
       "        vertical-align: middle;\n",
       "    }\n",
       "\n",
       "    .dataframe tbody tr th {\n",
       "        vertical-align: top;\n",
       "    }\n",
       "\n",
       "    .dataframe thead th {\n",
       "        text-align: right;\n",
       "    }\n",
       "</style>\n",
       "<table border=\"1\" class=\"dataframe\">\n",
       "  <thead>\n",
       "    <tr style=\"text-align: right;\">\n",
       "      <th></th>\n",
       "      <th>id</th>\n",
       "      <th>hashtag</th>\n",
       "      <th>votes</th>\n",
       "      <th>hard</th>\n",
       "      <th>sentiment</th>\n",
       "      <th>group</th>\n",
       "      <th>text</th>\n",
       "      <th>repeat</th>\n",
       "    </tr>\n",
       "  </thead>\n",
       "  <tbody>\n",
       "  </tbody>\n",
       "</table>\n",
       "</div>"
      ],
      "text/plain": [
       "Empty DataFrame\n",
       "Columns: [id, hashtag, votes, hard, sentiment, group, text, repeat]\n",
       "Index: []"
      ]
     },
     "execution_count": 8,
     "metadata": {},
     "output_type": "execute_result"
    }
   ],
   "source": [
    "frame.query(\" (sentiment == '-' and group != '-') | (sentiment != '-' and group == '-') \")"
   ]
  },
  {
   "cell_type": "markdown",
   "metadata": {},
   "source": [
    "Check some examples of each difficulty level."
   ]
  },
  {
   "cell_type": "code",
   "execution_count": 9,
   "metadata": {},
   "outputs": [
    {
     "data": {
      "text/html": [
       "<h3>Level 0</h3>"
      ],
      "text/plain": [
       "<IPython.core.display.HTML object>"
      ]
     },
     "metadata": {},
     "output_type": "display_data"
    },
    {
     "data": {
      "text/html": [
       "<div>\n",
       "<style scoped>\n",
       "    .dataframe tbody tr th:only-of-type {\n",
       "        vertical-align: middle;\n",
       "    }\n",
       "\n",
       "    .dataframe tbody tr th {\n",
       "        vertical-align: top;\n",
       "    }\n",
       "\n",
       "    .dataframe thead th {\n",
       "        text-align: right;\n",
       "    }\n",
       "</style>\n",
       "<table border=\"1\" class=\"dataframe\">\n",
       "  <thead>\n",
       "    <tr style=\"text-align: right;\">\n",
       "      <th></th>\n",
       "      <th>id</th>\n",
       "      <th>hashtag</th>\n",
       "      <th>votes</th>\n",
       "      <th>hard</th>\n",
       "      <th>sentiment</th>\n",
       "      <th>group</th>\n",
       "      <th>text</th>\n",
       "      <th>repeat</th>\n",
       "    </tr>\n",
       "  </thead>\n",
       "  <tbody>\n",
       "    <tr>\n",
       "      <th>0</th>\n",
       "      <td>863044774588272640</td>\n",
       "      <td>#encontro</td>\n",
       "      <td>[1, 1, 1, 1, 1, 1, 1]</td>\n",
       "      <td>0</td>\n",
       "      <td>1</td>\n",
       "      <td>test</td>\n",
       "      <td>que coisa linda O programa estava mostrando uma familia que adotou um adolescente de NUMBER anos que amor !</td>\n",
       "      <td>False</td>\n",
       "    </tr>\n",
       "    <tr>\n",
       "      <th>1</th>\n",
       "      <td>865583716088766467</td>\n",
       "      <td>#encontro</td>\n",
       "      <td>[1, 1, 1, 1, 1, 1, 1]</td>\n",
       "      <td>0</td>\n",
       "      <td>1</td>\n",
       "      <td>test</td>\n",
       "      <td>por mais com as irmãs galvão adorei elas</td>\n",
       "      <td>False</td>\n",
       "    </tr>\n",
       "    <tr>\n",
       "      <th>3</th>\n",
       "      <td>864668391008763905</td>\n",
       "      <td>#masterchefbr</td>\n",
       "      <td>[0, 0, 0, 0, 0, 0, 0]</td>\n",
       "      <td>0</td>\n",
       "      <td>0</td>\n",
       "      <td>test</td>\n",
       "      <td>quem viu aquela lutadora modela barbuda tatuada #MasterChefBR</td>\n",
       "      <td>False</td>\n",
       "    </tr>\n",
       "    <tr>\n",
       "      <th>4</th>\n",
       "      <td>865572794016378882</td>\n",
       "      <td>#encontro</td>\n",
       "      <td>[-1, -1, -1, -1, -1, -1, -1]</td>\n",
       "      <td>0</td>\n",
       "      <td>-1</td>\n",
       "      <td>test</td>\n",
       "      <td>tô passada com esse cara quanta merda pode sair da boca de alguém em alguns minutos 😠</td>\n",
       "      <td>False</td>\n",
       "    </tr>\n",
       "    <tr>\n",
       "      <th>5</th>\n",
       "      <td>864531723215925250</td>\n",
       "      <td>#videoShowAoVivo</td>\n",
       "      <td>[1, 1, 1, 1, 1, 1, 1]</td>\n",
       "      <td>0</td>\n",
       "      <td>1</td>\n",
       "      <td>test</td>\n",
       "      <td>cibele arrasou humilhou !</td>\n",
       "      <td>False</td>\n",
       "    </tr>\n",
       "  </tbody>\n",
       "</table>\n",
       "</div>"
      ],
      "text/plain": [
       "                   id           hashtag                         votes hard  \\\n",
       "0  863044774588272640         #encontro         [1, 1, 1, 1, 1, 1, 1]    0   \n",
       "1  865583716088766467         #encontro         [1, 1, 1, 1, 1, 1, 1]    0   \n",
       "3  864668391008763905     #masterchefbr         [0, 0, 0, 0, 0, 0, 0]    0   \n",
       "4  865572794016378882         #encontro  [-1, -1, -1, -1, -1, -1, -1]    0   \n",
       "5  864531723215925250  #videoShowAoVivo         [1, 1, 1, 1, 1, 1, 1]    0   \n",
       "\n",
       "  sentiment group  \\\n",
       "0         1  test   \n",
       "1         1  test   \n",
       "3         0  test   \n",
       "4        -1  test   \n",
       "5         1  test   \n",
       "\n",
       "                                                                                                          text  \\\n",
       "0  que coisa linda O programa estava mostrando uma familia que adotou um adolescente de NUMBER anos que amor !   \n",
       "1                                                                     por mais com as irmãs galvão adorei elas   \n",
       "3                                                quem viu aquela lutadora modela barbuda tatuada #MasterChefBR   \n",
       "4                        tô passada com esse cara quanta merda pode sair da boca de alguém em alguns minutos 😠   \n",
       "5                                                                                    cibele arrasou humilhou !   \n",
       "\n",
       "   repeat  \n",
       "0   False  \n",
       "1   False  \n",
       "3   False  \n",
       "4   False  \n",
       "5   False  "
      ]
     },
     "metadata": {},
     "output_type": "display_data"
    },
    {
     "name": "stdout",
     "output_type": "stream",
     "text": [
      "\n"
     ]
    },
    {
     "data": {
      "text/html": [
       "<h3>Level 1</h3>"
      ],
      "text/plain": [
       "<IPython.core.display.HTML object>"
      ]
     },
     "metadata": {},
     "output_type": "display_data"
    },
    {
     "data": {
      "text/html": [
       "<div>\n",
       "<style scoped>\n",
       "    .dataframe tbody tr th:only-of-type {\n",
       "        vertical-align: middle;\n",
       "    }\n",
       "\n",
       "    .dataframe tbody tr th {\n",
       "        vertical-align: top;\n",
       "    }\n",
       "\n",
       "    .dataframe thead th {\n",
       "        text-align: right;\n",
       "    }\n",
       "</style>\n",
       "<table border=\"1\" class=\"dataframe\">\n",
       "  <thead>\n",
       "    <tr style=\"text-align: right;\">\n",
       "      <th></th>\n",
       "      <th>id</th>\n",
       "      <th>hashtag</th>\n",
       "      <th>votes</th>\n",
       "      <th>hard</th>\n",
       "      <th>sentiment</th>\n",
       "      <th>group</th>\n",
       "      <th>text</th>\n",
       "      <th>repeat</th>\n",
       "    </tr>\n",
       "  </thead>\n",
       "  <tbody>\n",
       "    <tr>\n",
       "      <th>11</th>\n",
       "      <td>864877489801310210</td>\n",
       "      <td>#masterchefbr</td>\n",
       "      <td>[0, 0, 1, 0, 1, 1, 1]</td>\n",
       "      <td>1</td>\n",
       "      <td>1</td>\n",
       "      <td>test</td>\n",
       "      <td>nào sei vocês mas quero USERNAME no #powercoupleBrasil com a USERNAME e num reality tipo dr rey até no tá bom</td>\n",
       "      <td>False</td>\n",
       "    </tr>\n",
       "    <tr>\n",
       "      <th>12</th>\n",
       "      <td>864702921698664448</td>\n",
       "      <td>#TheNoite</td>\n",
       "      <td>[0, 1, 1, 0, 1, 1, 1]</td>\n",
       "      <td>1</td>\n",
       "      <td>1</td>\n",
       "      <td>test</td>\n",
       "      <td>tem q passar essa entrevista em telões nas praças</td>\n",
       "      <td>False</td>\n",
       "    </tr>\n",
       "    <tr>\n",
       "      <th>19</th>\n",
       "      <td>862319879470407681</td>\n",
       "      <td>#encontro</td>\n",
       "      <td>[0, 0, 1, 0, 1, 1, 1]</td>\n",
       "      <td>1</td>\n",
       "      <td>1</td>\n",
       "      <td>test</td>\n",
       "      <td>depois eu vou assistir espero que ela cante a nova música #Encontro #SandyNoEncontro</td>\n",
       "      <td>False</td>\n",
       "    </tr>\n",
       "    <tr>\n",
       "      <th>22</th>\n",
       "      <td>864814104745320449</td>\n",
       "      <td>#masterchefbr</td>\n",
       "      <td>[-1, 0, 0, -1, 1, -1, -1]</td>\n",
       "      <td>1</td>\n",
       "      <td>-1</td>\n",
       "      <td>test</td>\n",
       "      <td>aí vc fica até NUMBER assistindo e acorda cedo pra ir trabalhar parecendo um zumbi</td>\n",
       "      <td>False</td>\n",
       "    </tr>\n",
       "    <tr>\n",
       "      <th>29</th>\n",
       "      <td>865068372496613376</td>\n",
       "      <td>#ConversaComBial</td>\n",
       "      <td>[0, 0, 1, 1, 0, 1, 1]</td>\n",
       "      <td>1</td>\n",
       "      <td>1</td>\n",
       "      <td>test</td>\n",
       "      <td>vivendo e aprendendo enfrentar os medos e procurar ajuda é sempre a melhor maneira #ConversaComBial</td>\n",
       "      <td>False</td>\n",
       "    </tr>\n",
       "  </tbody>\n",
       "</table>\n",
       "</div>"
      ],
      "text/plain": [
       "                    id           hashtag                      votes hard  \\\n",
       "11  864877489801310210     #masterchefbr      [0, 0, 1, 0, 1, 1, 1]    1   \n",
       "12  864702921698664448         #TheNoite      [0, 1, 1, 0, 1, 1, 1]    1   \n",
       "19  862319879470407681         #encontro      [0, 0, 1, 0, 1, 1, 1]    1   \n",
       "22  864814104745320449     #masterchefbr  [-1, 0, 0, -1, 1, -1, -1]    1   \n",
       "29  865068372496613376  #ConversaComBial      [0, 0, 1, 1, 0, 1, 1]    1   \n",
       "\n",
       "   sentiment group  \\\n",
       "11         1  test   \n",
       "12         1  test   \n",
       "19         1  test   \n",
       "22        -1  test   \n",
       "29         1  test   \n",
       "\n",
       "                                                                                                             text  \\\n",
       "11  nào sei vocês mas quero USERNAME no #powercoupleBrasil com a USERNAME e num reality tipo dr rey até no tá bom   \n",
       "12                                                              tem q passar essa entrevista em telões nas praças   \n",
       "19                           depois eu vou assistir espero que ela cante a nova música #Encontro #SandyNoEncontro   \n",
       "22                             aí vc fica até NUMBER assistindo e acorda cedo pra ir trabalhar parecendo um zumbi   \n",
       "29            vivendo e aprendendo enfrentar os medos e procurar ajuda é sempre a melhor maneira #ConversaComBial   \n",
       "\n",
       "    repeat  \n",
       "11   False  \n",
       "12   False  \n",
       "19   False  \n",
       "22   False  \n",
       "29   False  "
      ]
     },
     "metadata": {},
     "output_type": "display_data"
    },
    {
     "name": "stdout",
     "output_type": "stream",
     "text": [
      "\n"
     ]
    },
    {
     "data": {
      "text/html": [
       "<h3>Level 2</h3>"
      ],
      "text/plain": [
       "<IPython.core.display.HTML object>"
      ]
     },
     "metadata": {},
     "output_type": "display_data"
    },
    {
     "data": {
      "text/html": [
       "<div>\n",
       "<style scoped>\n",
       "    .dataframe tbody tr th:only-of-type {\n",
       "        vertical-align: middle;\n",
       "    }\n",
       "\n",
       "    .dataframe tbody tr th {\n",
       "        vertical-align: top;\n",
       "    }\n",
       "\n",
       "    .dataframe thead th {\n",
       "        text-align: right;\n",
       "    }\n",
       "</style>\n",
       "<table border=\"1\" class=\"dataframe\">\n",
       "  <thead>\n",
       "    <tr style=\"text-align: right;\">\n",
       "      <th></th>\n",
       "      <th>id</th>\n",
       "      <th>hashtag</th>\n",
       "      <th>votes</th>\n",
       "      <th>hard</th>\n",
       "      <th>sentiment</th>\n",
       "      <th>group</th>\n",
       "      <th>text</th>\n",
       "      <th>repeat</th>\n",
       "    </tr>\n",
       "  </thead>\n",
       "  <tbody>\n",
       "    <tr>\n",
       "      <th>2</th>\n",
       "      <td>865063232201011201</td>\n",
       "      <td>#TheNoite</td>\n",
       "      <td>[1, 0, 1, 1, 1, 0, 0]</td>\n",
       "      <td>2</td>\n",
       "      <td>1</td>\n",
       "      <td>test</td>\n",
       "      <td>mr CATRA USERNAME lançando sua nova música PPK CHORA no USERNAME k k k 👅 😉 #MrCatra #PpkChora</td>\n",
       "      <td>False</td>\n",
       "    </tr>\n",
       "    <tr>\n",
       "      <th>8</th>\n",
       "      <td>865566046320832512</td>\n",
       "      <td>#encontro</td>\n",
       "      <td>[-1, -1, -1, -1, -1, -1, -1]</td>\n",
       "      <td>2</td>\n",
       "      <td>-1</td>\n",
       "      <td>test</td>\n",
       "      <td>coitada da namorada</td>\n",
       "      <td>False</td>\n",
       "    </tr>\n",
       "    <tr>\n",
       "      <th>18</th>\n",
       "      <td>864653900405772288</td>\n",
       "      <td>#masterchefbr</td>\n",
       "      <td>[1, 0, 1, 1, 1, 1, 1]</td>\n",
       "      <td>2</td>\n",
       "      <td>1</td>\n",
       "      <td>test</td>\n",
       "      <td>A MIRIAM E O FOGO DO PROGRAMA ELA E PROTAGONISTA</td>\n",
       "      <td>False</td>\n",
       "    </tr>\n",
       "    <tr>\n",
       "      <th>21</th>\n",
       "      <td>862154585120681985</td>\n",
       "      <td>#masterchefbr</td>\n",
       "      <td>[0, 0, 1, 1, 1, 1, 0]</td>\n",
       "      <td>2</td>\n",
       "      <td>1</td>\n",
       "      <td>test</td>\n",
       "      <td>ai mds é agora</td>\n",
       "      <td>False</td>\n",
       "    </tr>\n",
       "    <tr>\n",
       "      <th>27</th>\n",
       "      <td>865311265773813760</td>\n",
       "      <td>#maisvoce</td>\n",
       "      <td>[0, 0, 1, 0, 0, 0, 0]</td>\n",
       "      <td>2</td>\n",
       "      <td>0</td>\n",
       "      <td>test</td>\n",
       "      <td>olá USERNAME gostaria da participação do fiuk em algum quadro no USERNAME . obrigada</td>\n",
       "      <td>False</td>\n",
       "    </tr>\n",
       "  </tbody>\n",
       "</table>\n",
       "</div>"
      ],
      "text/plain": [
       "                    id        hashtag                         votes hard  \\\n",
       "2   865063232201011201      #TheNoite         [1, 0, 1, 1, 1, 0, 0]    2   \n",
       "8   865566046320832512      #encontro  [-1, -1, -1, -1, -1, -1, -1]    2   \n",
       "18  864653900405772288  #masterchefbr         [1, 0, 1, 1, 1, 1, 1]    2   \n",
       "21  862154585120681985  #masterchefbr         [0, 0, 1, 1, 1, 1, 0]    2   \n",
       "27  865311265773813760      #maisvoce         [0, 0, 1, 0, 0, 0, 0]    2   \n",
       "\n",
       "   sentiment group  \\\n",
       "2          1  test   \n",
       "8         -1  test   \n",
       "18         1  test   \n",
       "21         1  test   \n",
       "27         0  test   \n",
       "\n",
       "                                                                                             text  \\\n",
       "2   mr CATRA USERNAME lançando sua nova música PPK CHORA no USERNAME k k k 👅 😉 #MrCatra #PpkChora   \n",
       "8                                                                             coitada da namorada   \n",
       "18                                               A MIRIAM E O FOGO DO PROGRAMA ELA E PROTAGONISTA   \n",
       "21                                                                                 ai mds é agora   \n",
       "27           olá USERNAME gostaria da participação do fiuk em algum quadro no USERNAME . obrigada   \n",
       "\n",
       "    repeat  \n",
       "2    False  \n",
       "8    False  \n",
       "18   False  \n",
       "21   False  \n",
       "27   False  "
      ]
     },
     "metadata": {},
     "output_type": "display_data"
    },
    {
     "name": "stdout",
     "output_type": "stream",
     "text": [
      "\n"
     ]
    },
    {
     "data": {
      "text/html": [
       "<h3>Level 3</h3>"
      ],
      "text/plain": [
       "<IPython.core.display.HTML object>"
      ]
     },
     "metadata": {},
     "output_type": "display_data"
    },
    {
     "data": {
      "text/html": [
       "<div>\n",
       "<style scoped>\n",
       "    .dataframe tbody tr th:only-of-type {\n",
       "        vertical-align: middle;\n",
       "    }\n",
       "\n",
       "    .dataframe tbody tr th {\n",
       "        vertical-align: top;\n",
       "    }\n",
       "\n",
       "    .dataframe thead th {\n",
       "        text-align: right;\n",
       "    }\n",
       "</style>\n",
       "<table border=\"1\" class=\"dataframe\">\n",
       "  <thead>\n",
       "    <tr style=\"text-align: right;\">\n",
       "      <th></th>\n",
       "      <th>id</th>\n",
       "      <th>hashtag</th>\n",
       "      <th>votes</th>\n",
       "      <th>hard</th>\n",
       "      <th>sentiment</th>\n",
       "      <th>group</th>\n",
       "      <th>text</th>\n",
       "      <th>repeat</th>\n",
       "    </tr>\n",
       "  </thead>\n",
       "  <tbody>\n",
       "    <tr>\n",
       "      <th>36</th>\n",
       "      <td>864716100830978048</td>\n",
       "      <td>#masterchefbr</td>\n",
       "      <td>[1, 0, -1, -1, 0, -1, -1]</td>\n",
       "      <td>3</td>\n",
       "      <td>-1</td>\n",
       "      <td>test</td>\n",
       "      <td>FIQUEI MUITO NERVOSA ACHEI Q MINHA YUKO IA SAIR</td>\n",
       "      <td>False</td>\n",
       "    </tr>\n",
       "    <tr>\n",
       "      <th>38</th>\n",
       "      <td>862623978355085315</td>\n",
       "      <td>#encontro</td>\n",
       "      <td>[-1, -1, -1, -1, -1, -1, -1]</td>\n",
       "      <td>3</td>\n",
       "      <td>-1</td>\n",
       "      <td>test</td>\n",
       "      <td>joão vicente no encontro hoje e eu vou estar aonde no colégio fazendo prova de matemática isso mesmo #Encontro</td>\n",
       "      <td>False</td>\n",
       "    </tr>\n",
       "    <tr>\n",
       "      <th>83</th>\n",
       "      <td>864179611869081600</td>\n",
       "      <td>#videoShowAoVivo</td>\n",
       "      <td>[0, -1, 1, 0, 0, 0, 0]</td>\n",
       "      <td>3</td>\n",
       "      <td>0</td>\n",
       "      <td>test</td>\n",
       "      <td>É vinagre na salsicha #VideoShowAoVivo</td>\n",
       "      <td>False</td>\n",
       "    </tr>\n",
       "    <tr>\n",
       "      <th>99</th>\n",
       "      <td>863246926002761728</td>\n",
       "      <td>#ConversaComBial</td>\n",
       "      <td>[0, -1, -1, 0, 0, 0, 0]</td>\n",
       "      <td>3</td>\n",
       "      <td>0</td>\n",
       "      <td>test</td>\n",
       "      <td>se cadeia é tão ruim pq a galera vive correndo atrás de um PASSE</td>\n",
       "      <td>False</td>\n",
       "    </tr>\n",
       "    <tr>\n",
       "      <th>118</th>\n",
       "      <td>864894432419737600</td>\n",
       "      <td>#encontro</td>\n",
       "      <td>[0, -1, 1, 0, 0, 0, 0]</td>\n",
       "      <td>3</td>\n",
       "      <td>0</td>\n",
       "      <td>test</td>\n",
       "      <td>vou sair do armário só estou esperando o marido dela sair de casa !</td>\n",
       "      <td>False</td>\n",
       "    </tr>\n",
       "  </tbody>\n",
       "</table>\n",
       "</div>"
      ],
      "text/plain": [
       "                     id           hashtag                         votes hard  \\\n",
       "36   864716100830978048     #masterchefbr     [1, 0, -1, -1, 0, -1, -1]    3   \n",
       "38   862623978355085315         #encontro  [-1, -1, -1, -1, -1, -1, -1]    3   \n",
       "83   864179611869081600  #videoShowAoVivo        [0, -1, 1, 0, 0, 0, 0]    3   \n",
       "99   863246926002761728  #ConversaComBial       [0, -1, -1, 0, 0, 0, 0]    3   \n",
       "118  864894432419737600         #encontro        [0, -1, 1, 0, 0, 0, 0]    3   \n",
       "\n",
       "    sentiment group  \\\n",
       "36         -1  test   \n",
       "38         -1  test   \n",
       "83          0  test   \n",
       "99          0  test   \n",
       "118         0  test   \n",
       "\n",
       "                                                                                                               text  \\\n",
       "36                                                                  FIQUEI MUITO NERVOSA ACHEI Q MINHA YUKO IA SAIR   \n",
       "38   joão vicente no encontro hoje e eu vou estar aonde no colégio fazendo prova de matemática isso mesmo #Encontro   \n",
       "83                                                                           É vinagre na salsicha #VideoShowAoVivo   \n",
       "99                                                 se cadeia é tão ruim pq a galera vive correndo atrás de um PASSE   \n",
       "118                                             vou sair do armário só estou esperando o marido dela sair de casa !   \n",
       "\n",
       "     repeat  \n",
       "36    False  \n",
       "38    False  \n",
       "83    False  \n",
       "99    False  \n",
       "118   False  "
      ]
     },
     "metadata": {},
     "output_type": "display_data"
    },
    {
     "name": "stdout",
     "output_type": "stream",
     "text": [
      "\n"
     ]
    },
    {
     "data": {
      "text/html": [
       "<h3>Level 4</h3>"
      ],
      "text/plain": [
       "<IPython.core.display.HTML object>"
      ]
     },
     "metadata": {},
     "output_type": "display_data"
    },
    {
     "data": {
      "text/html": [
       "<div>\n",
       "<style scoped>\n",
       "    .dataframe tbody tr th:only-of-type {\n",
       "        vertical-align: middle;\n",
       "    }\n",
       "\n",
       "    .dataframe tbody tr th {\n",
       "        vertical-align: top;\n",
       "    }\n",
       "\n",
       "    .dataframe thead th {\n",
       "        text-align: right;\n",
       "    }\n",
       "</style>\n",
       "<table border=\"1\" class=\"dataframe\">\n",
       "  <thead>\n",
       "    <tr style=\"text-align: right;\">\n",
       "      <th></th>\n",
       "      <th>id</th>\n",
       "      <th>hashtag</th>\n",
       "      <th>votes</th>\n",
       "      <th>hard</th>\n",
       "      <th>sentiment</th>\n",
       "      <th>group</th>\n",
       "      <th>text</th>\n",
       "      <th>repeat</th>\n",
       "    </tr>\n",
       "  </thead>\n",
       "  <tbody>\n",
       "    <tr>\n",
       "      <th>14</th>\n",
       "      <td>864901773076701184</td>\n",
       "      <td>#videoShowAoVivo</td>\n",
       "      <td>[0, 0, 1, -1, -1, 0, 0]</td>\n",
       "      <td>4</td>\n",
       "      <td>0</td>\n",
       "      <td>test</td>\n",
       "      <td>fatima bernardes sobre o sotaque hahaha coerência profissional</td>\n",
       "      <td>False</td>\n",
       "    </tr>\n",
       "    <tr>\n",
       "      <th>274</th>\n",
       "      <td>863573278841085952</td>\n",
       "      <td>#altasHoras</td>\n",
       "      <td>[1, 1, 1, 0, -1, 1, 0]</td>\n",
       "      <td>4</td>\n",
       "      <td>1</td>\n",
       "      <td>test</td>\n",
       "      <td>mal começou o programa e eu já tô chorando</td>\n",
       "      <td>False</td>\n",
       "    </tr>\n",
       "    <tr>\n",
       "      <th>15000</th>\n",
       "      <td>864532441318535168</td>\n",
       "      <td>#videoShowAoVivo</td>\n",
       "      <td>[0, 0, 1, 1, -1, 1, 0]</td>\n",
       "      <td>4</td>\n",
       "      <td>-</td>\n",
       "      <td>-</td>\n",
       "      <td>esse vestido de casamento da cibele deu o que falar kkk</td>\n",
       "      <td>False</td>\n",
       "    </tr>\n",
       "  </tbody>\n",
       "</table>\n",
       "</div>"
      ],
      "text/plain": [
       "                       id           hashtag                    votes hard  \\\n",
       "14     864901773076701184  #videoShowAoVivo  [0, 0, 1, -1, -1, 0, 0]    4   \n",
       "274    863573278841085952       #altasHoras   [1, 1, 1, 0, -1, 1, 0]    4   \n",
       "15000  864532441318535168  #videoShowAoVivo   [0, 0, 1, 1, -1, 1, 0]    4   \n",
       "\n",
       "      sentiment group  \\\n",
       "14            0  test   \n",
       "274           1  test   \n",
       "15000         -     -   \n",
       "\n",
       "                                                                 text  repeat  \n",
       "14     fatima bernardes sobre o sotaque hahaha coerência profissional   False  \n",
       "274                        mal começou o programa e eu já tô chorando   False  \n",
       "15000         esse vestido de casamento da cibele deu o que falar kkk   False  "
      ]
     },
     "metadata": {},
     "output_type": "display_data"
    },
    {
     "name": "stdout",
     "output_type": "stream",
     "text": [
      "\n"
     ]
    }
   ],
   "source": [
    "for level in sorted(frame.hard.unique()):\n",
    "    display(HTML(f'<h3>Level {level}</h3>'))\n",
    "    display(frame.loc[lambda f: f.hard == level].head(5))\n",
    "    print()"
   ]
  },
  {
   "cell_type": "code",
   "execution_count": null,
   "metadata": {},
   "outputs": [],
   "source": []
  }
 ],
 "metadata": {
  "kernelspec": {
   "display_name": "Python 3",
   "language": "python",
   "name": "python3"
  },
  "language_info": {
   "codemirror_mode": {
    "name": "ipython",
    "version": 3
   },
   "file_extension": ".py",
   "mimetype": "text/x-python",
   "name": "python",
   "nbconvert_exporter": "python",
   "pygments_lexer": "ipython3",
   "version": "3.8.5"
  }
 },
 "nbformat": 4,
 "nbformat_minor": 4
}
