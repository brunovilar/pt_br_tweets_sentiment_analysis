{
 "cells": [
  {
   "cell_type": "markdown",
   "metadata": {
    "id": "sqg4y371CM7X"
   },
   "source": [
    "# Experiments - Fine tune Bert\n",
    "\n",
    "The goal of this notebook is use [Building a Sentiment Corpus of Tweets in Brazilian Portuguese](https://arxiv.org/abs/1712.08917)."
   ]
  },
  {
   "cell_type": "markdown",
   "metadata": {
    "id": "31OW0dhozvli"
   },
   "source": [
    "## Libraries and Settings"
   ]
  },
  {
   "cell_type": "markdown",
   "metadata": {},
   "source": [
    "Thirdy party libraries"
   ]
  },
  {
   "cell_type": "code",
   "execution_count": 1,
   "metadata": {},
   "outputs": [],
   "source": [
    "# General\n",
    "import os\n",
    "import gc\n",
    "import sys\n",
    "import time\n",
    "import shutil\n",
    "import funcy as fp\n",
    "import numpy as np\n",
    "import pandas as pd\n",
    "\n",
    "# Visualization / Presentation\n",
    "from tqdm.notebook import tqdm\n",
    "import matplotlib.pyplot as plt\n",
    "from IPython.core.display import HTML, display\n",
    "\n",
    "# Model Training and Evaluation\n",
    "import mlflow\n",
    "import torch\n",
    "import torch.nn as nn\n",
    "import torchvision\n",
    "from torch.utils.data import TensorDataset, DataLoader, RandomSampler, SequentialSampler\n",
    "from torch.cuda.amp import GradScaler, autocast\n",
    "from sklearn import metrics"
   ]
  },
  {
   "cell_type": "markdown",
   "metadata": {},
   "source": [
    "Internal libraries"
   ]
  },
  {
   "cell_type": "code",
   "execution_count": 2,
   "metadata": {},
   "outputs": [],
   "source": [
    "sys.path.append(os.path.abspath(os.path.pardir))\n",
    "\n",
    "from src import settings\n",
    "from src.pipeline.resources import load_corpus\n",
    "from src.models.transformer import preprocess, initialize_model, set_seed, get_device, evaluate, predict\n",
    "from src.utils import format_nested_parameters"
   ]
  },
  {
   "cell_type": "markdown",
   "metadata": {},
   "source": [
    "Presentation settings"
   ]
  },
  {
   "cell_type": "code",
   "execution_count": 3,
   "metadata": {},
   "outputs": [],
   "source": [
    "%matplotlib inline \n",
    "pd.set_option('max_colwidth', 150)"
   ]
  },
  {
   "cell_type": "markdown",
   "metadata": {},
   "source": [
    "Experiment settings"
   ]
  },
  {
   "cell_type": "code",
   "execution_count": 4,
   "metadata": {},
   "outputs": [],
   "source": [
    "EXPERIMENT_ID = 3\n",
    "EXPERIMENT_RUN_NAME = f'LogTransformersPretrainedModel'"
   ]
  },
  {
   "cell_type": "markdown",
   "metadata": {
    "id": "u07WRKnxsX96"
   },
   "source": [
    "## Load and Prepare Dataset"
   ]
  },
  {
   "cell_type": "code",
   "execution_count": 5,
   "metadata": {
    "executionInfo": {
     "elapsed": 3880,
     "status": "ok",
     "timestamp": 1604425976287,
     "user": {
      "displayName": "Bruno Vilar",
      "photoUrl": "https://lh3.googleusercontent.com/a-/AOh14GitnJqA4yg0YW7lBxpd6Acfxpcpe2vurX_VBhN1Kw=s64",
      "userId": "12191660000722192802"
     },
     "user_tz": 180
    },
    "id": "q0wnL46x_u-D"
   },
   "outputs": [],
   "source": [
    "frame = load_corpus()"
   ]
  },
  {
   "cell_type": "code",
   "execution_count": 6,
   "metadata": {
    "colab": {
     "base_uri": "https://localhost:8080/",
     "height": 677
    },
    "executionInfo": {
     "elapsed": 3840,
     "status": "ok",
     "timestamp": 1604425976317,
     "user": {
      "displayName": "Bruno Vilar",
      "photoUrl": "https://lh3.googleusercontent.com/a-/AOh14GitnJqA4yg0YW7lBxpd6Acfxpcpe2vurX_VBhN1Kw=s64",
      "userId": "12191660000722192802"
     },
     "user_tz": 180
    },
    "id": "79T-9rhG_3NN",
    "outputId": "27e068ef-545e-40d4-9c95-8578ca2e224f"
   },
   "outputs": [
    {
     "data": {
      "text/html": [
       "<div>\n",
       "<style scoped>\n",
       "    .dataframe tbody tr th:only-of-type {\n",
       "        vertical-align: middle;\n",
       "    }\n",
       "\n",
       "    .dataframe tbody tr th {\n",
       "        vertical-align: top;\n",
       "    }\n",
       "\n",
       "    .dataframe thead th {\n",
       "        text-align: right;\n",
       "    }\n",
       "</style>\n",
       "<table border=\"1\" class=\"dataframe\">\n",
       "  <thead>\n",
       "    <tr style=\"text-align: right;\">\n",
       "      <th></th>\n",
       "      <th>text</th>\n",
       "      <th>label</th>\n",
       "      <th>group</th>\n",
       "    </tr>\n",
       "  </thead>\n",
       "  <tbody>\n",
       "    <tr>\n",
       "      <th>5775</th>\n",
       "      <td>que linda essa aula que bene tá dando no hahahahahahah</td>\n",
       "      <td>2.0</td>\n",
       "      <td>train</td>\n",
       "    </tr>\n",
       "    <tr>\n",
       "      <th>14821</th>\n",
       "      <td>chorando com a homenagem do USERNAME para a mãe dona ana que lindo ❤</td>\n",
       "      <td>2.0</td>\n",
       "      <td>train</td>\n",
       "    </tr>\n",
       "    <tr>\n",
       "      <th>5083</th>\n",
       "      <td>fatima cortou a conversa e fez o de sempre dzr q continua outro dia kkk</td>\n",
       "      <td>0.0</td>\n",
       "      <td>train</td>\n",
       "    </tr>\n",
       "    <tr>\n",
       "      <th>4617</th>\n",
       "      <td>tiê sempre catalizando as nossas bads</td>\n",
       "      <td>2.0</td>\n",
       "      <td>test</td>\n",
       "    </tr>\n",
       "    <tr>\n",
       "      <th>2156</th>\n",
       "      <td>e esse boato da participante do ser eliminada após descobrirem que ela mentiu e já trabalhou profissionalmente na área !</td>\n",
       "      <td>1.0</td>\n",
       "      <td>train</td>\n",
       "    </tr>\n",
       "    <tr>\n",
       "      <th>12962</th>\n",
       "      <td>jocaaa e sofiiia seus lindooos</td>\n",
       "      <td>2.0</td>\n",
       "      <td>train</td>\n",
       "    </tr>\n",
       "  </tbody>\n",
       "</table>\n",
       "</div>"
      ],
      "text/plain": [
       "                                                                                                                           text  \\\n",
       "5775                                                                     que linda essa aula que bene tá dando no hahahahahahah   \n",
       "14821                                                      chorando com a homenagem do USERNAME para a mãe dona ana que lindo ❤   \n",
       "5083                                                    fatima cortou a conversa e fez o de sempre dzr q continua outro dia kkk   \n",
       "4617                                                                                      tiê sempre catalizando as nossas bads   \n",
       "2156   e esse boato da participante do ser eliminada após descobrirem que ela mentiu e já trabalhou profissionalmente na área !   \n",
       "12962                                                                                            jocaaa e sofiiia seus lindooos   \n",
       "\n",
       "       label  group  \n",
       "5775     2.0  train  \n",
       "14821    2.0  train  \n",
       "5083     0.0  train  \n",
       "4617     2.0   test  \n",
       "2156     1.0  train  \n",
       "12962    2.0  train  "
      ]
     },
     "execution_count": 6,
     "metadata": {},
     "output_type": "execute_result"
    }
   ],
   "source": [
    "frame = (frame\n",
    "         .assign(label=lambda f: f['sentiment'].map({'-1': 0, '0':1, '1': 2}))\n",
    "         [['text', 'label', 'group']]\n",
    "        )\n",
    "frame.sample(6)"
   ]
  },
  {
   "cell_type": "code",
   "execution_count": 7,
   "metadata": {
    "colab": {
     "base_uri": "https://localhost:8080/"
    },
    "executionInfo": {
     "elapsed": 3829,
     "status": "ok",
     "timestamp": 1604425976319,
     "user": {
      "displayName": "Bruno Vilar",
      "photoUrl": "https://lh3.googleusercontent.com/a-/AOh14GitnJqA4yg0YW7lBxpd6Acfxpcpe2vurX_VBhN1Kw=s64",
      "userId": "12191660000722192802"
     },
     "user_tz": 180
    },
    "id": "X4HKAFTbvMwI",
    "outputId": "d0415abd-ea6e-4b49-b279-2dcc0e96ec62"
   },
   "outputs": [
    {
     "name": "stdout",
     "output_type": "stream",
     "text": [
      "Train: 12990 | Test: 2010\n"
     ]
    }
   ],
   "source": [
    "train_frame = frame.loc[lambda f: f['group'] == 'train']\n",
    "test_frame = frame.loc[lambda f: f['group'] == 'test']\n",
    "del frame\n",
    "\n",
    "X_test = test_frame.text.values\n",
    "y_test = test_frame.label.values\n",
    "\n",
    "X_train = train_frame.text.values\n",
    "y_train = train_frame.label.values\n",
    "\n",
    "print(f'Train: {len(X_train)} | Test: {len(X_test)}')"
   ]
  },
  {
   "cell_type": "markdown",
   "metadata": {
    "id": "X79dYY3sxDCi"
   },
   "source": [
    "## Check GPU Availability"
   ]
  },
  {
   "cell_type": "code",
   "execution_count": 8,
   "metadata": {
    "colab": {
     "base_uri": "https://localhost:8080/"
    },
    "executionInfo": {
     "elapsed": 3820,
     "status": "ok",
     "timestamp": 1604425976320,
     "user": {
      "displayName": "Bruno Vilar",
      "photoUrl": "https://lh3.googleusercontent.com/a-/AOh14GitnJqA4yg0YW7lBxpd6Acfxpcpe2vurX_VBhN1Kw=s64",
      "userId": "12191660000722192802"
     },
     "user_tz": 180
    },
    "id": "K7hxtI4l0SUJ",
    "outputId": "a4fdb62b-3287-4cf9-ab21-585ccda36811"
   },
   "outputs": [
    {
     "name": "stdout",
     "output_type": "stream",
     "text": [
      "GPU(s) available: 1. Device name: GeForce RTX 3090\n"
     ]
    }
   ],
   "source": [
    "if torch.cuda.is_available():\n",
    "    print(f'GPU(s) available: {torch.cuda.device_count()}. Device name: {torch.cuda.get_device_name(0)}')\n",
    "else:\n",
    "    print('Using the CPU.')"
   ]
  },
  {
   "cell_type": "markdown",
   "metadata": {
    "id": "lEPPYHa62JXF"
   },
   "source": [
    "## Fine Tuning Model\n",
    "\n",
    "### Define Parameters and Settings"
   ]
  },
  {
   "cell_type": "code",
   "execution_count": 9,
   "metadata": {},
   "outputs": [],
   "source": [
    "from transformers import BertModel,  BertTokenizer\n",
    "\n",
    "MODEL_CLASS = BertModel\n",
    "MODEL_TOKENIZER = BertTokenizer\n",
    "#MODEL_NAME = 'neuralmind/bert-base-portuguese-cased'\n",
    "MODEL_NAME = 'neuralmind/bert-large-portuguese-cased'\n",
    "\n",
    "model_registry = {\n",
    "    'BERT-BASE': {}\n",
    "}\n",
    "\n",
    "\n",
    "\"\"\"\n",
    "from transformers import RobertaModel, RobertaTokenizer\n",
    "MODEL_CLASS = RobertaModel\n",
    "MODEL_TOKENIZER = RobertaTokenizer\n",
    "\n",
    "MODEL_NAME = 'rdenadai/BR_BERTo'\n",
    "\"\"\"\n",
    "\n",
    "MODEL_LAYERS = []\n",
    "MODEL_DROPOUT_LAYERS = []\n",
    "\n",
    "\"\"\"\n",
    "from transformers import RobertaModel, RobertaTokenizer\n",
    "MODEL_CLASS = RobertaModel\n",
    "MODEL_TOKENIZER = RobertaTokenizer\n",
    "MODEL_NAME = 'rdenadai/BR_BERTo'\n",
    "\"\"\"\n",
    "\n",
    "FREEZE = False\n",
    "LEARNING_RATE = 3e-5\n",
    "BATCH_SIZE = 32\n",
    "EPOCHS = 5\n",
    "SEED = 42\n",
    "\n",
    "preprocessing_params = {\n",
    "    'unify_html_tags': False,\n",
    "    'unify_urls': True, \n",
    "    'trim_repeating_spaces': True,\n",
    "    'unify_hashtags': False, \n",
    "    'unify_mentions': True,\n",
    "    'unify_numbers': False, \n",
    "    'trim_repeating_letters': True,\n",
    "    'lower_case': True\n",
    "}\n",
    "\n",
    "tokenizer = MODEL_TOKENIZER.from_pretrained(MODEL_NAME, do_lower_case=preprocessing_params['lower_case'])\n",
    "preprocessing_params['tokenizer'] = tokenizer"
   ]
  },
  {
   "cell_type": "markdown",
   "metadata": {
    "id": "TNE9oASMZ1bN"
   },
   "source": [
    "Encode all sentences to get the maximum length."
   ]
  },
  {
   "cell_type": "code",
   "execution_count": 10,
   "metadata": {
    "colab": {
     "base_uri": "https://localhost:8080/"
    },
    "executionInfo": {
     "elapsed": 29513,
     "status": "ok",
     "timestamp": 1604426002286,
     "user": {
      "displayName": "Bruno Vilar",
      "photoUrl": "https://lh3.googleusercontent.com/a-/AOh14GitnJqA4yg0YW7lBxpd6Acfxpcpe2vurX_VBhN1Kw=s64",
      "userId": "12191660000722192802"
     },
     "user_tz": 180
    },
    "id": "hrbvKGNAlMtt",
    "outputId": "38087981-c897-4f40-ad58-b50c21c2003f"
   },
   "outputs": [],
   "source": [
    "all_tweets = np.concatenate([train_frame.text.values, test_frame.text.values])\n",
    "encoded_tweets = [tokenizer.encode(sent, add_special_tokens=True) for sent in all_tweets]\n",
    "max_len = max([len(sent) for sent in encoded_tweets])\n",
    "preprocessing_params['max_len'] = max_len\n",
    "del encoded_tweets"
   ]
  },
  {
   "cell_type": "markdown",
   "metadata": {
    "id": "vpdjBB9fmbu2"
   },
   "source": [
    "Preprocess and tokenize data."
   ]
  },
  {
   "cell_type": "code",
   "execution_count": 11,
   "metadata": {
    "colab": {
     "base_uri": "https://localhost:8080/"
    },
    "executionInfo": {
     "elapsed": 31755,
     "status": "ok",
     "timestamp": 1604426004546,
     "user": {
      "displayName": "Bruno Vilar",
      "photoUrl": "https://lh3.googleusercontent.com/a-/AOh14GitnJqA4yg0YW7lBxpd6Acfxpcpe2vurX_VBhN1Kw=s64",
      "userId": "12191660000722192802"
     },
     "user_tz": 180
    },
    "id": "QTlQzTzAfCy7",
    "outputId": "cb02b1ce-0861-46c4-8c33-60fe5017e06c"
   },
   "outputs": [
    {
     "name": "stdout",
     "output_type": "stream",
     "text": [
      "Original:  apareceu o índice de morte na minha cidade tô muito assustado #BelemPedePaz\n",
      "Token IDs:  [101, 4169, 146, 2884, 22279, 125, 1386, 229, 7122, 651, 374, 785, 17154, 487, 108, 4826, 21813, 11237, 321, 22305, 102, 0, 0, 0, 0, 0, 0, 0, 0, 0, 0, 0, 0, 0, 0, 0, 0, 0, 0, 0, 0, 0, 0, 0, 0, 0, 0, 0, 0, 0, 0, 0, 0, 0, 0, 0, 0, 0, 0]\n"
     ]
    }
   ],
   "source": [
    "# Encode the first dataset sentence and show Token IDs\n",
    "token_ids = list(preprocess([X_train[0]], **preprocessing_params)[0].squeeze().numpy())\n",
    "print('Original: ', X_train[0])\n",
    "print('Token IDs: ', token_ids)\n",
    "\n",
    "# Run function `preprocessing_for_bert` on the train set and the validation set\n",
    "train_inputs, train_masks = preprocess(X_train, **preprocessing_params)\n",
    "test_inputs, test_masks = preprocess(X_test, **preprocessing_params)"
   ]
  },
  {
   "cell_type": "markdown",
   "metadata": {
    "id": "aZU8t5VNfvhY"
   },
   "source": [
    "### Create PyTorch DataLoaders for Train and Test Datasets"
   ]
  },
  {
   "cell_type": "code",
   "execution_count": 12,
   "metadata": {
    "executionInfo": {
     "elapsed": 31751,
     "status": "ok",
     "timestamp": 1604426004553,
     "user": {
      "displayName": "Bruno Vilar",
      "photoUrl": "https://lh3.googleusercontent.com/a-/AOh14GitnJqA4yg0YW7lBxpd6Acfxpcpe2vurX_VBhN1Kw=s64",
      "userId": "12191660000722192802"
     },
     "user_tz": 180
    },
    "id": "xHuYEc61gcGL"
   },
   "outputs": [],
   "source": [
    "train_labels = torch.tensor(y_train, dtype=torch.int64)\n",
    "test_labels = torch.tensor(y_test, dtype=torch.int64)\n",
    "\n",
    "train_data = TensorDataset(train_inputs, train_masks, train_labels)\n",
    "train_sampler = RandomSampler(train_data)\n",
    "train_dataloader = DataLoader(train_data, sampler=train_sampler, batch_size=BATCH_SIZE)\n",
    "\n",
    "test_data = TensorDataset(test_inputs, test_masks, test_labels)\n",
    "test_sampler = SequentialSampler(test_data)\n",
    "test_dataloader = DataLoader(test_data, sampler=test_sampler, batch_size=BATCH_SIZE)"
   ]
  },
  {
   "cell_type": "markdown",
   "metadata": {
    "id": "SSRAga-yj17q"
   },
   "source": [
    "## Train\n",
    "\n",
    "Define the training function."
   ]
  },
  {
   "cell_type": "code",
   "execution_count": 13,
   "metadata": {
    "executionInfo": {
     "elapsed": 31716,
     "status": "ok",
     "timestamp": 1604426004559,
     "user": {
      "displayName": "Bruno Vilar",
      "photoUrl": "https://lh3.googleusercontent.com/a-/AOh14GitnJqA4yg0YW7lBxpd6Acfxpcpe2vurX_VBhN1Kw=s64",
      "userId": "12191660000722192802"
     },
     "user_tz": 180
    },
    "id": "Xy4HkhyECibW"
   },
   "outputs": [],
   "source": [
    "def train(model, loss_fn, optimizer, scheduler, train_dataloader, val_dataloader=None, epochs=4, evaluation=False, steps_to_eval=10):\n",
    "    \n",
    "    best_eval = 0.\n",
    "    best_epoch = -1.\n",
    "    best_model_state = None\n",
    "    train_history = []\n",
    "    \n",
    "    scaler = GradScaler()\n",
    "\n",
    "    for epoch_i in range(epochs):\n",
    "        # =======================================\n",
    "        #               Training\n",
    "        # =======================================\n",
    "        print(f\"{'Epoch':^7} | {'Batch':^7} | {'Train Loss':^12} | {'Val Loss':^10} | {'Val F1':^9} | {'Elapsed':^9}\")\n",
    "        print(\"-\" * 70)\n",
    "\n",
    "        t0_epoch, t0_batch = time.time(), time.time()\n",
    "        total_loss, batch_loss, batch_counts = 0, 0, 0\n",
    "        model.train()\n",
    "\n",
    "        for step, batch in enumerate(train_dataloader):\n",
    "            batch_counts += 1\n",
    "            b_input_ids, b_attn_mask, b_labels = tuple(t.to(get_device()) for t in batch)\n",
    "\n",
    "            model.zero_grad()\n",
    "\n",
    "            with autocast(enabled=False):\n",
    "                logits = model(b_input_ids, b_attn_mask)\n",
    "                loss = loss_fn(logits, b_labels)\n",
    "                batch_loss += loss.item()\n",
    "                total_loss += loss.item()\n",
    "\n",
    "            #scaler.scale(loss).backward()\n",
    "            loss.backward()\n",
    "            torch.nn.utils.clip_grad_norm_(model.parameters(), 1.0)\n",
    "            #scaler.step(optimizer)\n",
    "            optimizer.step()\n",
    "            scheduler.step()\n",
    "            #scaler.update()\n",
    "\n",
    "            # Print the loss values and time elapsed for every 20 batches\n",
    "            if (step % steps_to_eval == 0 and step != 0) or (step == len(train_dataloader) - 1):\n",
    "                time_elapsed = time.time() - t0_batch\n",
    "                train_history.append({'epoch': epoch_i, 'step': step, 'time_elapsed': time_elapsed, 'batch_loss': batch_loss / batch_counts})\n",
    "                \n",
    "                print(f\"{epoch_i + 1:^7} | {step:^7} | {batch_loss / batch_counts:^12.6f} | {'-':^10} | {'-':^9} | {time_elapsed:^9.2f}\")\n",
    "\n",
    "                batch_loss, batch_counts = 0, 0\n",
    "                t0_batch = time.time()\n",
    "\n",
    "        avg_train_loss = total_loss / len(train_dataloader)\n",
    "\n",
    "        print(\"-\" * 70)\n",
    "        # =======================================\n",
    "        #               Evaluation\n",
    "        # =======================================\n",
    "        if evaluation == True:\n",
    "            val_loss, val_f1 = evaluate(model, val_dataloader, loss_fn)\n",
    "            time_elapsed = time.time() - t0_epoch\n",
    "            print(f\"{epoch_i + 1:^7} | {'-':^7} | {avg_train_loss:^12.6f} | {val_loss:^10.6f} | {val_f1:^9.2f} | {time_elapsed:^9.2f}\")\n",
    "            print(\"-\" * 70)\n",
    "            if val_f1 > best_eval:\n",
    "                best_eval = val_f1\n",
    "                best_epoch = epoch_i\n",
    "                torch.save(model.state_dict(), '../artifacts/models/best-model-parameters.pt')\n",
    "\n",
    "        print(\"\\n\")\n",
    "        \n",
    "    del scaler, logits, loss, batch_loss, total_loss, scheduler\n",
    "\n",
    "    print(f\"Training complete. Best result: {best_eval} | epoch {best_epoch}.\")\n",
    "    model.load_state_dict(torch.load('../artifacts/models/best-model-parameters.pt'))\n",
    "    \n",
    "    \n",
    "    return model, train_history"
   ]
  },
  {
   "cell_type": "markdown",
   "metadata": {
    "id": "BSfTy9LqiFD-"
   },
   "source": [
    "Training process."
   ]
  },
  {
   "cell_type": "code",
   "execution_count": 14,
   "metadata": {
    "colab": {
     "base_uri": "https://localhost:8080/"
    },
    "executionInfo": {
     "elapsed": 150245,
     "status": "ok",
     "timestamp": 1604426123094,
     "user": {
      "displayName": "Bruno Vilar",
      "photoUrl": "https://lh3.googleusercontent.com/a-/AOh14GitnJqA4yg0YW7lBxpd6Acfxpcpe2vurX_VBhN1Kw=s64",
      "userId": "12191660000722192802"
     },
     "user_tz": 180
    },
    "id": "wfYw7dJ0U0v6",
    "outputId": "7d9edb7f-d820-49d7-aec4-fd2099916696"
   },
   "outputs": [
    {
     "name": "stdout",
     "output_type": "stream",
     "text": [
      " Epoch  |  Batch  |  Train Loss  |  Val Loss  |  Val F1   |  Elapsed \n",
      "----------------------------------------------------------------------\n",
      "   1    |   10    |   1.082545   |     -      |     -     |   2.56   \n",
      "   1    |   20    |   0.955336   |     -      |     -     |   2.12   \n",
      "   1    |   30    |   0.865863   |     -      |     -     |   2.13   \n",
      "   1    |   40    |   0.754408   |     -      |     -     |   2.22   \n",
      "   1    |   50    |   0.839235   |     -      |     -     |   2.15   \n",
      "   1    |   60    |   0.773327   |     -      |     -     |   2.15   \n",
      "   1    |   70    |   0.793852   |     -      |     -     |   2.15   \n",
      "   1    |   80    |   0.904647   |     -      |     -     |   2.14   \n",
      "   1    |   90    |   0.777190   |     -      |     -     |   2.14   \n",
      "   1    |   100   |   0.745946   |     -      |     -     |   2.13   \n",
      "   1    |   110   |   0.717567   |     -      |     -     |   2.13   \n",
      "   1    |   120   |   0.620917   |     -      |     -     |   2.13   \n",
      "   1    |   130   |   0.810496   |     -      |     -     |   2.15   \n",
      "   1    |   140   |   0.724318   |     -      |     -     |   2.15   \n",
      "   1    |   150   |   0.691180   |     -      |     -     |   2.16   \n",
      "   1    |   160   |   0.667852   |     -      |     -     |   2.16   \n",
      "   1    |   170   |   0.707277   |     -      |     -     |   2.16   \n",
      "   1    |   180   |   0.747665   |     -      |     -     |   2.15   \n",
      "   1    |   190   |   0.680833   |     -      |     -     |   2.17   \n",
      "   1    |   200   |   0.693912   |     -      |     -     |   2.15   \n",
      "   1    |   210   |   0.738354   |     -      |     -     |   2.15   \n",
      "   1    |   220   |   0.635366   |     -      |     -     |   2.16   \n",
      "   1    |   230   |   0.730457   |     -      |     -     |   2.15   \n",
      "   1    |   240   |   0.710290   |     -      |     -     |   2.17   \n",
      "   1    |   250   |   0.659666   |     -      |     -     |   2.16   \n",
      "   1    |   260   |   0.746670   |     -      |     -     |   2.16   \n",
      "   1    |   270   |   0.623678   |     -      |     -     |   2.14   \n",
      "   1    |   280   |   0.727206   |     -      |     -     |   2.14   \n",
      "   1    |   290   |   0.699669   |     -      |     -     |   2.15   \n",
      "   1    |   300   |   0.668700   |     -      |     -     |   2.16   \n",
      "   1    |   310   |   0.633843   |     -      |     -     |   2.17   \n",
      "   1    |   320   |   0.655277   |     -      |     -     |   2.17   \n",
      "   1    |   330   |   0.696800   |     -      |     -     |   2.18   \n",
      "   1    |   340   |   0.625869   |     -      |     -     |   2.17   \n",
      "   1    |   350   |   0.676623   |     -      |     -     |   2.17   \n",
      "   1    |   360   |   0.647399   |     -      |     -     |   2.16   \n",
      "   1    |   370   |   0.622578   |     -      |     -     |   2.15   \n",
      "   1    |   380   |   0.760393   |     -      |     -     |   2.17   \n",
      "   1    |   390   |   0.640047   |     -      |     -     |   2.18   \n",
      "   1    |   400   |   0.684333   |     -      |     -     |   2.18   \n",
      "   1    |   405   |   0.772218   |     -      |     -     |   1.08   \n",
      "----------------------------------------------------------------------\n",
      "   1    |    -    |   0.729851   |  0.555510  |   76.79   |   91.10  \n",
      "----------------------------------------------------------------------\n",
      "\n",
      "\n",
      " Epoch  |  Batch  |  Train Loss  |  Val Loss  |  Val F1   |  Elapsed \n",
      "----------------------------------------------------------------------\n",
      "   2    |   10    |   0.513981   |     -      |     -     |   2.34   \n",
      "   2    |   20    |   0.452079   |     -      |     -     |   2.18   \n",
      "   2    |   30    |   0.537890   |     -      |     -     |   2.15   \n",
      "   2    |   40    |   0.471924   |     -      |     -     |   2.17   \n",
      "   2    |   50    |   0.465619   |     -      |     -     |   2.14   \n",
      "   2    |   60    |   0.472141   |     -      |     -     |   2.15   \n",
      "   2    |   70    |   0.522725   |     -      |     -     |   2.16   \n",
      "   2    |   80    |   0.498034   |     -      |     -     |   2.18   \n",
      "   2    |   90    |   0.506455   |     -      |     -     |   2.17   \n",
      "   2    |   100   |   0.484074   |     -      |     -     |   2.16   \n",
      "   2    |   110   |   0.474751   |     -      |     -     |   2.15   \n",
      "   2    |   120   |   0.488628   |     -      |     -     |   2.15   \n",
      "   2    |   130   |   0.481708   |     -      |     -     |   2.16   \n",
      "   2    |   140   |   0.475426   |     -      |     -     |   2.18   \n",
      "   2    |   150   |   0.487769   |     -      |     -     |   2.19   \n",
      "   2    |   160   |   0.502816   |     -      |     -     |   2.21   \n",
      "   2    |   170   |   0.434444   |     -      |     -     |   2.19   \n",
      "   2    |   180   |   0.399702   |     -      |     -     |   2.18   \n",
      "   2    |   190   |   0.446903   |     -      |     -     |   2.18   \n",
      "   2    |   200   |   0.515911   |     -      |     -     |   2.18   \n",
      "   2    |   210   |   0.550542   |     -      |     -     |   2.17   \n",
      "   2    |   220   |   0.455737   |     -      |     -     |   2.17   \n",
      "   2    |   230   |   0.498758   |     -      |     -     |   2.18   \n",
      "   2    |   240   |   0.446527   |     -      |     -     |   2.18   \n",
      "   2    |   250   |   0.520467   |     -      |     -     |   2.28   \n",
      "   2    |   260   |   0.472628   |     -      |     -     |   2.21   \n",
      "   2    |   270   |   0.496652   |     -      |     -     |   2.23   \n",
      "   2    |   280   |   0.436364   |     -      |     -     |   2.33   \n",
      "   2    |   290   |   0.416693   |     -      |     -     |   2.28   \n",
      "   2    |   300   |   0.428858   |     -      |     -     |   2.25   \n",
      "   2    |   310   |   0.532001   |     -      |     -     |   2.31   \n",
      "   2    |   320   |   0.484950   |     -      |     -     |   2.27   \n",
      "   2    |   330   |   0.483321   |     -      |     -     |   2.30   \n",
      "   2    |   340   |   0.469311   |     -      |     -     |   2.28   \n",
      "   2    |   350   |   0.448601   |     -      |     -     |   2.31   \n",
      "   2    |   360   |   0.509802   |     -      |     -     |   2.19   \n",
      "   2    |   370   |   0.479253   |     -      |     -     |   2.20   \n",
      "   2    |   380   |   0.469390   |     -      |     -     |   2.20   \n",
      "   2    |   390   |   0.495140   |     -      |     -     |   2.19   \n",
      "   2    |   400   |   0.494030   |     -      |     -     |   2.21   \n",
      "   2    |   405   |   0.502298   |     -      |     -     |   1.10   \n",
      "----------------------------------------------------------------------\n",
      "   2    |    -    |   0.480900   |  0.568900  |   77.27   |   92.85  \n",
      "----------------------------------------------------------------------\n",
      "\n",
      "\n",
      " Epoch  |  Batch  |  Train Loss  |  Val Loss  |  Val F1   |  Elapsed \n",
      "----------------------------------------------------------------------\n",
      "   3    |   10    |   0.315455   |     -      |     -     |   2.39   \n",
      "   3    |   20    |   0.227560   |     -      |     -     |   2.21   \n",
      "   3    |   30    |   0.328115   |     -      |     -     |   2.19   \n",
      "   3    |   40    |   0.275958   |     -      |     -     |   2.21   \n",
      "   3    |   50    |   0.277601   |     -      |     -     |   2.18   \n",
      "   3    |   60    |   0.315560   |     -      |     -     |   2.20   \n",
      "   3    |   70    |   0.297995   |     -      |     -     |   2.20   \n",
      "   3    |   80    |   0.258335   |     -      |     -     |   2.21   \n",
      "   3    |   90    |   0.215346   |     -      |     -     |   2.18   \n",
      "   3    |   100   |   0.292175   |     -      |     -     |   2.18   \n",
      "   3    |   110   |   0.245530   |     -      |     -     |   2.18   \n",
      "   3    |   120   |   0.241058   |     -      |     -     |   2.19   \n",
      "   3    |   130   |   0.301294   |     -      |     -     |   2.17   \n",
      "   3    |   140   |   0.258630   |     -      |     -     |   2.20   \n",
      "   3    |   150   |   0.226136   |     -      |     -     |   2.23   \n",
      "   3    |   160   |   0.301098   |     -      |     -     |   2.21   \n",
      "   3    |   170   |   0.280210   |     -      |     -     |   2.19   \n",
      "   3    |   180   |   0.252610   |     -      |     -     |   2.17   \n",
      "   3    |   190   |   0.266170   |     -      |     -     |   2.21   \n",
      "   3    |   200   |   0.257059   |     -      |     -     |   2.21   \n",
      "   3    |   210   |   0.286394   |     -      |     -     |   2.21   \n",
      "   3    |   220   |   0.288424   |     -      |     -     |   2.21   \n",
      "   3    |   230   |   0.234553   |     -      |     -     |   2.21   \n",
      "   3    |   240   |   0.258345   |     -      |     -     |   2.21   \n",
      "   3    |   250   |   0.246877   |     -      |     -     |   2.21   \n",
      "   3    |   260   |   0.261129   |     -      |     -     |   2.22   \n",
      "   3    |   270   |   0.276089   |     -      |     -     |   2.18   \n",
      "   3    |   280   |   0.286021   |     -      |     -     |   2.18   \n",
      "   3    |   290   |   0.306270   |     -      |     -     |   2.20   \n",
      "   3    |   300   |   0.264386   |     -      |     -     |   2.19   \n",
      "   3    |   310   |   0.221926   |     -      |     -     |   2.20   \n",
      "   3    |   320   |   0.270848   |     -      |     -     |   2.21   \n",
      "   3    |   330   |   0.263786   |     -      |     -     |   2.22   \n",
      "   3    |   340   |   0.284852   |     -      |     -     |   2.21   \n",
      "   3    |   350   |   0.284906   |     -      |     -     |   2.22   \n",
      "   3    |   360   |   0.291908   |     -      |     -     |   2.21   \n",
      "   3    |   370   |   0.268513   |     -      |     -     |   2.20   \n",
      "   3    |   380   |   0.249359   |     -      |     -     |   2.23   \n",
      "   3    |   390   |   0.278931   |     -      |     -     |   2.18   \n",
      "   3    |   400   |   0.294088   |     -      |     -     |   2.19   \n",
      "   3    |   405   |   0.299466   |     -      |     -     |   1.10   \n",
      "----------------------------------------------------------------------\n",
      "   3    |    -    |   0.271743   |  0.714361  |   77.21   |   92.75  \n",
      "----------------------------------------------------------------------\n",
      "\n",
      "\n",
      " Epoch  |  Batch  |  Train Loss  |  Val Loss  |  Val F1   |  Elapsed \n",
      "----------------------------------------------------------------------\n",
      "   4    |   10    |   0.174075   |     -      |     -     |   2.39   \n",
      "   4    |   20    |   0.157960   |     -      |     -     |   2.18   \n",
      "   4    |   30    |   0.128236   |     -      |     -     |   2.19   \n",
      "   4    |   40    |   0.148663   |     -      |     -     |   2.19   \n",
      "   4    |   50    |   0.060421   |     -      |     -     |   2.19   \n",
      "   4    |   60    |   0.120397   |     -      |     -     |   2.19   \n",
      "   4    |   70    |   0.140511   |     -      |     -     |   2.19   \n",
      "   4    |   80    |   0.164121   |     -      |     -     |   2.20   \n",
      "   4    |   90    |   0.101178   |     -      |     -     |   2.20   \n",
      "   4    |   100   |   0.076276   |     -      |     -     |   2.32   \n",
      "   4    |   110   |   0.116952   |     -      |     -     |   2.40   \n",
      "   4    |   120   |   0.137959   |     -      |     -     |   2.42   \n",
      "   4    |   130   |   0.142461   |     -      |     -     |   2.23   \n",
      "   4    |   140   |   0.142993   |     -      |     -     |   2.20   \n",
      "   4    |   150   |   0.082381   |     -      |     -     |   2.20   \n",
      "   4    |   160   |   0.122970   |     -      |     -     |   2.21   \n",
      "   4    |   170   |   0.182329   |     -      |     -     |   2.21   \n",
      "   4    |   180   |   0.153742   |     -      |     -     |   2.19   \n",
      "   4    |   190   |   0.213528   |     -      |     -     |   2.22   \n",
      "   4    |   200   |   0.126000   |     -      |     -     |   2.22   \n",
      "   4    |   210   |   0.157617   |     -      |     -     |   2.19   \n",
      "   4    |   220   |   0.202977   |     -      |     -     |   2.21   \n",
      "   4    |   230   |   0.111126   |     -      |     -     |   2.22   \n",
      "   4    |   240   |   0.120471   |     -      |     -     |   2.20   \n",
      "   4    |   250   |   0.188760   |     -      |     -     |   2.21   \n",
      "   4    |   260   |   0.120250   |     -      |     -     |   2.20   \n",
      "   4    |   270   |   0.093585   |     -      |     -     |   2.23   \n",
      "   4    |   280   |   0.116902   |     -      |     -     |   2.19   \n",
      "   4    |   290   |   0.166268   |     -      |     -     |   2.22   \n",
      "   4    |   300   |   0.108716   |     -      |     -     |   2.21   \n",
      "   4    |   310   |   0.187744   |     -      |     -     |   2.22   \n",
      "   4    |   320   |   0.107637   |     -      |     -     |   2.20   \n",
      "   4    |   330   |   0.157405   |     -      |     -     |   2.21   \n",
      "   4    |   340   |   0.170604   |     -      |     -     |   2.19   \n",
      "   4    |   350   |   0.135190   |     -      |     -     |   2.19   \n",
      "   4    |   360   |   0.086833   |     -      |     -     |   2.20   \n",
      "   4    |   370   |   0.148637   |     -      |     -     |   2.19   \n",
      "   4    |   380   |   0.124191   |     -      |     -     |   2.19   \n",
      "   4    |   390   |   0.143438   |     -      |     -     |   2.18   \n",
      "   4    |   400   |   0.167038   |     -      |     -     |   2.19   \n",
      "   4    |   405   |   0.095293   |     -      |     -     |   1.09   \n",
      "----------------------------------------------------------------------\n",
      "   4    |    -    |   0.137281   |  0.913764  |   76.44   |   93.30  \n",
      "----------------------------------------------------------------------\n",
      "\n",
      "\n",
      " Epoch  |  Batch  |  Train Loss  |  Val Loss  |  Val F1   |  Elapsed \n",
      "----------------------------------------------------------------------\n",
      "   5    |   10    |   0.075036   |     -      |     -     |   2.39   \n",
      "   5    |   20    |   0.064589   |     -      |     -     |   2.19   \n",
      "   5    |   30    |   0.057454   |     -      |     -     |   2.18   \n",
      "   5    |   40    |   0.048374   |     -      |     -     |   2.18   \n",
      "   5    |   50    |   0.033771   |     -      |     -     |   2.17   \n",
      "   5    |   60    |   0.104743   |     -      |     -     |   2.20   \n",
      "   5    |   70    |   0.066231   |     -      |     -     |   2.19   \n",
      "   5    |   80    |   0.101847   |     -      |     -     |   2.19   \n",
      "   5    |   90    |   0.059938   |     -      |     -     |   2.19   \n",
      "   5    |   100   |   0.032661   |     -      |     -     |   2.20   \n",
      "   5    |   110   |   0.056314   |     -      |     -     |   2.19   \n",
      "   5    |   120   |   0.089828   |     -      |     -     |   2.21   \n",
      "   5    |   130   |   0.032253   |     -      |     -     |   2.20   \n",
      "   5    |   140   |   0.047820   |     -      |     -     |   2.21   \n",
      "   5    |   150   |   0.062210   |     -      |     -     |   2.22   \n",
      "   5    |   160   |   0.051586   |     -      |     -     |   2.22   \n",
      "   5    |   170   |   0.056925   |     -      |     -     |   2.21   \n",
      "   5    |   180   |   0.070445   |     -      |     -     |   2.20   \n",
      "   5    |   190   |   0.114870   |     -      |     -     |   2.22   \n",
      "   5    |   200   |   0.082308   |     -      |     -     |   2.20   \n",
      "   5    |   210   |   0.067927   |     -      |     -     |   2.21   \n",
      "   5    |   220   |   0.121321   |     -      |     -     |   2.21   \n",
      "   5    |   230   |   0.049875   |     -      |     -     |   2.19   \n",
      "   5    |   240   |   0.051130   |     -      |     -     |   2.21   \n",
      "   5    |   250   |   0.081023   |     -      |     -     |   2.21   \n",
      "   5    |   260   |   0.144802   |     -      |     -     |   2.20   \n",
      "   5    |   270   |   0.071219   |     -      |     -     |   2.20   \n",
      "   5    |   280   |   0.077721   |     -      |     -     |   2.21   \n",
      "   5    |   290   |   0.085059   |     -      |     -     |   2.22   \n",
      "   5    |   300   |   0.071208   |     -      |     -     |   2.17   \n",
      "   5    |   310   |   0.078100   |     -      |     -     |   2.20   \n",
      "   5    |   320   |   0.035747   |     -      |     -     |   2.18   \n",
      "   5    |   330   |   0.074049   |     -      |     -     |   2.21   \n",
      "   5    |   340   |   0.119442   |     -      |     -     |   2.20   \n",
      "   5    |   350   |   0.064170   |     -      |     -     |   2.20   \n",
      "   5    |   360   |   0.073908   |     -      |     -     |   2.21   \n",
      "   5    |   370   |   0.048956   |     -      |     -     |   2.21   \n",
      "   5    |   380   |   0.071549   |     -      |     -     |   2.19   \n",
      "   5    |   390   |   0.043863   |     -      |     -     |   2.42   \n",
      "   5    |   400   |   0.066893   |     -      |     -     |   2.34   \n",
      "   5    |   405   |   0.106128   |     -      |     -     |   1.19   \n",
      "----------------------------------------------------------------------\n",
      "   5    |    -    |   0.070634   |  1.100371  |   76.03   |   93.55  \n",
      "----------------------------------------------------------------------\n",
      "\n",
      "\n",
      "Training complete. Best result: 77.27411477411476 | epoch 1.\n"
     ]
    }
   ],
   "source": [
    "set_seed(SEED)\n",
    "loss_fn = nn.CrossEntropyLoss()\n",
    "transformer_classifier, optimizer, scheduler = initialize_model(MODEL_CLASS, MODEL_NAME, \n",
    "                                                                MODEL_LAYERS, MODEL_DROPOUT_LAYERS,\n",
    "                                                                len(train_dataloader), epochs=EPOCHS, \n",
    "                                                                freeze=FREEZE, learning_rate=LEARNING_RATE)\n",
    "\n",
    "execution_params = {\n",
    "    'model_class':MODEL_CLASS,\n",
    "    'model_tokenizer': MODEL_TOKENIZER,\n",
    "    'model_name': MODEL_NAME,\n",
    "    'model_layers': MODEL_LAYERS,\n",
    "    'model_dropout_layers': MODEL_DROPOUT_LAYERS,\n",
    "    'freeze': FREEZE,\n",
    "    'learning_rate': LEARNING_RATE,\n",
    "    'batch_size': BATCH_SIZE,\n",
    "    'epochs': EPOCHS,\n",
    "    'model_definition': transformer_classifier.classifier,\n",
    "    'scheduler': scheduler,\n",
    "    'optimizer': optimizer,\n",
    "    'seed': SEED,\n",
    "    'device': get_device()\n",
    "}\n",
    "\n",
    "\n",
    "with mlflow.start_run(run_name=EXPERIMENT_RUN_NAME, experiment_id=EXPERIMENT_ID) as main_run:\n",
    "\n",
    "    start_time = time.time()\n",
    "    transformer_classifier, train_history = train(transformer_classifier, loss_fn, optimizer, scheduler, train_dataloader, \n",
    "                                                  test_dataloader, epochs=EPOCHS, evaluation=True)\n",
    "    training_time = time.time() - start_time\n",
    "\n",
    "    probs = predict(transformer_classifier, test_dataloader)\n",
    "\n",
    "    eval_metric = metrics.f1_score(y_test, probs.argmax(axis=1), average=None)\n",
    "    global_eval_metric = metrics.f1_score(y_test, probs.argmax(axis=1), average='micro')\n",
    "\n",
    "    shutil.rmtree(settings.LOGS_ARTIFACTS_PATH)\n",
    "    os.makedirs(settings.LOGS_ARTIFACTS_PATH) \n",
    "\n",
    "    transformer_classifier.model.save_pretrained(f\"{settings.LOGS_ARTIFACTS_PATH}/model\")\n",
    "    mlflow.pytorch.log_model(transformer_classifier, \"model\")\n",
    "    mlflow.log_metric('training_time', training_time)\n",
    "\n",
    "    simple_preprocessing_params, complex_preprocessing_params = format_nested_parameters(preprocessing_params, 'preprocessing')\n",
    "    mlflow.log_params(simple_preprocessing_params)\n",
    "\n",
    "    simple_execution_params, complex_execution_params = format_nested_parameters(execution_params, 'execution')\n",
    "    mlflow.log_params(simple_execution_params)\n",
    "\n",
    "    mlflow.log_param('X_training', X_train.shape)\n",
    "    mlflow.log_param('X_test', X_test.shape)    \n",
    "\n",
    "    evaluation_summary_frame = (pd.DataFrame([eval_metric], columns=['F1-Neg', 'F1-Neu', 'F1-Pos'])\n",
    "                                .assign(F1=global_eval_metric)\n",
    "                                [['F1-Pos', 'F1-Neu', 'F1-Neg', 'F1']]\n",
    "                               )\n",
    "    for ix, metric in enumerate(['F1-Neg', 'F1-Neu', 'F1-Pos', 'F1']):\n",
    "        mlflow.log_metric(metric, evaluation_summary_frame.loc[0][metric])\n",
    "\n",
    "    evaluation_summary_frame.to_csv(f'{settings.LOGS_ARTIFACTS_PATH}/experiment_runs_summary.csv')\n",
    "    evaluation_summary_frame.to_html(f'{settings.LOGS_ARTIFACTS_PATH}/experiment_runs_summary.html')\n",
    "\n",
    "    train_history_frame = pd.DataFrame(train_history)\n",
    "    train_history_frame.to_csv(f'{settings.LOGS_ARTIFACTS_PATH}/experiment_train_history.csv')\n",
    "    train_history_frame.to_html(f'{settings.LOGS_ARTIFACTS_PATH}/experiment_train_history.html')\n",
    "\n",
    "    for param_name, param_value in {**complex_preprocessing_params, **complex_execution_params}.items():\n",
    "        with open(f'{settings.LOGS_ARTIFACTS_PATH}/{param_name}.txt', 'w') as file:\n",
    "            file.write(param_value)\n",
    "\n",
    "    mlflow.log_artifact(settings.LOGS_ARTIFACTS_PATH)\n",
    "\n",
    "    del train_inputs, train_masks, train_data, train_labels, train_sampler, train_dataloader\n",
    "    del test_inputs, test_masks, test_data, test_labels, test_sampler, test_dataloader\n",
    "    del optimizer, scheduler, loss_fn\n",
    "    del transformer_classifier, tokenizer, token_ids, probs\n",
    "    del execution_params, preprocessing_params\n",
    "    del MODEL_CLASS, MODEL_TOKENIZER\n",
    "\n",
    "    torch.cuda.empty_cache()\n",
    "    torch.cuda.synchronize()\n",
    "    gc.collect()"
   ]
  },
  {
   "cell_type": "markdown",
   "metadata": {
    "id": "D5ostg9kPlra"
   },
   "source": [
    "## Experiments Results"
   ]
  },
  {
   "cell_type": "code",
   "execution_count": 15,
   "metadata": {},
   "outputs": [
    {
     "data": {
      "text/html": [
       "<h3>Test</h3>"
      ],
      "text/plain": [
       "<IPython.core.display.HTML object>"
      ]
     },
     "metadata": {},
     "output_type": "display_data"
    },
    {
     "data": {
      "text/html": [
       "<div>\n",
       "<style scoped>\n",
       "    .dataframe tbody tr th:only-of-type {\n",
       "        vertical-align: middle;\n",
       "    }\n",
       "\n",
       "    .dataframe tbody tr th {\n",
       "        vertical-align: top;\n",
       "    }\n",
       "\n",
       "    .dataframe thead th {\n",
       "        text-align: right;\n",
       "    }\n",
       "</style>\n",
       "<table border=\"1\" class=\"dataframe\">\n",
       "  <thead>\n",
       "    <tr style=\"text-align: right;\">\n",
       "      <th></th>\n",
       "      <th>F1-Pos</th>\n",
       "      <th>F1-Neu</th>\n",
       "      <th>F1-Neg</th>\n",
       "      <th>F1</th>\n",
       "    </tr>\n",
       "  </thead>\n",
       "  <tbody>\n",
       "    <tr>\n",
       "      <th>0</th>\n",
       "      <td>0.837778</td>\n",
       "      <td>0.654649</td>\n",
       "      <td>0.778731</td>\n",
       "      <td>0.772637</td>\n",
       "    </tr>\n",
       "  </tbody>\n",
       "</table>\n",
       "</div>"
      ],
      "text/plain": [
       "     F1-Pos    F1-Neu    F1-Neg        F1\n",
       "0  0.837778  0.654649  0.778731  0.772637"
      ]
     },
     "metadata": {},
     "output_type": "display_data"
    }
   ],
   "source": [
    "display(HTML('<h3>Test</h3>'))\n",
    "display(evaluation_summary_frame)"
   ]
  }
 ],
 "metadata": {
  "accelerator": "GPU",
  "colab": {
   "collapsed_sections": [],
   "name": "Porcamente Adaptado de  BERT-for-Sentiment-Analysis.ipynb",
   "provenance": [
    {
     "file_id": "1f32gj5IYIyFipoINiC8P3DvKat-WWLUK",
     "timestamp": 1604420331516
    }
   ],
   "toc_visible": true
  },
  "kernelspec": {
   "display_name": "Python 3",
   "language": "python",
   "name": "python3"
  },
  "language_info": {
   "codemirror_mode": {
    "name": "ipython",
    "version": 3
   },
   "file_extension": ".py",
   "mimetype": "text/x-python",
   "name": "python",
   "nbconvert_exporter": "python",
   "pygments_lexer": "ipython3",
   "version": "3.8.5"
  }
 },
 "nbformat": 4,
 "nbformat_minor": 4
}
