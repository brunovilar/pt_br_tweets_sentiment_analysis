{
 "cells": [
  {
   "cell_type": "markdown",
   "metadata": {
    "id": "sqg4y371CM7X"
   },
   "source": [
    "# Experiments - Fine tune Bert\n",
    "\n",
    "The goal of this notebook is use [Building a Sentiment Corpus of Tweets in Brazilian Portuguese](https://arxiv.org/abs/1712.08917)."
   ]
  },
  {
   "cell_type": "markdown",
   "metadata": {
    "id": "31OW0dhozvli"
   },
   "source": [
    "## Libraries and Settings"
   ]
  },
  {
   "cell_type": "markdown",
   "metadata": {},
   "source": [
    "Thirdy party libraries"
   ]
  },
  {
   "cell_type": "code",
   "execution_count": 1,
   "metadata": {},
   "outputs": [],
   "source": [
    "# General\n",
    "import os\n",
    "import gc\n",
    "import sys\n",
    "import time\n",
    "import shutil\n",
    "import funcy as fp\n",
    "import numpy as np\n",
    "import pandas as pd\n",
    "\n",
    "# Visualization / Presentation\n",
    "from tqdm.notebook import tqdm\n",
    "import matplotlib.pyplot as plt\n",
    "from IPython.core.display import HTML, display\n",
    "\n",
    "# Model Training and Evaluation\n",
    "import mlflow\n",
    "import torch\n",
    "import torch.nn as nn\n",
    "import torchvision\n",
    "from torch.utils.data import TensorDataset, DataLoader, RandomSampler, SequentialSampler\n",
    "from torch.cuda.amp import GradScaler, autocast\n",
    "from sklearn import metrics"
   ]
  },
  {
   "cell_type": "markdown",
   "metadata": {},
   "source": [
    "Internal libraries"
   ]
  },
  {
   "cell_type": "code",
   "execution_count": 2,
   "metadata": {},
   "outputs": [],
   "source": [
    "sys.path.append(os.path.abspath(os.path.pardir))\n",
    "\n",
    "from src import settings\n",
    "from src.pipeline.resources import load_corpus\n",
    "from src.models.transformer import preprocess, initialize_model, set_seed, get_device, evaluate, predict\n",
    "from src.utils import format_nested_parameters"
   ]
  },
  {
   "cell_type": "markdown",
   "metadata": {},
   "source": [
    "Presentation settings"
   ]
  },
  {
   "cell_type": "code",
   "execution_count": 3,
   "metadata": {},
   "outputs": [],
   "source": [
    "%matplotlib inline \n",
    "pd.set_option('max_colwidth', 150)"
   ]
  },
  {
   "cell_type": "markdown",
   "metadata": {},
   "source": [
    "Experiment settings"
   ]
  },
  {
   "cell_type": "code",
   "execution_count": 4,
   "metadata": {},
   "outputs": [],
   "source": [
    "EXPERIMENT_ID = 3\n",
    "EXPERIMENT_RUN_NAME = f'TrackingParameters'"
   ]
  },
  {
   "cell_type": "markdown",
   "metadata": {
    "id": "u07WRKnxsX96"
   },
   "source": [
    "## Load and Prepare Dataset"
   ]
  },
  {
   "cell_type": "code",
   "execution_count": 5,
   "metadata": {
    "executionInfo": {
     "elapsed": 3880,
     "status": "ok",
     "timestamp": 1604425976287,
     "user": {
      "displayName": "Bruno Vilar",
      "photoUrl": "https://lh3.googleusercontent.com/a-/AOh14GitnJqA4yg0YW7lBxpd6Acfxpcpe2vurX_VBhN1Kw=s64",
      "userId": "12191660000722192802"
     },
     "user_tz": 180
    },
    "id": "q0wnL46x_u-D"
   },
   "outputs": [],
   "source": [
    "frame = load_corpus()"
   ]
  },
  {
   "cell_type": "code",
   "execution_count": 6,
   "metadata": {
    "colab": {
     "base_uri": "https://localhost:8080/",
     "height": 677
    },
    "executionInfo": {
     "elapsed": 3840,
     "status": "ok",
     "timestamp": 1604425976317,
     "user": {
      "displayName": "Bruno Vilar",
      "photoUrl": "https://lh3.googleusercontent.com/a-/AOh14GitnJqA4yg0YW7lBxpd6Acfxpcpe2vurX_VBhN1Kw=s64",
      "userId": "12191660000722192802"
     },
     "user_tz": 180
    },
    "id": "79T-9rhG_3NN",
    "outputId": "27e068ef-545e-40d4-9c95-8578ca2e224f"
   },
   "outputs": [
    {
     "data": {
      "text/html": [
       "<div>\n",
       "<style scoped>\n",
       "    .dataframe tbody tr th:only-of-type {\n",
       "        vertical-align: middle;\n",
       "    }\n",
       "\n",
       "    .dataframe tbody tr th {\n",
       "        vertical-align: top;\n",
       "    }\n",
       "\n",
       "    .dataframe thead th {\n",
       "        text-align: right;\n",
       "    }\n",
       "</style>\n",
       "<table border=\"1\" class=\"dataframe\">\n",
       "  <thead>\n",
       "    <tr style=\"text-align: right;\">\n",
       "      <th></th>\n",
       "      <th>text</th>\n",
       "      <th>label</th>\n",
       "      <th>group</th>\n",
       "    </tr>\n",
       "  </thead>\n",
       "  <tbody>\n",
       "    <tr>\n",
       "      <th>12193</th>\n",
       "      <td>as irmãs galvão arrasando no salto elas são tão simpáticas #Encontro</td>\n",
       "      <td>2.0</td>\n",
       "      <td>train</td>\n",
       "    </tr>\n",
       "    <tr>\n",
       "      <th>13325</th>\n",
       "      <td>merda ! esqueci que sandy estaria no . perdi muita coisa #Encontro</td>\n",
       "      <td>0.0</td>\n",
       "      <td>train</td>\n",
       "    </tr>\n",
       "    <tr>\n",
       "      <th>13578</th>\n",
       "      <td>todo bebê de NUMBER ano e pouco eu lembro do meu sobrinho 😍</td>\n",
       "      <td>1.0</td>\n",
       "      <td>train</td>\n",
       "    </tr>\n",
       "    <tr>\n",
       "      <th>11369</th>\n",
       "      <td>fiquei tão nervosa e chorei tanto com o USERNAME no</td>\n",
       "      <td>0.0</td>\n",
       "      <td>train</td>\n",
       "    </tr>\n",
       "    <tr>\n",
       "      <th>3153</th>\n",
       "      <td>adorei a roupa da sophie abrão ❤ ️ ❤ ️</td>\n",
       "      <td>2.0</td>\n",
       "      <td>test</td>\n",
       "    </tr>\n",
       "    <tr>\n",
       "      <th>2833</th>\n",
       "      <td>eu odeio esss leo do</td>\n",
       "      <td>0.0</td>\n",
       "      <td>train</td>\n",
       "    </tr>\n",
       "  </tbody>\n",
       "</table>\n",
       "</div>"
      ],
      "text/plain": [
       "                                                                       text  \\\n",
       "12193  as irmãs galvão arrasando no salto elas são tão simpáticas #Encontro   \n",
       "13325    merda ! esqueci que sandy estaria no . perdi muita coisa #Encontro   \n",
       "13578           todo bebê de NUMBER ano e pouco eu lembro do meu sobrinho 😍   \n",
       "11369                   fiquei tão nervosa e chorei tanto com o USERNAME no   \n",
       "3153                                 adorei a roupa da sophie abrão ❤ ️ ❤ ️   \n",
       "2833                                                   eu odeio esss leo do   \n",
       "\n",
       "       label  group  \n",
       "12193    2.0  train  \n",
       "13325    0.0  train  \n",
       "13578    1.0  train  \n",
       "11369    0.0  train  \n",
       "3153     2.0   test  \n",
       "2833     0.0  train  "
      ]
     },
     "execution_count": 6,
     "metadata": {},
     "output_type": "execute_result"
    }
   ],
   "source": [
    "frame = (frame\n",
    "         .assign(label=lambda f: f['sentiment'].map({'-1': 0, '0':1, '1': 2}))\n",
    "         [['text', 'label', 'group']]\n",
    "        )\n",
    "frame.sample(6)"
   ]
  },
  {
   "cell_type": "code",
   "execution_count": 7,
   "metadata": {
    "colab": {
     "base_uri": "https://localhost:8080/"
    },
    "executionInfo": {
     "elapsed": 3829,
     "status": "ok",
     "timestamp": 1604425976319,
     "user": {
      "displayName": "Bruno Vilar",
      "photoUrl": "https://lh3.googleusercontent.com/a-/AOh14GitnJqA4yg0YW7lBxpd6Acfxpcpe2vurX_VBhN1Kw=s64",
      "userId": "12191660000722192802"
     },
     "user_tz": 180
    },
    "id": "X4HKAFTbvMwI",
    "outputId": "d0415abd-ea6e-4b49-b279-2dcc0e96ec62"
   },
   "outputs": [
    {
     "name": "stdout",
     "output_type": "stream",
     "text": [
      "Train: 12990 | Test: 2010\n"
     ]
    }
   ],
   "source": [
    "train_frame = frame.loc[lambda f: f['group'] == 'train']\n",
    "test_frame = frame.loc[lambda f: f['group'] == 'test']\n",
    "del frame\n",
    "\n",
    "X_test = test_frame.text.values\n",
    "y_test = test_frame.label.values\n",
    "\n",
    "X_train = train_frame.text.values\n",
    "y_train = train_frame.label.values\n",
    "\n",
    "print(f'Train: {len(X_train)} | Test: {len(X_test)}')"
   ]
  },
  {
   "cell_type": "markdown",
   "metadata": {
    "id": "X79dYY3sxDCi"
   },
   "source": [
    "## Check GPU Availability"
   ]
  },
  {
   "cell_type": "code",
   "execution_count": 8,
   "metadata": {
    "colab": {
     "base_uri": "https://localhost:8080/"
    },
    "executionInfo": {
     "elapsed": 3820,
     "status": "ok",
     "timestamp": 1604425976320,
     "user": {
      "displayName": "Bruno Vilar",
      "photoUrl": "https://lh3.googleusercontent.com/a-/AOh14GitnJqA4yg0YW7lBxpd6Acfxpcpe2vurX_VBhN1Kw=s64",
      "userId": "12191660000722192802"
     },
     "user_tz": 180
    },
    "id": "K7hxtI4l0SUJ",
    "outputId": "a4fdb62b-3287-4cf9-ab21-585ccda36811"
   },
   "outputs": [
    {
     "name": "stdout",
     "output_type": "stream",
     "text": [
      "GPU(s) available: 1. Device name: GeForce RTX 3090\n"
     ]
    }
   ],
   "source": [
    "if torch.cuda.is_available():\n",
    "    print(f'GPU(s) available: {torch.cuda.device_count()}. Device name: {torch.cuda.get_device_name(0)}')\n",
    "else:\n",
    "    print('Using the CPU.')"
   ]
  },
  {
   "cell_type": "markdown",
   "metadata": {
    "id": "lEPPYHa62JXF"
   },
   "source": [
    "## Fine Tuning Model\n",
    "\n",
    "### Define Parameters and Settings"
   ]
  },
  {
   "cell_type": "code",
   "execution_count": 9,
   "metadata": {},
   "outputs": [],
   "source": [
    "from transformers import BertModel,  BertTokenizer\n",
    "\n",
    "MODEL_CLASS = BertModel\n",
    "MODEL_TOKENIZER = BertTokenizer\n",
    "#MODEL_NAME = 'neuralmind/bert-base-portuguese-cased'\n",
    "MODEL_NAME = 'neuralmind/bert-large-portuguese-cased'\n",
    "\n",
    "model_registry = {\n",
    "    'BERT-BASE': {}\n",
    "}\n",
    "\n",
    "\n",
    "\"\"\"\n",
    "from transformers import RobertaModel, RobertaTokenizer\n",
    "MODEL_CLASS = RobertaModel\n",
    "MODEL_TOKENIZER = RobertaTokenizer\n",
    "\n",
    "MODEL_NAME = 'rdenadai/BR_BERTo'\n",
    "\"\"\"\n",
    "\n",
    "MODEL_LAYERS = []\n",
    "MODEL_DROPOUT_LAYERS = []\n",
    "\n",
    "\"\"\"\n",
    "from transformers import RobertaModel, RobertaTokenizer\n",
    "MODEL_CLASS = RobertaModel\n",
    "MODEL_TOKENIZER = RobertaTokenizer\n",
    "MODEL_NAME = 'rdenadai/BR_BERTo'\n",
    "\"\"\"\n",
    "\n",
    "FREEZE = False\n",
    "LEARNING_RATE = 3e-5\n",
    "BATCH_SIZE = 32\n",
    "EPOCHS = 2\n",
    "SEED = 42\n",
    "\n",
    "preprocessing_params = {\n",
    "    'unify_html_tags': False,\n",
    "    'unify_urls': True, \n",
    "    'trim_repeating_spaces': True,\n",
    "    'unify_hashtags': False, \n",
    "    'unify_mentions': True,\n",
    "    'unify_numbers': False, \n",
    "    'trim_repeating_letters': True,\n",
    "    'lower_case': True\n",
    "}\n",
    "\n",
    "tokenizer = MODEL_TOKENIZER.from_pretrained(MODEL_NAME, do_lower_case=preprocessing_params['lower_case'])\n",
    "preprocessing_params['tokenizer'] = tokenizer"
   ]
  },
  {
   "cell_type": "markdown",
   "metadata": {
    "id": "TNE9oASMZ1bN"
   },
   "source": [
    "Encode all sentences to get the maximum length."
   ]
  },
  {
   "cell_type": "code",
   "execution_count": 10,
   "metadata": {
    "colab": {
     "base_uri": "https://localhost:8080/"
    },
    "executionInfo": {
     "elapsed": 29513,
     "status": "ok",
     "timestamp": 1604426002286,
     "user": {
      "displayName": "Bruno Vilar",
      "photoUrl": "https://lh3.googleusercontent.com/a-/AOh14GitnJqA4yg0YW7lBxpd6Acfxpcpe2vurX_VBhN1Kw=s64",
      "userId": "12191660000722192802"
     },
     "user_tz": 180
    },
    "id": "hrbvKGNAlMtt",
    "outputId": "38087981-c897-4f40-ad58-b50c21c2003f"
   },
   "outputs": [],
   "source": [
    "all_tweets = np.concatenate([train_frame.text.values, test_frame.text.values])\n",
    "encoded_tweets = [tokenizer.encode(sent, add_special_tokens=True) for sent in all_tweets]\n",
    "max_len = max([len(sent) for sent in encoded_tweets])\n",
    "preprocessing_params['max_len'] = max_len\n",
    "del encoded_tweets"
   ]
  },
  {
   "cell_type": "markdown",
   "metadata": {
    "id": "vpdjBB9fmbu2"
   },
   "source": [
    "Preprocess and tokenize data."
   ]
  },
  {
   "cell_type": "code",
   "execution_count": 11,
   "metadata": {
    "colab": {
     "base_uri": "https://localhost:8080/"
    },
    "executionInfo": {
     "elapsed": 31755,
     "status": "ok",
     "timestamp": 1604426004546,
     "user": {
      "displayName": "Bruno Vilar",
      "photoUrl": "https://lh3.googleusercontent.com/a-/AOh14GitnJqA4yg0YW7lBxpd6Acfxpcpe2vurX_VBhN1Kw=s64",
      "userId": "12191660000722192802"
     },
     "user_tz": 180
    },
    "id": "QTlQzTzAfCy7",
    "outputId": "cb02b1ce-0861-46c4-8c33-60fe5017e06c"
   },
   "outputs": [
    {
     "name": "stdout",
     "output_type": "stream",
     "text": [
      "Original:  apareceu o índice de morte na minha cidade tô muito assustado #BelemPedePaz\n",
      "Token IDs:  [101, 4169, 146, 2884, 22279, 125, 1386, 229, 7122, 651, 374, 785, 17154, 487, 108, 4826, 21813, 11237, 321, 22305, 102, 0, 0, 0, 0, 0, 0, 0, 0, 0, 0, 0, 0, 0, 0, 0, 0, 0, 0, 0, 0, 0, 0, 0, 0, 0, 0, 0, 0, 0, 0, 0, 0, 0, 0, 0, 0, 0, 0]\n"
     ]
    }
   ],
   "source": [
    "# Encode the first dataset sentence and show Token IDs\n",
    "token_ids = list(preprocess([X_train[0]], **preprocessing_params)[0].squeeze().numpy())\n",
    "print('Original: ', X_train[0])\n",
    "print('Token IDs: ', token_ids)\n",
    "\n",
    "# Run function `preprocessing_for_bert` on the train set and the validation set\n",
    "train_inputs, train_masks = preprocess(X_train, **preprocessing_params)\n",
    "test_inputs, test_masks = preprocess(X_test, **preprocessing_params)"
   ]
  },
  {
   "cell_type": "markdown",
   "metadata": {
    "id": "aZU8t5VNfvhY"
   },
   "source": [
    "### Create PyTorch DataLoaders for Train and Test Datasets"
   ]
  },
  {
   "cell_type": "code",
   "execution_count": 12,
   "metadata": {
    "executionInfo": {
     "elapsed": 31751,
     "status": "ok",
     "timestamp": 1604426004553,
     "user": {
      "displayName": "Bruno Vilar",
      "photoUrl": "https://lh3.googleusercontent.com/a-/AOh14GitnJqA4yg0YW7lBxpd6Acfxpcpe2vurX_VBhN1Kw=s64",
      "userId": "12191660000722192802"
     },
     "user_tz": 180
    },
    "id": "xHuYEc61gcGL"
   },
   "outputs": [],
   "source": [
    "train_labels = torch.tensor(y_train, dtype=torch.int64)\n",
    "test_labels = torch.tensor(y_test, dtype=torch.int64)\n",
    "\n",
    "train_data = TensorDataset(train_inputs, train_masks, train_labels)\n",
    "train_sampler = RandomSampler(train_data)\n",
    "train_dataloader = DataLoader(train_data, sampler=train_sampler, batch_size=BATCH_SIZE)\n",
    "\n",
    "test_data = TensorDataset(test_inputs, test_masks, test_labels)\n",
    "test_sampler = SequentialSampler(test_data)\n",
    "test_dataloader = DataLoader(test_data, sampler=test_sampler, batch_size=BATCH_SIZE)"
   ]
  },
  {
   "cell_type": "markdown",
   "metadata": {
    "id": "SSRAga-yj17q"
   },
   "source": [
    "## Train\n",
    "\n",
    "Define the training function."
   ]
  },
  {
   "cell_type": "code",
   "execution_count": 13,
   "metadata": {
    "executionInfo": {
     "elapsed": 31716,
     "status": "ok",
     "timestamp": 1604426004559,
     "user": {
      "displayName": "Bruno Vilar",
      "photoUrl": "https://lh3.googleusercontent.com/a-/AOh14GitnJqA4yg0YW7lBxpd6Acfxpcpe2vurX_VBhN1Kw=s64",
      "userId": "12191660000722192802"
     },
     "user_tz": 180
    },
    "id": "Xy4HkhyECibW"
   },
   "outputs": [],
   "source": [
    "def train(model, loss_fn, optimizer, scheduler, train_dataloader, val_dataloader=None, epochs=4, evaluation=False, steps_to_eval=10):\n",
    "    \n",
    "    best_eval = 0.\n",
    "    best_epoch = -1.\n",
    "    best_model_state = None\n",
    "    train_history = []\n",
    "    \n",
    "    scaler = GradScaler()\n",
    "\n",
    "    for epoch_i in range(epochs):\n",
    "        # =======================================\n",
    "        #               Training\n",
    "        # =======================================\n",
    "        print(f\"{'Epoch':^7} | {'Batch':^7} | {'Train Loss':^12} | {'Val Loss':^10} | {'Val F1':^9} | {'Elapsed':^9}\")\n",
    "        print(\"-\" * 70)\n",
    "\n",
    "        t0_epoch, t0_batch = time.time(), time.time()\n",
    "        total_loss, batch_loss, batch_counts = 0, 0, 0\n",
    "        model.train()\n",
    "\n",
    "        for step, batch in enumerate(train_dataloader):\n",
    "            batch_counts += 1\n",
    "            b_input_ids, b_attn_mask, b_labels = tuple(t.to(get_device()) for t in batch)\n",
    "\n",
    "            model.zero_grad()\n",
    "\n",
    "            with autocast(enabled=False):\n",
    "                logits = model(b_input_ids, b_attn_mask)\n",
    "                loss = loss_fn(logits, b_labels)\n",
    "                batch_loss += loss.item()\n",
    "                total_loss += loss.item()\n",
    "\n",
    "            #scaler.scale(loss).backward()\n",
    "            loss.backward()\n",
    "            torch.nn.utils.clip_grad_norm_(model.parameters(), 1.0)\n",
    "            #scaler.step(optimizer)\n",
    "            optimizer.step()\n",
    "            scheduler.step()\n",
    "            #scaler.update()\n",
    "\n",
    "            # Print the loss values and time elapsed for every 20 batches\n",
    "            if (step % steps_to_eval == 0 and step != 0) or (step == len(train_dataloader) - 1):\n",
    "                time_elapsed = time.time() - t0_batch\n",
    "                train_history.append({'epoch': epoch_i, 'step': step, 'time_elapsed': time_elapsed, 'batch_loss': batch_loss / batch_counts})\n",
    "                \n",
    "                print(f\"{epoch_i + 1:^7} | {step:^7} | {batch_loss / batch_counts:^12.6f} | {'-':^10} | {'-':^9} | {time_elapsed:^9.2f}\")\n",
    "\n",
    "                batch_loss, batch_counts = 0, 0\n",
    "                t0_batch = time.time()\n",
    "\n",
    "        avg_train_loss = total_loss / len(train_dataloader)\n",
    "\n",
    "        print(\"-\" * 70)\n",
    "        # =======================================\n",
    "        #               Evaluation\n",
    "        # =======================================\n",
    "        if evaluation == True:\n",
    "            val_loss, val_f1 = evaluate(model, val_dataloader, loss_fn)\n",
    "            time_elapsed = time.time() - t0_epoch\n",
    "            print(f\"{epoch_i + 1:^7} | {'-':^7} | {avg_train_loss:^12.6f} | {val_loss:^10.6f} | {val_f1:^9.2f} | {time_elapsed:^9.2f}\")\n",
    "            print(\"-\" * 70)\n",
    "            if val_f1 > best_eval:\n",
    "                best_eval = val_f1\n",
    "                best_epoch = epoch_i\n",
    "                torch.save(model.state_dict(), '../artifacts/models/best-model-parameters.pt')\n",
    "\n",
    "        print(\"\\n\")\n",
    "        \n",
    "    del scaler, logits, loss, batch_loss, total_loss, scheduler\n",
    "\n",
    "    print(f\"Training complete. Best result: {best_eval} | epoch {best_epoch}.\")\n",
    "    model.load_state_dict(torch.load('../artifacts/models/best-model-parameters.pt'))\n",
    "    return model, train_history"
   ]
  },
  {
   "cell_type": "markdown",
   "metadata": {
    "id": "BSfTy9LqiFD-"
   },
   "source": [
    "Training process."
   ]
  },
  {
   "cell_type": "code",
   "execution_count": 14,
   "metadata": {
    "colab": {
     "base_uri": "https://localhost:8080/"
    },
    "executionInfo": {
     "elapsed": 150245,
     "status": "ok",
     "timestamp": 1604426123094,
     "user": {
      "displayName": "Bruno Vilar",
      "photoUrl": "https://lh3.googleusercontent.com/a-/AOh14GitnJqA4yg0YW7lBxpd6Acfxpcpe2vurX_VBhN1Kw=s64",
      "userId": "12191660000722192802"
     },
     "user_tz": 180
    },
    "id": "wfYw7dJ0U0v6",
    "outputId": "7d9edb7f-d820-49d7-aec4-fd2099916696"
   },
   "outputs": [
    {
     "name": "stdout",
     "output_type": "stream",
     "text": [
      " Epoch  |  Batch  |  Train Loss  |  Val Loss  |  Val F1   |  Elapsed \n",
      "----------------------------------------------------------------------\n",
      "   1    |   10    |   1.082325   |     -      |     -     |   2.36   \n",
      "   1    |   20    |   0.953956   |     -      |     -     |   2.13   \n",
      "   1    |   30    |   0.882444   |     -      |     -     |   2.17   \n",
      "   1    |   40    |   0.746143   |     -      |     -     |   2.25   \n",
      "   1    |   50    |   0.817672   |     -      |     -     |   2.16   \n",
      "   1    |   60    |   0.804885   |     -      |     -     |   2.16   \n",
      "   1    |   70    |   0.797636   |     -      |     -     |   2.15   \n",
      "   1    |   80    |   0.865540   |     -      |     -     |   2.15   \n",
      "   1    |   90    |   0.745033   |     -      |     -     |   2.15   \n",
      "   1    |   100   |   0.739163   |     -      |     -     |   2.16   \n",
      "   1    |   110   |   0.707805   |     -      |     -     |   2.16   \n",
      "   1    |   120   |   0.644881   |     -      |     -     |   2.20   \n",
      "   1    |   130   |   0.821786   |     -      |     -     |   2.16   \n",
      "   1    |   140   |   0.706465   |     -      |     -     |   2.15   \n",
      "   1    |   150   |   0.659894   |     -      |     -     |   2.15   \n",
      "   1    |   160   |   0.659529   |     -      |     -     |   2.17   \n",
      "   1    |   170   |   0.690447   |     -      |     -     |   2.15   \n",
      "   1    |   180   |   0.741040   |     -      |     -     |   2.17   \n",
      "   1    |   190   |   0.699000   |     -      |     -     |   2.16   \n",
      "   1    |   200   |   0.680010   |     -      |     -     |   2.15   \n",
      "   1    |   210   |   0.728081   |     -      |     -     |   2.17   \n",
      "   1    |   220   |   0.666600   |     -      |     -     |   2.17   \n",
      "   1    |   230   |   0.728271   |     -      |     -     |   2.15   \n",
      "   1    |   240   |   0.697131   |     -      |     -     |   2.15   \n",
      "   1    |   250   |   0.646101   |     -      |     -     |   2.17   \n",
      "   1    |   260   |   0.758076   |     -      |     -     |   2.16   \n",
      "   1    |   270   |   0.634875   |     -      |     -     |   2.16   \n",
      "   1    |   280   |   0.742599   |     -      |     -     |   2.16   \n",
      "   1    |   290   |   0.683244   |     -      |     -     |   2.16   \n",
      "   1    |   300   |   0.659656   |     -      |     -     |   2.17   \n",
      "   1    |   310   |   0.636316   |     -      |     -     |   2.20   \n",
      "   1    |   320   |   0.678610   |     -      |     -     |   2.18   \n",
      "   1    |   330   |   0.719662   |     -      |     -     |   2.19   \n",
      "   1    |   340   |   0.635847   |     -      |     -     |   2.18   \n",
      "   1    |   350   |   0.670521   |     -      |     -     |   2.20   \n",
      "   1    |   360   |   0.637614   |     -      |     -     |   2.19   \n",
      "   1    |   370   |   0.633745   |     -      |     -     |   2.20   \n",
      "   1    |   380   |   0.764451   |     -      |     -     |   2.20   \n",
      "   1    |   390   |   0.639401   |     -      |     -     |   2.18   \n",
      "   1    |   400   |   0.673252   |     -      |     -     |   2.21   \n",
      "   1    |   405   |   0.784903   |     -      |     -     |   1.11   \n",
      "----------------------------------------------------------------------\n",
      "   1    |    -    |   0.728581   |  0.542662  |   77.45   |   91.53  \n",
      "----------------------------------------------------------------------\n",
      "\n",
      "\n",
      " Epoch  |  Batch  |  Train Loss  |  Val Loss  |  Val F1   |  Elapsed \n",
      "----------------------------------------------------------------------\n",
      "   2    |   10    |   0.532601   |     -      |     -     |   2.42   \n",
      "   2    |   20    |   0.496875   |     -      |     -     |   2.20   \n",
      "   2    |   30    |   0.530583   |     -      |     -     |   2.21   \n",
      "   2    |   40    |   0.499444   |     -      |     -     |   2.21   \n",
      "   2    |   50    |   0.493328   |     -      |     -     |   2.20   \n",
      "   2    |   60    |   0.507565   |     -      |     -     |   2.21   \n",
      "   2    |   70    |   0.521721   |     -      |     -     |   2.18   \n",
      "   2    |   80    |   0.518204   |     -      |     -     |   2.20   \n",
      "   2    |   90    |   0.506854   |     -      |     -     |   2.18   \n",
      "   2    |   100   |   0.497090   |     -      |     -     |   2.17   \n",
      "   2    |   110   |   0.487332   |     -      |     -     |   2.18   \n",
      "   2    |   120   |   0.519330   |     -      |     -     |   2.21   \n",
      "   2    |   130   |   0.527367   |     -      |     -     |   2.21   \n",
      "   2    |   140   |   0.486486   |     -      |     -     |   2.18   \n",
      "   2    |   150   |   0.513872   |     -      |     -     |   2.19   \n",
      "   2    |   160   |   0.482831   |     -      |     -     |   2.18   \n",
      "   2    |   170   |   0.499739   |     -      |     -     |   2.19   \n",
      "   2    |   180   |   0.403193   |     -      |     -     |   2.20   \n",
      "   2    |   190   |   0.499232   |     -      |     -     |   2.20   \n",
      "   2    |   200   |   0.518886   |     -      |     -     |   2.19   \n",
      "   2    |   210   |   0.544242   |     -      |     -     |   2.17   \n",
      "   2    |   220   |   0.438390   |     -      |     -     |   2.17   \n",
      "   2    |   230   |   0.479625   |     -      |     -     |   2.18   \n",
      "   2    |   240   |   0.446324   |     -      |     -     |   2.21   \n",
      "   2    |   250   |   0.517834   |     -      |     -     |   2.21   \n",
      "   2    |   260   |   0.471579   |     -      |     -     |   2.22   \n",
      "   2    |   270   |   0.483228   |     -      |     -     |   2.20   \n",
      "   2    |   280   |   0.452686   |     -      |     -     |   2.22   \n",
      "   2    |   290   |   0.399931   |     -      |     -     |   2.18   \n",
      "   2    |   300   |   0.428038   |     -      |     -     |   2.20   \n",
      "   2    |   310   |   0.560724   |     -      |     -     |   2.21   \n",
      "   2    |   320   |   0.483027   |     -      |     -     |   2.19   \n",
      "   2    |   330   |   0.481990   |     -      |     -     |   2.20   \n",
      "   2    |   340   |   0.467373   |     -      |     -     |   2.21   \n",
      "   2    |   350   |   0.402837   |     -      |     -     |   2.20   \n",
      "   2    |   360   |   0.490226   |     -      |     -     |   2.23   \n",
      "   2    |   370   |   0.485765   |     -      |     -     |   2.22   \n",
      "   2    |   380   |   0.483076   |     -      |     -     |   2.24   \n",
      "   2    |   390   |   0.480890   |     -      |     -     |   2.20   \n",
      "   2    |   400   |   0.510721   |     -      |     -     |   2.23   \n",
      "   2    |   405   |   0.452901   |     -      |     -     |   1.10   \n",
      "----------------------------------------------------------------------\n",
      "   2    |    -    |   0.488442   |  0.545786  |   78.32   |   92.73  \n",
      "----------------------------------------------------------------------\n",
      "\n",
      "\n",
      "Training complete. Best result: 78.31578144078144 | epoch 1.\n"
     ]
    }
   ],
   "source": [
    "set_seed(SEED)\n",
    "loss_fn = nn.CrossEntropyLoss()\n",
    "transformer_classifier, optimizer, scheduler = initialize_model(MODEL_CLASS, MODEL_NAME, \n",
    "                                                                MODEL_LAYERS, MODEL_DROPOUT_LAYERS,\n",
    "                                                                len(train_dataloader), epochs=EPOCHS, \n",
    "                                                                freeze=FREEZE, learning_rate=LEARNING_RATE)\n",
    "\n",
    "execution_params = {\n",
    "    'model_class':MODEL_CLASS,\n",
    "    'model_tokenizer': MODEL_TOKENIZER,\n",
    "    'model_name': MODEL_NAME,\n",
    "    'model_layers': MODEL_LAYERS,\n",
    "    'model_dropout_layers': MODEL_DROPOUT_LAYERS,\n",
    "    'freeze': FREEZE,\n",
    "    'learning_rate': LEARNING_RATE,\n",
    "    'batch_size': BATCH_SIZE,\n",
    "    'epochs': EPOCHS,\n",
    "    'model_definition': transformer_classifier.classifier,\n",
    "    'scheduler': scheduler,\n",
    "    'optimizer': optimizer,\n",
    "    'seed': SEED,\n",
    "    'device': get_device()\n",
    "}\n",
    "\n",
    "\n",
    "with mlflow.start_run(run_name=EXPERIMENT_RUN_NAME, experiment_id=EXPERIMENT_ID) as main_run:\n",
    "\n",
    "    start_time = time.time()\n",
    "    transformer_classifier, train_history = train(transformer_classifier, loss_fn, optimizer, scheduler, train_dataloader, \n",
    "                                                  test_dataloader, epochs=EPOCHS, evaluation=True)\n",
    "    training_time = time.time() - start_time\n",
    "\n",
    "    probs = predict(transformer_classifier, test_dataloader)\n",
    "\n",
    "    eval_metric = metrics.f1_score(y_test, probs.argmax(axis=1), average=None)\n",
    "    global_eval_metric = metrics.f1_score(y_test, probs.argmax(axis=1), average='micro')\n",
    "\n",
    "    shutil.rmtree(settings.LOGS_ARTIFACTS_PATH)\n",
    "    os.makedirs(settings.LOGS_ARTIFACTS_PATH) \n",
    "\n",
    "    mlflow.pytorch.log_model(transformer_classifier, \"model\")\n",
    "    mlflow.log_metric('training_time', training_time)\n",
    "\n",
    "    simple_preprocessing_params, complex_preprocessing_params = format_nested_parameters(preprocessing_params, 'preprocessing')\n",
    "    mlflow.log_params(simple_preprocessing_params)\n",
    "\n",
    "    simple_execution_params, complex_execution_params = format_nested_parameters(execution_params, 'execution')\n",
    "    mlflow.log_params(simple_execution_params)\n",
    "\n",
    "    mlflow.log_param('X_training', X_train.shape)\n",
    "    mlflow.log_param('X_test', X_test.shape)    \n",
    "\n",
    "    evaluation_summary_frame = (pd.DataFrame([eval_metric], columns=['F1-Neg', 'F1-Neu', 'F1-Pos'])\n",
    "                                .assign(F1=global_eval_metric)\n",
    "                                [['F1-Pos', 'F1-Neu', 'F1-Neg', 'F1']]\n",
    "                               )\n",
    "    for ix, metric in enumerate(['F1-Neg', 'F1-Neu', 'F1-Pos', 'F1']):\n",
    "        mlflow.log_metric(metric, evaluation_summary_frame.loc[0][metric])\n",
    "\n",
    "    evaluation_summary_frame.to_csv(f'{settings.LOGS_ARTIFACTS_PATH}/experiment_runs_summary.csv')\n",
    "    evaluation_summary_frame.to_html(f'{settings.LOGS_ARTIFACTS_PATH}/experiment_runs_summary.html')\n",
    "\n",
    "    train_history_frame = pd.DataFrame(train_history)\n",
    "    train_history_frame.to_csv(f'{settings.LOGS_ARTIFACTS_PATH}/experiment_train_history.csv')\n",
    "    train_history_frame.to_html(f'{settings.LOGS_ARTIFACTS_PATH}/experiment_train_history.html')\n",
    "\n",
    "    for param_name, param_value in {**complex_preprocessing_params, **complex_execution_params}.items():\n",
    "        with open(f'{settings.LOGS_ARTIFACTS_PATH}/{param_name}.txt', 'w') as file:\n",
    "            file.write(param_value)\n",
    "\n",
    "    mlflow.log_artifact(settings.LOGS_ARTIFACTS_PATH)\n",
    "\n",
    "    del train_inputs, train_masks, train_data, train_labels, train_sampler, train_dataloader\n",
    "    del test_inputs, test_masks, test_data, test_labels, test_sampler, test_dataloader\n",
    "    del optimizer, scheduler, loss_fn\n",
    "    del transformer_classifier, tokenizer, token_ids, probs\n",
    "    del execution_params, preprocessing_params\n",
    "    del MODEL_CLASS, MODEL_TOKENIZER\n",
    "\n",
    "    torch.cuda.empty_cache()\n",
    "    torch.cuda.synchronize()\n",
    "    gc.collect()"
   ]
  },
  {
   "cell_type": "markdown",
   "metadata": {
    "id": "D5ostg9kPlra"
   },
   "source": [
    "## Experiments Results"
   ]
  },
  {
   "cell_type": "code",
   "execution_count": 15,
   "metadata": {},
   "outputs": [
    {
     "data": {
      "text/html": [
       "<h3>Test</h3>"
      ],
      "text/plain": [
       "<IPython.core.display.HTML object>"
      ]
     },
     "metadata": {},
     "output_type": "display_data"
    },
    {
     "data": {
      "text/html": [
       "<div>\n",
       "<style scoped>\n",
       "    .dataframe tbody tr th:only-of-type {\n",
       "        vertical-align: middle;\n",
       "    }\n",
       "\n",
       "    .dataframe tbody tr th {\n",
       "        vertical-align: top;\n",
       "    }\n",
       "\n",
       "    .dataframe thead th {\n",
       "        text-align: right;\n",
       "    }\n",
       "</style>\n",
       "<table border=\"1\" class=\"dataframe\">\n",
       "  <thead>\n",
       "    <tr style=\"text-align: right;\">\n",
       "      <th></th>\n",
       "      <th>F1-Pos</th>\n",
       "      <th>F1-Neu</th>\n",
       "      <th>F1-Neg</th>\n",
       "      <th>F1</th>\n",
       "    </tr>\n",
       "  </thead>\n",
       "  <tbody>\n",
       "    <tr>\n",
       "      <th>0</th>\n",
       "      <td>0.854673</td>\n",
       "      <td>0.658052</td>\n",
       "      <td>0.7773</td>\n",
       "      <td>0.783085</td>\n",
       "    </tr>\n",
       "  </tbody>\n",
       "</table>\n",
       "</div>"
      ],
      "text/plain": [
       "     F1-Pos    F1-Neu  F1-Neg        F1\n",
       "0  0.854673  0.658052  0.7773  0.783085"
      ]
     },
     "metadata": {},
     "output_type": "display_data"
    }
   ],
   "source": [
    "display(HTML('<h3>Test</h3>'))\n",
    "display(evaluation_summary_frame)"
   ]
  }
 ],
 "metadata": {
  "accelerator": "GPU",
  "colab": {
   "collapsed_sections": [],
   "name": "Porcamente Adaptado de  BERT-for-Sentiment-Analysis.ipynb",
   "provenance": [
    {
     "file_id": "1f32gj5IYIyFipoINiC8P3DvKat-WWLUK",
     "timestamp": 1604420331516
    }
   ],
   "toc_visible": true
  },
  "kernelspec": {
   "display_name": "Python 3",
   "language": "python",
   "name": "python3"
  },
  "language_info": {
   "codemirror_mode": {
    "name": "ipython",
    "version": 3
   },
   "file_extension": ".py",
   "mimetype": "text/x-python",
   "name": "python",
   "nbconvert_exporter": "python",
   "pygments_lexer": "ipython3",
   "version": "3.8.5"
  }
 },
 "nbformat": 4,
 "nbformat_minor": 4
}
