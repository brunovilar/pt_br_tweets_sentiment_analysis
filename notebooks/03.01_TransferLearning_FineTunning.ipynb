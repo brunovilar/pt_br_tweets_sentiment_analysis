{
 "cells": [
  {
   "cell_type": "markdown",
   "metadata": {
    "id": "sqg4y371CM7X"
   },
   "source": [
    "# Experiments - Fine tune Bert\n",
    "\n",
    "The goal of this notebook is use [Building a Sentiment Corpus of Tweets in Brazilian Portuguese](https://arxiv.org/abs/1712.08917)."
   ]
  },
  {
   "cell_type": "markdown",
   "metadata": {
    "id": "31OW0dhozvli"
   },
   "source": [
    "## Libraries and Settings"
   ]
  },
  {
   "cell_type": "markdown",
   "metadata": {},
   "source": [
    "Thirdy party libraries"
   ]
  },
  {
   "cell_type": "code",
   "execution_count": 1,
   "metadata": {},
   "outputs": [],
   "source": [
    "# General\n",
    "import os\n",
    "import gc\n",
    "import sys\n",
    "import time\n",
    "import funcy as fp\n",
    "import numpy as np\n",
    "import pandas as pd\n",
    "\n",
    "# Visualization / Presentation\n",
    "from tqdm.notebook import tqdm\n",
    "import matplotlib.pyplot as plt\n",
    "from IPython.core.display import HTML, display\n",
    "\n",
    "# Model Training and Evaluation\n",
    "import mlflow\n",
    "import torch\n",
    "import torch.nn as nn\n",
    "import torchvision\n",
    "from torch.utils.data import TensorDataset, DataLoader, RandomSampler, SequentialSampler\n",
    "from torch.cuda.amp import GradScaler, autocast\n",
    "from sklearn import metrics"
   ]
  },
  {
   "cell_type": "markdown",
   "metadata": {},
   "source": [
    "Internal libraries"
   ]
  },
  {
   "cell_type": "code",
   "execution_count": 2,
   "metadata": {},
   "outputs": [],
   "source": [
    "sys.path.append(os.path.abspath(os.path.pardir))\n",
    "\n",
    "from src import settings\n",
    "from src.pipeline.resources import load_corpus\n",
    "from src.models.transformer import preprocess, initialize_model, set_seed, get_device, evaluate, predict\n",
    "from src.utils import format_nested_parameters"
   ]
  },
  {
   "cell_type": "markdown",
   "metadata": {},
   "source": [
    "Presentation settings"
   ]
  },
  {
   "cell_type": "code",
   "execution_count": 3,
   "metadata": {},
   "outputs": [],
   "source": [
    "%matplotlib inline \n",
    "pd.set_option('max_colwidth', 150)"
   ]
  },
  {
   "cell_type": "markdown",
   "metadata": {},
   "source": [
    "Experiment settings"
   ]
  },
  {
   "cell_type": "code",
   "execution_count": 4,
   "metadata": {},
   "outputs": [],
   "source": [
    "EXPERIMENT_ID = 3\n",
    "EXPERIMENT_RUN_NAME = f'03_TransferLearning-FineTuning-FlexibleLayers'"
   ]
  },
  {
   "cell_type": "markdown",
   "metadata": {
    "id": "u07WRKnxsX96"
   },
   "source": [
    "## Load and Prepare Dataset"
   ]
  },
  {
   "cell_type": "code",
   "execution_count": 5,
   "metadata": {
    "executionInfo": {
     "elapsed": 3880,
     "status": "ok",
     "timestamp": 1604425976287,
     "user": {
      "displayName": "Bruno Vilar",
      "photoUrl": "https://lh3.googleusercontent.com/a-/AOh14GitnJqA4yg0YW7lBxpd6Acfxpcpe2vurX_VBhN1Kw=s64",
      "userId": "12191660000722192802"
     },
     "user_tz": 180
    },
    "id": "q0wnL46x_u-D"
   },
   "outputs": [],
   "source": [
    "frame = load_corpus()"
   ]
  },
  {
   "cell_type": "code",
   "execution_count": 6,
   "metadata": {
    "colab": {
     "base_uri": "https://localhost:8080/",
     "height": 677
    },
    "executionInfo": {
     "elapsed": 3840,
     "status": "ok",
     "timestamp": 1604425976317,
     "user": {
      "displayName": "Bruno Vilar",
      "photoUrl": "https://lh3.googleusercontent.com/a-/AOh14GitnJqA4yg0YW7lBxpd6Acfxpcpe2vurX_VBhN1Kw=s64",
      "userId": "12191660000722192802"
     },
     "user_tz": 180
    },
    "id": "79T-9rhG_3NN",
    "outputId": "27e068ef-545e-40d4-9c95-8578ca2e224f"
   },
   "outputs": [
    {
     "data": {
      "text/html": [
       "<div>\n",
       "<style scoped>\n",
       "    .dataframe tbody tr th:only-of-type {\n",
       "        vertical-align: middle;\n",
       "    }\n",
       "\n",
       "    .dataframe tbody tr th {\n",
       "        vertical-align: top;\n",
       "    }\n",
       "\n",
       "    .dataframe thead th {\n",
       "        text-align: right;\n",
       "    }\n",
       "</style>\n",
       "<table border=\"1\" class=\"dataframe\">\n",
       "  <thead>\n",
       "    <tr style=\"text-align: right;\">\n",
       "      <th></th>\n",
       "      <th>text</th>\n",
       "      <th>label</th>\n",
       "      <th>group</th>\n",
       "    </tr>\n",
       "  </thead>\n",
       "  <tbody>\n",
       "    <tr>\n",
       "      <th>12142</th>\n",
       "      <td>eu não gosto muito da música / ritmo das irmãs galvão MAS ELAS SÃO MARAVILHOSAS !</td>\n",
       "      <td>2.0</td>\n",
       "      <td>train</td>\n",
       "    </tr>\n",
       "    <tr>\n",
       "      <th>5910</th>\n",
       "      <td>já pensou ter uma edição do com ex participantes tipo o #AllStars do #DragRace aaa</td>\n",
       "      <td>2.0</td>\n",
       "      <td>train</td>\n",
       "    </tr>\n",
       "    <tr>\n",
       "      <th>5664</th>\n",
       "      <td>minha vó teve NUMBER filhos é perdeu 2gravidez gente demais meu povo</td>\n",
       "      <td>2.0</td>\n",
       "      <td>train</td>\n",
       "    </tr>\n",
       "    <tr>\n",
       "      <th>44</th>\n",
       "      <td>tchau victor B É obvio que vc vai sair #MasterChefBR</td>\n",
       "      <td>1.0</td>\n",
       "      <td>test</td>\n",
       "    </tr>\n",
       "    <tr>\n",
       "      <th>11991</th>\n",
       "      <td>depois que é ungido por deus derruba até satanás 🎵</td>\n",
       "      <td>1.0</td>\n",
       "      <td>test</td>\n",
       "    </tr>\n",
       "    <tr>\n",
       "      <th>12474</th>\n",
       "      <td>sigo e indico #SextaDetremuraSDV</td>\n",
       "      <td>2.0</td>\n",
       "      <td>train</td>\n",
       "    </tr>\n",
       "  </tbody>\n",
       "</table>\n",
       "</div>"
      ],
      "text/plain": [
       "                                                                                     text  \\\n",
       "12142   eu não gosto muito da música / ritmo das irmãs galvão MAS ELAS SÃO MARAVILHOSAS !   \n",
       "5910   já pensou ter uma edição do com ex participantes tipo o #AllStars do #DragRace aaa   \n",
       "5664                 minha vó teve NUMBER filhos é perdeu 2gravidez gente demais meu povo   \n",
       "44                                   tchau victor B É obvio que vc vai sair #MasterChefBR   \n",
       "11991                                  depois que é ungido por deus derruba até satanás 🎵   \n",
       "12474                                                    sigo e indico #SextaDetremuraSDV   \n",
       "\n",
       "       label  group  \n",
       "12142    2.0  train  \n",
       "5910     2.0  train  \n",
       "5664     2.0  train  \n",
       "44       1.0   test  \n",
       "11991    1.0   test  \n",
       "12474    2.0  train  "
      ]
     },
     "execution_count": 6,
     "metadata": {},
     "output_type": "execute_result"
    }
   ],
   "source": [
    "frame = (frame\n",
    "         .assign(label=lambda f: f['sentiment'].map({'-1': 0, '0':1, '1': 2}))\n",
    "         [['text', 'label', 'group']]\n",
    "        )\n",
    "frame.sample(6)"
   ]
  },
  {
   "cell_type": "code",
   "execution_count": 7,
   "metadata": {
    "colab": {
     "base_uri": "https://localhost:8080/"
    },
    "executionInfo": {
     "elapsed": 3829,
     "status": "ok",
     "timestamp": 1604425976319,
     "user": {
      "displayName": "Bruno Vilar",
      "photoUrl": "https://lh3.googleusercontent.com/a-/AOh14GitnJqA4yg0YW7lBxpd6Acfxpcpe2vurX_VBhN1Kw=s64",
      "userId": "12191660000722192802"
     },
     "user_tz": 180
    },
    "id": "X4HKAFTbvMwI",
    "outputId": "d0415abd-ea6e-4b49-b279-2dcc0e96ec62"
   },
   "outputs": [
    {
     "name": "stdout",
     "output_type": "stream",
     "text": [
      "Train: 12990 | Test: 2010\n"
     ]
    }
   ],
   "source": [
    "train_frame = frame.loc[lambda f: f['group'] == 'train']\n",
    "test_frame = frame.loc[lambda f: f['group'] == 'test']\n",
    "del frame\n",
    "\n",
    "X_test = test_frame.text.values\n",
    "y_test = test_frame.label.values\n",
    "\n",
    "X_train = train_frame.text.values\n",
    "y_train = train_frame.label.values\n",
    "\n",
    "print(f'Train: {len(X_train)} | Test: {len(X_test)}')"
   ]
  },
  {
   "cell_type": "markdown",
   "metadata": {
    "id": "X79dYY3sxDCi"
   },
   "source": [
    "## Check GPU Availability"
   ]
  },
  {
   "cell_type": "code",
   "execution_count": 8,
   "metadata": {
    "colab": {
     "base_uri": "https://localhost:8080/"
    },
    "executionInfo": {
     "elapsed": 3820,
     "status": "ok",
     "timestamp": 1604425976320,
     "user": {
      "displayName": "Bruno Vilar",
      "photoUrl": "https://lh3.googleusercontent.com/a-/AOh14GitnJqA4yg0YW7lBxpd6Acfxpcpe2vurX_VBhN1Kw=s64",
      "userId": "12191660000722192802"
     },
     "user_tz": 180
    },
    "id": "K7hxtI4l0SUJ",
    "outputId": "a4fdb62b-3287-4cf9-ab21-585ccda36811"
   },
   "outputs": [
    {
     "name": "stdout",
     "output_type": "stream",
     "text": [
      "GPU(s) available: 1. Device name: GeForce RTX 2060\n"
     ]
    }
   ],
   "source": [
    "if torch.cuda.is_available():\n",
    "    print(f'GPU(s) available: {torch.cuda.device_count()}. Device name: {torch.cuda.get_device_name(0)}')\n",
    "else:\n",
    "    print('Using the CPU.')"
   ]
  },
  {
   "cell_type": "markdown",
   "metadata": {
    "id": "lEPPYHa62JXF"
   },
   "source": [
    "## Fine Tuning Model\n",
    "\n",
    "### Define Parameters and Settings"
   ]
  },
  {
   "cell_type": "code",
   "execution_count": 9,
   "metadata": {},
   "outputs": [],
   "source": [
    "from transformers import BertModel,  BertTokenizer\n",
    "MODEL_CLASS = BertModel\n",
    "MODEL_TOKENIZER = BertTokenizer\n",
    "MODEL_NAME = 'neuralmind/bert-base-portuguese-cased'\n",
    "#MODEL_NAME = 'neuralmind/bert-large-portuguese-cased'\n",
    "\n",
    "MODEL_LAYERS = [128]\n",
    "MODEL_DROPOUT_LAYERS = []\n",
    "\n",
    "\"\"\"\n",
    "from transformers import RobertaModel, RobertaTokenizer\n",
    "MODEL_CLASS = RobertaModel\n",
    "MODEL_TOKENIZER = RobertaTokenizer\n",
    "MODEL_NAME = 'rdenadai/BR_BERTo'\n",
    "\"\"\"\n",
    "\n",
    "tokenizer = MODEL_TOKENIZER.from_pretrained(MODEL_NAME, do_lower_case=True)\n",
    "\n",
    "# For fine-tuning BERT, the authors recommend a batch size of 16 or 32.\n",
    "FREEZE = False\n",
    "BATCH_SIZE = 32\n",
    "EPOCHS = 5\n",
    "SEED = 42"
   ]
  },
  {
   "cell_type": "markdown",
   "metadata": {
    "id": "TNE9oASMZ1bN"
   },
   "source": [
    "Encode all sentences to get the maximum length."
   ]
  },
  {
   "cell_type": "code",
   "execution_count": 10,
   "metadata": {
    "colab": {
     "base_uri": "https://localhost:8080/"
    },
    "executionInfo": {
     "elapsed": 29513,
     "status": "ok",
     "timestamp": 1604426002286,
     "user": {
      "displayName": "Bruno Vilar",
      "photoUrl": "https://lh3.googleusercontent.com/a-/AOh14GitnJqA4yg0YW7lBxpd6Acfxpcpe2vurX_VBhN1Kw=s64",
      "userId": "12191660000722192802"
     },
     "user_tz": 180
    },
    "id": "hrbvKGNAlMtt",
    "outputId": "38087981-c897-4f40-ad58-b50c21c2003f"
   },
   "outputs": [],
   "source": [
    "all_tweets = np.concatenate([train_frame.text.values, test_frame.text.values])\n",
    "encoded_tweets = [tokenizer.encode(sent, add_special_tokens=True) for sent in all_tweets]\n",
    "max_len = max([len(sent) for sent in encoded_tweets])\n",
    "del encoded_tweets"
   ]
  },
  {
   "cell_type": "markdown",
   "metadata": {
    "id": "vpdjBB9fmbu2"
   },
   "source": [
    "Preprocess and tokenize data."
   ]
  },
  {
   "cell_type": "code",
   "execution_count": 11,
   "metadata": {
    "colab": {
     "base_uri": "https://localhost:8080/"
    },
    "executionInfo": {
     "elapsed": 31755,
     "status": "ok",
     "timestamp": 1604426004546,
     "user": {
      "displayName": "Bruno Vilar",
      "photoUrl": "https://lh3.googleusercontent.com/a-/AOh14GitnJqA4yg0YW7lBxpd6Acfxpcpe2vurX_VBhN1Kw=s64",
      "userId": "12191660000722192802"
     },
     "user_tz": 180
    },
    "id": "QTlQzTzAfCy7",
    "outputId": "cb02b1ce-0861-46c4-8c33-60fe5017e06c"
   },
   "outputs": [
    {
     "name": "stdout",
     "output_type": "stream",
     "text": [
      "Original:  apareceu o índice de morte na minha cidade tô muito assustado #BelemPedePaz\n",
      "Token IDs:  [101, 4169, 146, 2884, 22279, 125, 1386, 229, 7122, 651, 374, 785, 17154, 487, 607, 2921, 168, 316, 22293, 102, 0, 0, 0, 0, 0, 0, 0, 0, 0, 0, 0, 0, 0, 0, 0, 0, 0, 0, 0, 0, 0, 0, 0, 0, 0, 0, 0, 0, 0, 0, 0, 0, 0, 0, 0, 0, 0, 0, 0]\n"
     ]
    }
   ],
   "source": [
    "preprocessing_params = {\n",
    "    'tokenizer': tokenizer, \n",
    "    'max_len': max_len,\n",
    "    'unify_html_tags': True,\n",
    "    'unify_urls': True, \n",
    "    'trim_repeating_spaces': True,\n",
    "    'unify_hashtags': True, \n",
    "    'unify_mentions': True,\n",
    "    'unify_numbers': False, \n",
    "    'trim_repeating_letters': True\n",
    "}\n",
    "\n",
    "# Encode the first dataset sentence and show Token IDs\n",
    "token_ids = list(preprocess([X_train[0]], **preprocessing_params)[0].squeeze().numpy())\n",
    "print('Original: ', X_train[0])\n",
    "print('Token IDs: ', token_ids)\n",
    "\n",
    "# Run function `preprocessing_for_bert` on the train set and the validation set\n",
    "train_inputs, train_masks = preprocess(X_train, **preprocessing_params)\n",
    "test_inputs, test_masks = preprocess(X_test, **preprocessing_params)"
   ]
  },
  {
   "cell_type": "markdown",
   "metadata": {
    "id": "aZU8t5VNfvhY"
   },
   "source": [
    "### Create PyTorch DataLoaders for Train and Test Datasets"
   ]
  },
  {
   "cell_type": "code",
   "execution_count": 12,
   "metadata": {
    "executionInfo": {
     "elapsed": 31751,
     "status": "ok",
     "timestamp": 1604426004553,
     "user": {
      "displayName": "Bruno Vilar",
      "photoUrl": "https://lh3.googleusercontent.com/a-/AOh14GitnJqA4yg0YW7lBxpd6Acfxpcpe2vurX_VBhN1Kw=s64",
      "userId": "12191660000722192802"
     },
     "user_tz": 180
    },
    "id": "xHuYEc61gcGL"
   },
   "outputs": [],
   "source": [
    "train_labels = torch.tensor(y_train, dtype=torch.int64)\n",
    "test_labels = torch.tensor(y_test, dtype=torch.int64)\n",
    "\n",
    "train_data = TensorDataset(train_inputs, train_masks, train_labels)\n",
    "train_sampler = RandomSampler(train_data)\n",
    "train_dataloader = DataLoader(train_data, sampler=train_sampler, batch_size=BATCH_SIZE)\n",
    "\n",
    "test_data = TensorDataset(test_inputs, test_masks, test_labels)\n",
    "test_sampler = SequentialSampler(test_data)\n",
    "test_dataloader = DataLoader(test_data, sampler=test_sampler, batch_size=BATCH_SIZE)"
   ]
  },
  {
   "cell_type": "markdown",
   "metadata": {
    "id": "SSRAga-yj17q"
   },
   "source": [
    "## Train\n",
    "\n",
    "Define the training function."
   ]
  },
  {
   "cell_type": "code",
   "execution_count": 13,
   "metadata": {
    "executionInfo": {
     "elapsed": 31716,
     "status": "ok",
     "timestamp": 1604426004559,
     "user": {
      "displayName": "Bruno Vilar",
      "photoUrl": "https://lh3.googleusercontent.com/a-/AOh14GitnJqA4yg0YW7lBxpd6Acfxpcpe2vurX_VBhN1Kw=s64",
      "userId": "12191660000722192802"
     },
     "user_tz": 180
    },
    "id": "Xy4HkhyECibW"
   },
   "outputs": [],
   "source": [
    "def train(model, loss_fn, optimizer, scheduler, train_dataloader, val_dataloader=None, epochs=4, evaluation=False):\n",
    "    \n",
    "    best_eval = 0.\n",
    "    best_epoch = -1.\n",
    "    best_model_state = None\n",
    "    \n",
    "    scaler = GradScaler()\n",
    "\n",
    "    for epoch_i in range(epochs):\n",
    "        # =======================================\n",
    "        #               Training\n",
    "        # =======================================\n",
    "        print(f\"{'Epoch':^7} | {'Batch':^7} | {'Train Loss':^12} | {'Val Loss':^10} | {'Val F1':^9} | {'Elapsed':^9}\")\n",
    "        print(\"-\" * 70)\n",
    "\n",
    "        t0_epoch, t0_batch = time.time(), time.time()\n",
    "        total_loss, batch_loss, batch_counts = 0, 0, 0\n",
    "        model.train()\n",
    "\n",
    "        for step, batch in enumerate(train_dataloader):\n",
    "            batch_counts += 1\n",
    "            b_input_ids, b_attn_mask, b_labels = tuple(t.to(get_device()) for t in batch)\n",
    "\n",
    "            model.zero_grad()\n",
    "\n",
    "            with autocast():\n",
    "                logits = model(b_input_ids, b_attn_mask)\n",
    "                loss = loss_fn(logits, b_labels)\n",
    "                batch_loss += loss.item()\n",
    "                total_loss += loss.item()\n",
    "\n",
    "            scaler.scale(loss).backward()\n",
    "\n",
    "            torch.nn.utils.clip_grad_norm_(model.parameters(), 1.0)  # Clip the norm of the gradients to 1.0\n",
    "\n",
    "            scaler.step(optimizer)\n",
    "            scheduler.step()\n",
    "            scaler.update()\n",
    "\n",
    "            # Print the loss values and time elapsed for every 20 batches\n",
    "            if (step % 20 == 0 and step != 0) or (step == len(train_dataloader) - 1):\n",
    "                time_elapsed = time.time() - t0_batch\n",
    "                print(f\"{epoch_i + 1:^7} | {step:^7} | {batch_loss / batch_counts:^12.6f} | {'-':^10} | {'-':^9} | {time_elapsed:^9.2f}\")\n",
    "\n",
    "                batch_loss, batch_counts = 0, 0\n",
    "                t0_batch = time.time()\n",
    "\n",
    "        avg_train_loss = total_loss / len(train_dataloader)\n",
    "\n",
    "        print(\"-\" * 70)\n",
    "        # =======================================\n",
    "        #               Evaluation\n",
    "        # =======================================\n",
    "        if evaluation == True:\n",
    "            val_loss, val_f1 = evaluate(model, val_dataloader, loss_fn)\n",
    "            time_elapsed = time.time() - t0_epoch\n",
    "            print(f\"{epoch_i + 1:^7} | {'-':^7} | {avg_train_loss:^12.6f} | {val_loss:^10.6f} | {val_f1:^9.2f} | {time_elapsed:^9.2f}\")\n",
    "            print(\"-\" * 70)\n",
    "            if val_f1 > best_eval:\n",
    "                best_eval = val_f1\n",
    "                #best_model_state = model.state_dict()\n",
    "                best_epoch = epoch_i\n",
    "                torch.save(model.state_dict(), '../artifacts/models/best-model-parameters.pt')\n",
    "\n",
    "        print(\"\\n\")\n",
    "\n",
    "    print(f\"Training complete. Best result: {best_eval} | epoch {best_epoch}.\")\n",
    "    model.load_state_dict(torch.load('../artifacts/models/best-model-parameters.pt'))\n",
    "    return model"
   ]
  },
  {
   "cell_type": "markdown",
   "metadata": {
    "id": "BSfTy9LqiFD-"
   },
   "source": [
    "Training process."
   ]
  },
  {
   "cell_type": "code",
   "execution_count": 14,
   "metadata": {
    "colab": {
     "base_uri": "https://localhost:8080/"
    },
    "executionInfo": {
     "elapsed": 150245,
     "status": "ok",
     "timestamp": 1604426123094,
     "user": {
      "displayName": "Bruno Vilar",
      "photoUrl": "https://lh3.googleusercontent.com/a-/AOh14GitnJqA4yg0YW7lBxpd6Acfxpcpe2vurX_VBhN1Kw=s64",
      "userId": "12191660000722192802"
     },
     "user_tz": 180
    },
    "id": "wfYw7dJ0U0v6",
    "outputId": "7d9edb7f-d820-49d7-aec4-fd2099916696"
   },
   "outputs": [
    {
     "name": "stdout",
     "output_type": "stream",
     "text": [
      " Epoch  |  Batch  |  Train Loss  |  Val Loss  |  Val F1   |  Elapsed \n",
      "----------------------------------------------------------------------\n"
     ]
    },
    {
     "name": "stderr",
     "output_type": "stream",
     "text": [
      "/media/bruno/f331903b-17cb-447b-b132-e6f1f08f80f8/Development/02_TwitterBR_SentimentAnalysis/venv/lib/python3.8/site-packages/transformers/optimization.py:155: UserWarning: This overload of add_ is deprecated:\n",
      "\tadd_(Number alpha, Tensor other)\n",
      "Consider using one of the following signatures instead:\n",
      "\tadd_(Tensor other, *, Number alpha) (Triggered internally at  /pytorch/torch/csrc/utils/python_arg_parser.cpp:882.)\n",
      "  exp_avg.mul_(beta1).add_(1.0 - beta1, grad)\n"
     ]
    },
    {
     "name": "stdout",
     "output_type": "stream",
     "text": [
      "   1    |   20    |   4.870388   |     -      |     -     |   2.99   \n",
      "   1    |   40    |   4.588760   |     -      |     -     |   2.84   \n",
      "   1    |   60    |   3.847714   |     -      |     -     |   2.82   \n",
      "   1    |   80    |   2.542645   |     -      |     -     |   2.84   \n",
      "   1    |   100   |   1.640136   |     -      |     -     |   2.83   \n",
      "   1    |   120   |   1.306895   |     -      |     -     |   2.82   \n",
      "   1    |   140   |   1.176634   |     -      |     -     |   2.85   \n",
      "   1    |   160   |   1.063802   |     -      |     -     |   2.83   \n",
      "   1    |   180   |   1.012398   |     -      |     -     |   2.83   \n",
      "   1    |   200   |   0.915060   |     -      |     -     |   2.84   \n",
      "   1    |   220   |   0.860459   |     -      |     -     |   2.83   \n",
      "   1    |   240   |   0.812389   |     -      |     -     |   2.85   \n",
      "   1    |   260   |   0.819383   |     -      |     -     |   2.85   \n",
      "   1    |   280   |   0.851497   |     -      |     -     |   2.83   \n",
      "   1    |   300   |   0.777325   |     -      |     -     |   2.84   \n",
      "   1    |   320   |   0.779504   |     -      |     -     |   2.85   \n",
      "   1    |   340   |   0.751835   |     -      |     -     |   2.85   \n",
      "   1    |   360   |   0.791039   |     -      |     -     |   2.85   \n",
      "   1    |   380   |   0.803708   |     -      |     -     |   2.85   \n",
      "   1    |   400   |   0.786293   |     -      |     -     |   2.86   \n",
      "   1    |   405   |   0.737941   |     -      |     -     |   0.77   \n",
      "----------------------------------------------------------------------\n",
      "   1    |    -    |   1.548072   |  0.652443  |   72.54   |   62.76  \n",
      "----------------------------------------------------------------------\n",
      "\n",
      "\n",
      " Epoch  |  Batch  |  Train Loss  |  Val Loss  |  Val F1   |  Elapsed \n",
      "----------------------------------------------------------------------\n",
      "   2    |   20    |   0.738658   |     -      |     -     |   2.99   \n",
      "   2    |   40    |   0.724032   |     -      |     -     |   2.86   \n",
      "   2    |   60    |   0.706057   |     -      |     -     |   2.88   \n",
      "   2    |   80    |   0.706158   |     -      |     -     |   2.87   \n",
      "   2    |   100   |   0.700569   |     -      |     -     |   2.88   \n",
      "   2    |   120   |   0.663726   |     -      |     -     |   2.89   \n",
      "   2    |   140   |   0.679539   |     -      |     -     |   2.87   \n",
      "   2    |   160   |   0.699211   |     -      |     -     |   2.87   \n",
      "   2    |   180   |   0.760962   |     -      |     -     |   2.85   \n",
      "   2    |   200   |   0.672738   |     -      |     -     |   2.87   \n",
      "   2    |   220   |   0.655574   |     -      |     -     |   2.86   \n",
      "   2    |   240   |   0.737505   |     -      |     -     |   2.84   \n",
      "   2    |   260   |   0.679468   |     -      |     -     |   2.87   \n",
      "   2    |   280   |   0.673702   |     -      |     -     |   2.86   \n",
      "   2    |   300   |   0.685051   |     -      |     -     |   2.85   \n",
      "   2    |   320   |   0.668393   |     -      |     -     |   2.86   \n",
      "   2    |   340   |   0.718865   |     -      |     -     |   2.88   \n",
      "   2    |   360   |   0.683674   |     -      |     -     |   2.86   \n",
      "   2    |   380   |   0.676826   |     -      |     -     |   2.86   \n",
      "   2    |   400   |   0.702303   |     -      |     -     |   2.87   \n",
      "   2    |   405   |   0.551704   |     -      |     -     |   0.75   \n",
      "----------------------------------------------------------------------\n",
      "   2    |    -    |   0.694969   |  0.598122  |   74.63   |   63.22  \n",
      "----------------------------------------------------------------------\n",
      "\n",
      "\n",
      " Epoch  |  Batch  |  Train Loss  |  Val Loss  |  Val F1   |  Elapsed \n",
      "----------------------------------------------------------------------\n",
      "   3    |   20    |   0.607004   |     -      |     -     |   2.97   \n",
      "   3    |   40    |   0.608752   |     -      |     -     |   2.82   \n",
      "   3    |   60    |   0.594293   |     -      |     -     |   2.81   \n",
      "   3    |   80    |   0.619765   |     -      |     -     |   2.82   \n",
      "   3    |   100   |   0.564429   |     -      |     -     |   2.84   \n",
      "   3    |   120   |   0.610723   |     -      |     -     |   2.83   \n",
      "   3    |   140   |   0.572362   |     -      |     -     |   2.83   \n",
      "   3    |   160   |   0.627540   |     -      |     -     |   2.83   \n",
      "   3    |   180   |   0.607376   |     -      |     -     |   2.84   \n",
      "   3    |   200   |   0.638811   |     -      |     -     |   2.84   \n",
      "   3    |   220   |   0.573505   |     -      |     -     |   2.84   \n",
      "   3    |   240   |   0.600327   |     -      |     -     |   2.84   \n",
      "   3    |   260   |   0.610540   |     -      |     -     |   2.85   \n",
      "   3    |   280   |   0.575590   |     -      |     -     |   2.85   \n",
      "   3    |   300   |   0.613947   |     -      |     -     |   2.85   \n",
      "   3    |   320   |   0.619208   |     -      |     -     |   2.88   \n",
      "   3    |   340   |   0.552999   |     -      |     -     |   2.90   \n",
      "   3    |   360   |   0.590841   |     -      |     -     |   2.89   \n",
      "   3    |   380   |   0.659982   |     -      |     -     |   2.86   \n",
      "   3    |   400   |   0.583941   |     -      |     -     |   2.85   \n",
      "   3    |   405   |   0.590994   |     -      |     -     |   0.75   \n",
      "----------------------------------------------------------------------\n",
      "   3    |    -    |   0.601479   |  0.591772  |   75.29   |   63.04  \n",
      "----------------------------------------------------------------------\n",
      "\n",
      "\n",
      " Epoch  |  Batch  |  Train Loss  |  Val Loss  |  Val F1   |  Elapsed \n",
      "----------------------------------------------------------------------\n",
      "   4    |   20    |   0.520711   |     -      |     -     |   3.23   \n",
      "   4    |   40    |   0.531201   |     -      |     -     |   3.02   \n",
      "   4    |   60    |   0.537291   |     -      |     -     |   2.90   \n",
      "   4    |   80    |   0.531814   |     -      |     -     |   2.91   \n",
      "   4    |   100   |   0.552220   |     -      |     -     |   2.88   \n",
      "   4    |   120   |   0.523051   |     -      |     -     |   2.90   \n",
      "   4    |   140   |   0.544707   |     -      |     -     |   2.88   \n",
      "   4    |   160   |   0.501509   |     -      |     -     |   2.86   \n",
      "   4    |   180   |   0.499488   |     -      |     -     |   2.86   \n",
      "   4    |   200   |   0.522156   |     -      |     -     |   2.87   \n",
      "   4    |   220   |   0.535952   |     -      |     -     |   2.90   \n",
      "   4    |   240   |   0.536536   |     -      |     -     |   2.88   \n",
      "   4    |   260   |   0.518287   |     -      |     -     |   2.88   \n",
      "   4    |   280   |   0.523072   |     -      |     -     |   2.90   \n",
      "   4    |   300   |   0.457623   |     -      |     -     |   2.88   \n",
      "   4    |   320   |   0.522315   |     -      |     -     |   2.87   \n",
      "   4    |   340   |   0.556717   |     -      |     -     |   2.89   \n",
      "   4    |   360   |   0.536460   |     -      |     -     |   2.87   \n",
      "   4    |   380   |   0.507373   |     -      |     -     |   2.88   \n",
      "   4    |   400   |   0.549758   |     -      |     -     |   2.88   \n",
      "   4    |   405   |   0.540326   |     -      |     -     |   0.77   \n",
      "----------------------------------------------------------------------\n",
      "   4    |    -    |   0.525584   |  0.601052  |   75.95   |   63.94  \n",
      "----------------------------------------------------------------------\n",
      "\n",
      "\n",
      " Epoch  |  Batch  |  Train Loss  |  Val Loss  |  Val F1   |  Elapsed \n",
      "----------------------------------------------------------------------\n",
      "   5    |   20    |   0.493217   |     -      |     -     |   2.95   \n",
      "   5    |   40    |   0.508401   |     -      |     -     |   2.86   \n",
      "   5    |   60    |   0.449557   |     -      |     -     |   2.89   \n",
      "   5    |   80    |   0.445565   |     -      |     -     |   2.86   \n",
      "   5    |   100   |   0.478589   |     -      |     -     |   2.88   \n",
      "   5    |   120   |   0.411560   |     -      |     -     |   2.90   \n",
      "   5    |   140   |   0.495135   |     -      |     -     |   2.91   \n",
      "   5    |   160   |   0.430381   |     -      |     -     |   2.91   \n",
      "   5    |   180   |   0.482433   |     -      |     -     |   2.92   \n",
      "   5    |   200   |   0.524444   |     -      |     -     |   2.88   \n",
      "   5    |   220   |   0.486094   |     -      |     -     |   2.87   \n",
      "   5    |   240   |   0.445430   |     -      |     -     |   2.87   \n",
      "   5    |   260   |   0.445353   |     -      |     -     |   2.87   \n",
      "   5    |   280   |   0.443716   |     -      |     -     |   2.87   \n",
      "   5    |   300   |   0.505562   |     -      |     -     |   2.85   \n",
      "   5    |   320   |   0.452865   |     -      |     -     |   2.89   \n",
      "   5    |   340   |   0.473763   |     -      |     -     |   2.86   \n",
      "   5    |   360   |   0.464108   |     -      |     -     |   2.85   \n",
      "   5    |   380   |   0.442757   |     -      |     -     |   2.82   \n",
      "   5    |   400   |   0.445206   |     -      |     -     |   2.81   \n",
      "   5    |   405   |   0.535591   |     -      |     -     |   0.74   \n",
      "----------------------------------------------------------------------\n",
      "   5    |    -    |   0.467128   |  0.622401  |   75.54   |   63.28  \n",
      "----------------------------------------------------------------------\n",
      "\n",
      "\n",
      "Training complete. Best result: 75.95009157509158 | epoch 3.\n"
     ]
    }
   ],
   "source": [
    "set_seed(SEED)\n",
    "loss_fn = nn.CrossEntropyLoss()\n",
    "transformer_classifier, optimizer, scheduler = initialize_model(MODEL_CLASS, MODEL_NAME, MODEL_LAYERS, MODEL_DROPOUT_LAYERS, len(train_dataloader), epochs=EPOCHS, freeze=FREEZE)\n",
    "\n",
    "execution_params = {\n",
    "    'model_class':MODEL_CLASS,\n",
    "    'model_tokenizer': MODEL_TOKENIZER,\n",
    "    'model_name': MODEL_NAME,\n",
    "    'model_layers': MODEL_LAYERS,\n",
    "    'model_dropout_layers': MODEL_DROPOUT_LAYERS,\n",
    "    'freeze': FREEZE,\n",
    "    'batch_size': BATCH_SIZE,\n",
    "    'epochs': EPOCHS,\n",
    "    'model_definition': transformer_classifier.classifier,\n",
    "    'scheduler': scheduler,\n",
    "    'optimizer': optimizer,\n",
    "    'seed': SEED,\n",
    "    'device': get_device()\n",
    "}\n",
    "\n",
    "with mlflow.start_run(run_name=EXPERIMENT_RUN_NAME, experiment_id=EXPERIMENT_ID) as main_run:\n",
    "    mlflow.log_params(format_nested_parameters(preprocessing_params, 'preprocessing'))\n",
    "    mlflow.log_params(format_nested_parameters(execution_params, 'execution'))\n",
    "    \n",
    "    mlflow.log_param('X_training', X_train.shape)\n",
    "    mlflow.log_param('X_test', X_test.shape)\n",
    "\n",
    "    start_time = time.time()\n",
    "    transformer_classifier = train(transformer_classifier, loss_fn, optimizer, scheduler, train_dataloader, test_dataloader, epochs=EPOCHS, evaluation=True)    \n",
    "    training_time = time.time() - start_time\n",
    "    \n",
    "    mlflow.pytorch.log_model(transformer_classifier, \"model\")\n",
    "    mlflow.log_metric('training_time', training_time)\n",
    "\n",
    "    probs = predict(transformer_classifier, test_dataloader)\n",
    "    \n",
    "    eval_metric = metrics.f1_score(y_test, probs.argmax(axis=1), average=None)\n",
    "    global_eval_metric = metrics.f1_score(y_test, probs.argmax(axis=1), average='micro')\n",
    "    mlflow.log_metric('F1-Measure', global_eval_metric)\n",
    "\n",
    "    evaluation_summary_frame = (pd.DataFrame([eval_metric], columns=['F1-Neg', 'F1-Neu', 'F1-Pos'])\n",
    "                                .assign(F1=global_eval_metric)\n",
    "                                [['F1-Pos', 'F1-Neu', 'F1-Neg', 'F1']]\n",
    "                               )\n",
    "    for ix, metric in enumerate(['F1-Neg', 'F1-Neu', 'F1-Pos']):\n",
    "        mlflow.log_metric(metric, evaluation_summary_frame.loc[0][metric])\n",
    "    evaluation_summary_frame['F1-Measure'] = global_eval_metric\n",
    "\n",
    "    evaluation_summary_frame.to_csv('../data/log/experiment_runs_summary.csv')\n",
    "    evaluation_summary_frame.to_html('../data/log/experiment_runs_summary.html')\n",
    "    mlflow.log_artifact('../data/log')\n",
    "\n",
    "    del train_inputs, train_masks, train_data, train_labels, train_sampler, train_dataloader\n",
    "    del test_inputs, test_masks, test_data, test_labels, test_sampler, test_dataloader\n",
    "    del optimizer, scheduler, loss_fn\n",
    "    del transformer_classifier, tokenizer, token_ids, probs\n",
    "\n",
    "    torch.cuda.empty_cache()\n",
    "    torch.cuda.synchronize()\n",
    "    gc.collect()    "
   ]
  },
  {
   "cell_type": "markdown",
   "metadata": {
    "id": "D5ostg9kPlra"
   },
   "source": [
    "## Experiments Results"
   ]
  },
  {
   "cell_type": "code",
   "execution_count": 15,
   "metadata": {},
   "outputs": [
    {
     "data": {
      "text/html": [
       "<h3>Test</h3>"
      ],
      "text/plain": [
       "<IPython.core.display.HTML object>"
      ]
     },
     "metadata": {},
     "output_type": "display_data"
    },
    {
     "data": {
      "text/html": [
       "<div>\n",
       "<style scoped>\n",
       "    .dataframe tbody tr th:only-of-type {\n",
       "        vertical-align: middle;\n",
       "    }\n",
       "\n",
       "    .dataframe tbody tr th {\n",
       "        vertical-align: top;\n",
       "    }\n",
       "\n",
       "    .dataframe thead th {\n",
       "        text-align: right;\n",
       "    }\n",
       "</style>\n",
       "<table border=\"1\" class=\"dataframe\">\n",
       "  <thead>\n",
       "    <tr style=\"text-align: right;\">\n",
       "      <th></th>\n",
       "      <th>F1-Pos</th>\n",
       "      <th>F1-Neu</th>\n",
       "      <th>F1-Neg</th>\n",
       "      <th>F1</th>\n",
       "      <th>F1-Measure</th>\n",
       "    </tr>\n",
       "  </thead>\n",
       "  <tbody>\n",
       "    <tr>\n",
       "      <th>0</th>\n",
       "      <td>0.832427</td>\n",
       "      <td>0.617284</td>\n",
       "      <td>0.763636</td>\n",
       "      <td>0.759701</td>\n",
       "      <td>0.759701</td>\n",
       "    </tr>\n",
       "  </tbody>\n",
       "</table>\n",
       "</div>"
      ],
      "text/plain": [
       "     F1-Pos    F1-Neu    F1-Neg        F1  F1-Measure\n",
       "0  0.832427  0.617284  0.763636  0.759701    0.759701"
      ]
     },
     "metadata": {},
     "output_type": "display_data"
    }
   ],
   "source": [
    "display(HTML('<h3>Test</h3>'))\n",
    "display(evaluation_summary_frame)"
   ]
  },
  {
   "cell_type": "code",
   "execution_count": null,
   "metadata": {},
   "outputs": [],
   "source": []
  }
 ],
 "metadata": {
  "accelerator": "GPU",
  "colab": {
   "collapsed_sections": [],
   "name": "Porcamente Adaptado de  BERT-for-Sentiment-Analysis.ipynb",
   "provenance": [
    {
     "file_id": "1f32gj5IYIyFipoINiC8P3DvKat-WWLUK",
     "timestamp": 1604420331516
    }
   ],
   "toc_visible": true
  },
  "kernelspec": {
   "display_name": "Python 3",
   "language": "python",
   "name": "python3"
  },
  "language_info": {
   "codemirror_mode": {
    "name": "ipython",
    "version": 3
   },
   "file_extension": ".py",
   "mimetype": "text/x-python",
   "name": "python",
   "nbconvert_exporter": "python",
   "pygments_lexer": "ipython3",
   "version": "3.8.5"
  }
 },
 "nbformat": 4,
 "nbformat_minor": 4
}
